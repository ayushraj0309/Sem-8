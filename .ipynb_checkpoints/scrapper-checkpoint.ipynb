{
 "cells": [
  {
   "cell_type": "code",
   "execution_count": 6,
   "id": "b5a976e3-8e1b-4011-9ad0-49db928cbd0c",
   "metadata": {},
   "outputs": [
    {
     "name": "stdout",
     "output_type": "stream",
     "text": [
      "Requirement already satisfied: selenium in c:\\users\\asus\\appdata\\local\\programs\\python\\python37\\lib\\site-packages (4.1.3)\n",
      "Requirement already satisfied: urllib3[secure,socks]~=1.26 in c:\\users\\asus\\appdata\\local\\programs\\python\\python37\\lib\\site-packages (from selenium) (1.26.8)\n",
      "Requirement already satisfied: trio-websocket~=0.9 in c:\\users\\asus\\appdata\\local\\programs\\python\\python37\\lib\\site-packages (from selenium) (0.9.2)\n",
      "Requirement already satisfied: trio~=0.17 in c:\\users\\asus\\appdata\\local\\programs\\python\\python37\\lib\\site-packages (from selenium) (0.20.0)\n",
      "Requirement already satisfied: attrs>=19.2.0 in c:\\users\\asus\\appdata\\local\\programs\\python\\python37\\lib\\site-packages (from trio~=0.17->selenium) (21.2.0)\n",
      "Requirement already satisfied: cffi>=1.14 in c:\\users\\asus\\appdata\\local\\programs\\python\\python37\\lib\\site-packages (from trio~=0.17->selenium) (1.14.5)\n",
      "Requirement already satisfied: idna in c:\\users\\asus\\appdata\\local\\programs\\python\\python37\\lib\\site-packages (from trio~=0.17->selenium) (2.8)\n",
      "Requirement already satisfied: sortedcontainers in c:\\users\\asus\\appdata\\local\\programs\\python\\python37\\lib\\site-packages (from trio~=0.17->selenium) (2.3.0)\n",
      "Requirement already satisfied: outcome in c:\\users\\asus\\appdata\\local\\programs\\python\\python37\\lib\\site-packages (from trio~=0.17->selenium) (1.1.0)\n",
      "Requirement already satisfied: sniffio in c:\\users\\asus\\appdata\\local\\programs\\python\\python37\\lib\\site-packages (from trio~=0.17->selenium) (1.2.0)\n",
      "Requirement already satisfied: async-generator>=1.9 in c:\\users\\asus\\appdata\\local\\programs\\python\\python37\\lib\\site-packages (from trio~=0.17->selenium) (1.10)\n",
      "Requirement already satisfied: wsproto>=0.14 in c:\\users\\asus\\appdata\\local\\programs\\python\\python37\\lib\\site-packages (from trio-websocket~=0.9->selenium) (1.1.0)\n",
      "Requirement already satisfied: pyOpenSSL>=0.14 in c:\\users\\asus\\appdata\\local\\programs\\python\\python37\\lib\\site-packages (from urllib3[secure,socks]~=1.26->selenium) (22.0.0)\n",
      "Requirement already satisfied: cryptography>=1.3.4 in c:\\users\\asus\\appdata\\local\\programs\\python\\python37\\lib\\site-packages (from urllib3[secure,socks]~=1.26->selenium) (36.0.1)\n",
      "Requirement already satisfied: certifi in c:\\users\\asus\\appdata\\local\\programs\\python\\python37\\lib\\site-packages (from urllib3[secure,socks]~=1.26->selenium) (2019.6.16)\n",
      "Requirement already satisfied: PySocks!=1.5.7,<2.0,>=1.5.6 in c:\\users\\asus\\appdata\\local\\programs\\python\\python37\\lib\\site-packages (from urllib3[secure,socks]~=1.26->selenium) (1.7.1)\n",
      "Requirement already satisfied: pycparser in c:\\users\\asus\\appdata\\local\\programs\\python\\python37\\lib\\site-packages (from cffi>=1.14->trio~=0.17->selenium) (2.20)\n",
      "Requirement already satisfied: h11<1,>=0.9.0 in c:\\users\\asus\\appdata\\local\\programs\\python\\python37\\lib\\site-packages (from wsproto>=0.14->trio-websocket~=0.9->selenium) (0.13.0)\n",
      "Requirement already satisfied: typing-extensions in c:\\users\\asus\\appdata\\roaming\\python\\python37\\site-packages (from h11<1,>=0.9.0->wsproto>=0.14->trio-websocket~=0.9->selenium) (3.7.4.3)\n"
     ]
    }
   ],
   "source": [
    "!pip3 install selenium"
   ]
  },
  {
   "cell_type": "code",
   "execution_count": 7,
   "id": "38b105e1-0e39-4255-a177-0248effd978d",
   "metadata": {},
   "outputs": [
    {
     "name": "stdout",
     "output_type": "stream",
     "text": [
      "Requirement already satisfied: beautifulsoup4 in c:\\users\\asus\\appdata\\local\\programs\\python\\python37\\lib\\site-packages (4.10.0)\n",
      "Requirement already satisfied: soupsieve>1.2 in c:\\users\\asus\\appdata\\local\\programs\\python\\python37\\lib\\site-packages (from beautifulsoup4) (2.3.1)\n"
     ]
    }
   ],
   "source": [
    "!pip3 install beautifulsoup4"
   ]
  },
  {
   "cell_type": "code",
   "execution_count": 10,
   "id": "6135644f-0c63-473d-94c8-10a2f7c6a7ac",
   "metadata": {},
   "outputs": [
    {
     "name": "stdout",
     "output_type": "stream",
     "text": [
      "Collecting lxml\n",
      "  Downloading lxml-4.8.0-cp37-cp37m-win_amd64.whl (3.6 MB)\n",
      "     ---------------------------------------- 3.6/3.6 MB 5.2 MB/s eta 0:00:00\n",
      "Installing collected packages: lxml\n",
      "Successfully installed lxml-4.8.0\n"
     ]
    }
   ],
   "source": [
    "!pip3 install lxml"
   ]
  },
  {
   "cell_type": "code",
   "execution_count": 48,
   "id": "774d7c35-a628-415f-b7d3-faec85d46af2",
   "metadata": {},
   "outputs": [
    {
     "name": "stdout",
     "output_type": "stream",
     "text": [
      "Requirement already satisfied: six in c:\\users\\asus\\appdata\\roaming\\python\\python37\\site-packages (1.15.0)\n"
     ]
    }
   ],
   "source": [
    "!pip3 install six"
   ]
  },
  {
   "cell_type": "code",
   "execution_count": 463,
   "id": "54e993c4-2b2d-4bc8-ae9d-eefc35119b42",
   "metadata": {},
   "outputs": [],
   "source": [
    "import requests, time, random\n",
    "from bs4 import BeautifulSoup\n",
    "from selenium import webdriver\n",
    "from six import iteritems"
   ]
  },
  {
   "cell_type": "code",
   "execution_count": 464,
   "id": "c6a235f2-50b3-4ee1-807e-88ad3194e31f",
   "metadata": {},
   "outputs": [
    {
     "name": "stderr",
     "output_type": "stream",
     "text": [
      "c:\\users\\asus\\appdata\\local\\programs\\python\\python37\\lib\\site-packages\\ipykernel_launcher.py:1: DeprecationWarning: executable_path has been deprecated, please pass in a Service object\n",
      "  \"\"\"Entry point for launching an IPython kernel.\n"
     ]
    }
   ],
   "source": [
    "browser = webdriver.Chrome('driver/chromedriver.exe')"
   ]
  },
  {
   "cell_type": "code",
   "execution_count": 465,
   "id": "8d398086-f67c-415f-90ff-a74952ad36fb",
   "metadata": {},
   "outputs": [
    {
     "name": "stderr",
     "output_type": "stream",
     "text": [
      "c:\\users\\asus\\appdata\\local\\programs\\python\\python37\\lib\\site-packages\\ipykernel_launcher.py:8: DeprecationWarning: find_element_by_* commands are deprecated. Please use find_element() instead\n",
      "  \n",
      "c:\\users\\asus\\appdata\\local\\programs\\python\\python37\\lib\\site-packages\\ipykernel_launcher.py:11: DeprecationWarning: find_element_by_* commands are deprecated. Please use find_element() instead\n",
      "  # This is added back by InteractiveShellApp.init_path()\n"
     ]
    }
   ],
   "source": [
    "browser.get('https://www.linkedin.com/uas/login')\n",
    "file = open('config.txt')\n",
    "lines = file.readlines()\n",
    "username = lines[0]\n",
    "password = lines[1]\n",
    "\n",
    "\n",
    "elementID = browser.find_element_by_id('username')\n",
    "elementID.send_keys(username)\n",
    "\n",
    "elementID = browser.find_element_by_id('password')\n",
    "elementID.send_keys(password)\n",
    "\n",
    "elementID.submit()"
   ]
  },
  {
   "cell_type": "code",
   "execution_count": 376,
   "id": "18a300b3-bd6d-40bb-b769-bfde00708c7f",
   "metadata": {},
   "outputs": [],
   "source": [
    "# https://www.linkedin.com/check/add-phone?country_code=in\n",
    "# print(browser)\n",
    "# elementID = browser.find_element_by_id('username')\n",
    "# print('elementID', elementID)"
   ]
  },
  {
   "cell_type": "code",
   "execution_count": 450,
   "id": "003b7ca7-ed18-41ca-8193-eb074a7de00c",
   "metadata": {},
   "outputs": [],
   "source": [
    "# link = 'https://www.linkedin.com/in/nikhil-gujrati-1408931ab/'\n",
    "link = 'https://www.linkedin.com/in/rishabh-singh-61b706114/'\n",
    "browser.get(link)"
   ]
  },
  {
   "cell_type": "code",
   "execution_count": 452,
   "id": "5cf95ef6-ba8e-4d5b-b85f-38d7730b52c5",
   "metadata": {},
   "outputs": [],
   "source": [
    "SCROLL_PAUSE_TIME = 5\n",
    "\n",
    "# Get scroll height\n",
    "last_height = browser.execute_script(\"return document.body.scrollHeight\")\n",
    "\n",
    "for i in range(3):\n",
    "    # Scroll down to bottom\n",
    "    browser.execute_script(\"window.scrollTo(0, document.body.scrollHeight);\")\n",
    "\n",
    "    # Wait to load page\n",
    "    time.sleep(SCROLL_PAUSE_TIME)\n",
    "\n",
    "    # Calculate new scroll height and compare with last scroll height\n",
    "    new_height = browser.execute_script(\"return document.body.scrollHeight\")\n",
    "    if new_height == last_height:\n",
    "        break\n",
    "    last_height = new_height"
   ]
  },
  {
   "cell_type": "code",
   "execution_count": 453,
   "id": "d0dafb57-eda4-434d-aded-652065ec5164",
   "metadata": {},
   "outputs": [],
   "source": [
    "def printDict(_dict):\n",
    "    for key, value in iteritems(_dict):\n",
    "        print(key,':',value)\n",
    "\n",
    "def printListDic(all_exp):\n",
    "    for _dict in all_exp:\n",
    "        printDict(_dict)\n",
    "        print()"
   ]
  },
  {
   "cell_type": "code",
   "execution_count": 454,
   "id": "bcd1332f-64c1-47aa-b9fc-d271abdb198a",
   "metadata": {},
   "outputs": [],
   "source": [
    "import re"
   ]
  },
  {
   "cell_type": "code",
   "execution_count": 455,
   "id": "b15cae40-f6d0-4ce9-a2aa-47b84fa481b4",
   "metadata": {},
   "outputs": [],
   "source": [
    "src = browser.page_source\n",
    "soup = BeautifulSoup(src, 'lxml')"
   ]
  },
  {
   "cell_type": "code",
   "execution_count": 456,
   "id": "c136d87b-5eee-4822-bdcc-c2a71c92118b",
   "metadata": {},
   "outputs": [
    {
     "name": "stdout",
     "output_type": "stream",
     "text": [
      "Name : Rishabh Singh\n",
      "Location : Bengaluru, Karnataka, India\n"
     ]
    }
   ],
   "source": [
    "def getProfileName(bs):\n",
    "    name_div = bs.find('div', {'class': 'mt2 relative'})\n",
    "    name_loc = name_div.find_all('div')\n",
    "    name = name_loc[0].find('h1').get_text().strip()\n",
    "    return str(name)\n",
    "\n",
    "def getProfileLocation(bs):\n",
    "    name_div = bs.find('div', {'class': 'mt2 relative'})\n",
    "    name_loc = name_div.find_all('div')\n",
    "    if len(name_loc) == 0:\n",
    "        return 'None'\n",
    "    loc = name_loc[-1].find('span').get_text().strip()\n",
    "    return str(loc)\n",
    "\n",
    "def getBasicProfileInfo(bs):\n",
    "    info = {}\n",
    "    info['Name'] = getProfileName(bs)\n",
    "    info['Location'] = getProfileLocation(bs)\n",
    "    return info\n",
    "basicProfileInfo = getBasicProfileInfo(soup)\n",
    "printDict(basicProfileInfo)"
   ]
  },
  {
   "cell_type": "code",
   "execution_count": 466,
   "id": "106129fe-0bd1-4b54-9f40-e88b03842670",
   "metadata": {},
   "outputs": [
    {
     "name": "stdout",
     "output_type": "stream",
     "text": [
      "Job Title : FPGA Engineer\n",
      "Company : Honeywell\n",
      "Time Period : Aug 2019 - May 2021\n",
      "\n",
      "Job Title : FPGA Design Engineer\n",
      "Company : L&T Technology Services Limited\n",
      "Time Period : Jan 2017 - Jul 2019\n",
      "\n"
     ]
    }
   ],
   "source": [
    "def getExpTitle(all_exp_spans):\n",
    "    if len(all_exp_spans) < 2:\n",
    "        return 'None'\n",
    "    job_title = all_exp_spans[1].get_text().strip()\n",
    "    return str(job_title)\n",
    "\n",
    "def getExpCompany(all_exp_spans):\n",
    "    if len(all_exp_spans) < 4:\n",
    "        return 'None'\n",
    "    company = all_exp_spans[3].get_text().strip().split(' · ')[0]\n",
    "    return str(company)\n",
    "\n",
    "def getExpTimePeriod(all_exp_spans):\n",
    "    if len(all_exp_spans) < 7:\n",
    "        return 'None'\n",
    "    time_period = all_exp_spans[6].get_text().strip().split(' · ')[0]\n",
    "    return str(time_period)\n",
    "\n",
    "def getExpInfo(exp):\n",
    "    info = {}\n",
    "    all_exp_spans = exp.find_all('span')\n",
    "    job_title = getExpTitle(all_exp_spans)\n",
    "    company = getExpCompany(all_exp_spans)\n",
    "    time_period = getExpTimePeriod(all_exp_spans)\n",
    "    \n",
    "    info['Job Title'] = job_title\n",
    "    info['Company'] = company\n",
    "    info['Time Period'] = time_period\n",
    "    return info\n",
    "    \n",
    "def getExperienceSetions(bs):\n",
    "    profile_sections = bs.findAll('section')\n",
    "    exp_profile_section = None\n",
    "    for profile_section in profile_sections:\n",
    "        x = profile_section.find('div', {'id': 'experience'})\n",
    "        if x is not None:\n",
    "            exp_profile_section = profile_section\n",
    "            break\n",
    "    if exp_profile_section is None:\n",
    "        return {}\n",
    "    exp_sections = exp_profile_section.find_all('div', {'class': 'display-flex flex-column full-width align-self-center'})\n",
    "    return exp_sections\n",
    "\n",
    "def getAllExperieceInfo(bs):\n",
    "    all_experiences = []\n",
    "    exp_sections = getExperienceSetions(bs)\n",
    "    for exp in exp_sections:\n",
    "        all_experiences.append(getExpInfo(exp))\n",
    "    return all_experiences\n",
    "\n",
    "all_experiences = getAllExperieceInfo(soup)\n",
    "printListDic(all_experiences)"
   ]
  },
  {
   "cell_type": "code",
   "execution_count": 467,
   "id": "864008fa-593e-48d9-b096-11b27c22796a",
   "metadata": {},
   "outputs": [
    {
     "name": "stdout",
     "output_type": "stream",
     "text": [
      "Insititution ID : https://www.linkedin.com/company/15148722/\n",
      "Insititution : Technocrats Institute of Technology (Excellence), Anand Nagar, PB No. 24, Post Piplani, BHEL, Bhopal - 462021\n",
      "Course : Bachelor of Engineering (B.E.)\n",
      "Discipline :  Electrical, Electronics and Communications Engineering\n",
      "Time Period : 2012 - 2016\n",
      "\n",
      "Insititution ID : https://www.linkedin.com/search/results/all/?keywords=S%2EH%2ES%2EB%2EB\n",
      "Insititution : S.H.S.B.B\n",
      "Course : PCM\n",
      "Discipline : None\n",
      "Time Period : None\n",
      "\n"
     ]
    }
   ],
   "source": [
    "def getEduSchoolID(edu):\n",
    "    href_class = edu.findAll('a')\n",
    "    if href_class is None or len(href_class) == 0:\n",
    "        return 'None'\n",
    "    school_url = href_class[0].attrs.get('href', None)\n",
    "    if school_url is None:\n",
    "        return 'None'\n",
    "    return str(school_url)\n",
    "\n",
    "def getEduSchool(all_edu_spans):\n",
    "    if len(all_edu_spans) < 2:\n",
    "        return 'None'\n",
    "    job_title = all_edu_spans[1].get_text().strip()\n",
    "    return str(job_title)\n",
    "\n",
    "def getEduCourse(all_edu_spans):\n",
    "    if len(all_edu_spans) < 4:\n",
    "        return 'None'\n",
    "    course_and_discipline = all_edu_spans[4].get_text().strip().split(',')\n",
    "    if len(course_and_discipline) < 1:\n",
    "        return 'None'\n",
    "    course = course_and_discipline[0]\n",
    "    return str(course)\n",
    "\n",
    "def getEduDiscipline(all_edu_spans):\n",
    "    if len(all_edu_spans) < 4:\n",
    "        return 'None'\n",
    "    line_text = all_edu_spans[4].get_text()\n",
    "    course_and_discipline = line_text.strip().split(',')\n",
    "    if len(course_and_discipline) < 2:\n",
    "        return 'None'\n",
    "    ind = line_text.find(', ')\n",
    "    discipline = line_text[ind+1:]\n",
    "    return str(discipline)\n",
    "\n",
    "def getEduTimePeriod(all_edu_spans):\n",
    "    if len(all_edu_spans) < 8:\n",
    "        return 'None'\n",
    "    time_period = all_edu_spans[7].get_text().strip()\n",
    "    return str(time_period)\n",
    "\n",
    "def getEduInfo(edu):\n",
    "    info = {}\n",
    "    # print(edu)\n",
    "    all_edu_spans = edu.find_all('span')\n",
    "    school_url_id = getEduSchoolID(edu)\n",
    "    school = getEduSchool(all_edu_spans)\n",
    "    course = getEduCourse(all_edu_spans)\n",
    "    discipline = getEduDiscipline(all_edu_spans)\n",
    "    time_period = getEduTimePeriod(all_edu_spans)\n",
    "    info['Insititution ID'] = school_url_id\n",
    "    info['Insititution'] = school\n",
    "    info['Course'] = course\n",
    "    info['Discipline'] = discipline\n",
    "    info['Time Period'] = time_period\n",
    "    return info\n",
    "    \n",
    "def getEducationSetions(bs):\n",
    "    profile_sections = bs.findAll('section')\n",
    "    edu_profile_section = None\n",
    "    for profile_section in profile_sections:\n",
    "        x = profile_section.find('div', {'id': 'education'})\n",
    "        if x is not None:\n",
    "            edu_profile_section = profile_section\n",
    "            break\n",
    "    if edu_profile_section is None:\n",
    "        return {}\n",
    "    edu_sections = edu_profile_section.find_all('div', {'class': 'display-flex flex-column full-width align-self-center'})\n",
    "    return edu_sections\n",
    "\n",
    "def getAllEducationInfo(bs):\n",
    "    all_educations = []\n",
    "    edu_sections = getEducationSetions(bs)\n",
    "    for edu in edu_sections:\n",
    "        all_educations.append(getEduInfo(edu))\n",
    "    return all_educations\n",
    "\n",
    "all_educations = getAllEducationInfo(soup)\n",
    "printListDic(all_educations)"
   ]
  },
  {
   "cell_type": "code",
   "execution_count": null,
   "id": "2a4c2719-926d-4a5b-b584-bca0ca7fa799",
   "metadata": {},
   "outputs": [],
   "source": []
  },
  {
   "cell_type": "code",
   "execution_count": 468,
   "id": "6051743a-e879-436c-a4e1-e8589396c74a",
   "metadata": {},
   "outputs": [
    {
     "name": "stdout",
     "output_type": "stream",
     "text": [
      "Is IIIT-A student? False\n"
     ]
    }
   ],
   "source": [
    "def is_from_IIITA(all_educations):\n",
    "    IIITA_ID = 'https://www.linkedin.com/company/497317/'\n",
    "    for each_education in all_educations:\n",
    "        if each_education['Insititution ID'] == IIITA_ID:\n",
    "            return True\n",
    "    return False\n",
    "print('Is IIIT-A student?', is_from_IIITA(all_educations))"
   ]
  },
  {
   "cell_type": "code",
   "execution_count": 461,
   "id": "2098b071-b393-46d0-adca-9f6565e375d7",
   "metadata": {},
   "outputs": [],
   "source": [
    "profiles = ['https://www.linkedin.com/in/shivam-gupta-52302516b/',\n",
    "           'https://www.linkedin.com/in/isha-goel30/',\n",
    "           'https://www.linkedin.com/in/richik-bhattacharjee/',\n",
    "           'https://www.linkedin.com/in/sougata-das-4132a616b/',\n",
    "           'https://www.linkedin.com/in/abhi4gupta/',]\n",
    "\n",
    "# for profile_url in profiles:\n",
    "#     browser.get(profile_url)\n",
    "#     print(isConnection(profile_url), profile_url)\n",
    "#     break\n",
    "# profile_url = profiles[1]\n",
    "# browser.get(profile_url)"
   ]
  },
  {
   "cell_type": "code",
   "execution_count": null,
   "id": "f19a116d-8dd4-4219-ae81-73550dcd013f",
   "metadata": {},
   "outputs": [
    {
     "name": "stdout",
     "output_type": "stream",
     "text": [
      "True https://www.linkedin.com/in/shivam-gupta-52302516b/\n"
     ]
    }
   ],
   "source": [
    "def isConnection(profile_url):\n",
    "    # pvs-profile-actions \n",
    "    src = browser.page_source\n",
    "    bs = BeautifulSoup(src, 'lxml')\n",
    "    actions_div = bs.find('div', {'class': 'pvs-profile-actions'})\n",
    "    # print(actions_div)\n",
    "    actions = actions_div.findAll('div', {'class': 'entry-point'})\n",
    "    if actions is None or len(actions) == 0:\n",
    "        return False\n",
    "    if 'aria-hidden=\\\"true\\\"' in str(actions):\n",
    "        return False\n",
    "    return True\n",
    "for profile_url in profiles:\n",
    "    browser.get(profile_url)\n",
    "    time.sleep(2)\n",
    "    print(isConnection(profile_url), profile_url)"
   ]
  },
  {
   "cell_type": "code",
   "execution_count": 562,
   "id": "7dbee972-d034-466c-8a1f-864f7aaf89ce",
   "metadata": {},
   "outputs": [
    {
     "name": "stdout",
     "output_type": "stream",
     "text": [
      "Connect https://www.linkedin.com/in/siddhi-singh-8653801b1/\n",
      "Connected https://www.linkedin.com/in/richik-bhattacharjee/\n",
      "Pending https://www.linkedin.com/in/isha-goel30/\n",
      "Connected https://www.linkedin.com/in/sougata-das-4132a616b/\n",
      "Connected https://www.linkedin.com/in/abhi4gupta/\n"
     ]
    }
   ],
   "source": [
    "def connectionStatus(profile_url):\n",
    "    browser.get(profile_url)\n",
    "    time.sleep(2)\n",
    "    src = browser.page_source\n",
    "    bs = BeautifulSoup(src, 'lxml')\n",
    "    actions_div = bs.find('div', {'class': 'pvs-profile-actions'})\n",
    "    # print(str(actions_div))\n",
    "    if actions_div is None:\n",
    "        return \"Error\"\n",
    "    actions = actions_div.findAll('div', {'class': 'entry-point'})\n",
    "    if ' to connect' in str(actions_div):\n",
    "        return \"Connect\"\n",
    "    if 'Pending' in str(actions_div):\n",
    "        return \"Pending\"\n",
    "    if actions is None or len(actions) == 0:\n",
    "        return \"Unknown\"\n",
    "    return \"Connected\"\n",
    "profiles2 = [\n",
    "            'https://www.linkedin.com/in/siddhi-singh-8653801b1/',\n",
    "            'https://www.linkedin.com/in/richik-bhattacharjee/',\n",
    "            'https://www.linkedin.com/in/isha-goel30/',\n",
    "            'https://www.linkedin.com/in/sougata-das-4132a616b/',\n",
    "           'https://www.linkedin.com/in/abhi4gupta/',\n",
    "            ]\n",
    "for profile_url in profiles2:\n",
    "    print(connectionStatus(profile_url), profile_url)\n",
    "    # break"
   ]
  },
  {
   "cell_type": "code",
   "execution_count": null,
   "id": "c12e5982-3a0e-4916-a7a0-d5d47a2608c6",
   "metadata": {},
   "outputs": [],
   "source": []
  },
  {
   "cell_type": "code",
   "execution_count": null,
   "id": "91eee209-0343-4a78-b2f2-20effb650757",
   "metadata": {},
   "outputs": [],
   "source": []
  },
  {
   "cell_type": "code",
   "execution_count": 563,
   "id": "2126cf3b-275e-480e-984c-3012c295d41c",
   "metadata": {},
   "outputs": [],
   "source": [
    "visitingProfileID = '/in/aarya-tadvalkar-092650193/'\n",
    "fullLink = 'https://www.linkedin.com' + visitingProfileID\n",
    "browser.get(fullLink)"
   ]
  },
  {
   "cell_type": "code",
   "execution_count": 566,
   "id": "d54f851f-bd62-4333-8ec5-f61076d11811",
   "metadata": {},
   "outputs": [
    {
     "data": {
      "text/plain": [
       "['/in/mrudula-ingale/',\n",
       " '/in/vaishnavi-patil-93579816b/',\n",
       " '/in/midhat-shaikh-2001/',\n",
       " '/in/mihir2510/',\n",
       " '/in/devanshi-shah-09/']"
      ]
     },
     "execution_count": 566,
     "metadata": {},
     "output_type": "execute_result"
    }
   ],
   "source": [
    "visitedProfiles = []\n",
    "profilesQueued = []\n",
    "\n",
    "def getPeopleAlsoViewedSection(bs):\n",
    "    profile_sections = bs.findAll('section')\n",
    "    req_profile_section = None\n",
    "    for profile_section in profile_sections:\n",
    "        if 'People also viewed' in str(profile_section):\n",
    "            return profile_section\n",
    "    return None\n",
    "\n",
    "def getNewProfileIDs(soup, profilesQueued):\n",
    "    profilesID = []\n",
    "    # return soup\n",
    "    people_also_viewed_section = getPeopleAlsoViewedSection(soup)\n",
    "    # print(people_also_viewed_section)\n",
    "    all_links = people_also_viewed_section.findAll('a')\n",
    "    for link in all_links:\n",
    "        userID = link.get('href')\n",
    "        if((userID is not None) and (userID not in profilesQueued) and (userID not in visitedProfiles)):\n",
    "            profilesID.append(userID)\n",
    "    return profilesID\n",
    "\n",
    "getNewProfileIDs(BeautifulSoup(browser.page_source), profilesQueued)"
   ]
  },
  {
   "cell_type": "code",
   "execution_count": 567,
   "id": "90e4997f-ba95-493c-84f5-b0671672d0ad",
   "metadata": {},
   "outputs": [],
   "source": [
    "LINKEDIN_BASE_URL = 'https://www.linkedin.com'"
   ]
  },
  {
   "cell_type": "code",
   "execution_count": 569,
   "id": "5db82f04-2279-4c78-a4be-8ee1cbf262ce",
   "metadata": {},
   "outputs": [
    {
     "name": "stdout",
     "output_type": "stream",
     "text": [
      "['/in/abhi4gupta/', '/in/abhirup-das-740981178/', '/in/shivam-gupta-52302516b/', '/in/utkarsh-pandey-95015b170/', '/in/richik-bhattacharjee/', '/in/subharoop-ghosh-943669150/', '/in/aniket-mallick-75572416b/', '/in/sougata-das-4132a616b/']\n"
     ]
    }
   ],
   "source": [
    "def getFollowersList(bs):\n",
    "    followers_url = 'https://www.linkedin.com/feed/followers/'\n",
    "    browser.get(followers_url)\n",
    "    time.sleep(2)\n",
    "    src = browser.page_source\n",
    "    bs = BeautifulSoup(src, 'lxml')\n",
    "    lis = []\n",
    "    all_followers = bs.find('div', {'class': 'feed-following'})\n",
    "    if all_followers is None:\n",
    "        return lis\n",
    "    for each_follower in all_followers.findAll('a'):\n",
    "        follower_id = each_follower.get('href')\n",
    "        if follower_id is None:\n",
    "            continue\n",
    "        lis.append(follower_id)\n",
    "    return list(set(list(lis)))\n",
    "followers = getFollowersList(bs)\n",
    "print(followers)"
   ]
  },
  {
   "cell_type": "code",
   "execution_count": 570,
   "id": "e2f8b717-84aa-4f3a-ba16-4ba3bb3fa982",
   "metadata": {},
   "outputs": [],
   "source": [
    "# import mysql.connector\n",
    "\n",
    "# mydb = mysql.connector.connect(\n",
    "#   host=\"localhost\",\n",
    "#   user=\"root\",\n",
    "#   password=\"pass\"\n",
    "# )\n",
    "\n",
    "# print(mydb)\n",
    "\n",
    "def getIIITFollowers(followers):\n",
    "    IIITFollowers = []\n",
    "    for follower in followers:\n",
    "        follower_url = LINKEDIN_BASE_URL + follower\n",
    "        browser.get(follower_url)\n",
    "        time.sleep(2)\n",
    "        src = browser.page_source\n",
    "        bs = BeautifulSoup(src, 'lxml')\n",
    "        # basicProfileInfo = getBasicProfileInfo(bs)\n",
    "        # all_experiences = getAllExperieceInfo(bs)\n",
    "        all_educations = getAllEducationInfo(bs)\n",
    "        if is_from_IIITA(all_educations):\n",
    "            IIITFollowers.append(follower)\n",
    "        \n",
    "    return IIITFollowers\n",
    "IIITFollowers = getIIITFollowers(followers)"
   ]
  },
  {
   "cell_type": "code",
   "execution_count": 571,
   "id": "6ab95708-de35-4954-9bd5-341b9be7602c",
   "metadata": {},
   "outputs": [
    {
     "name": "stdout",
     "output_type": "stream",
     "text": [
      "['/in/abhi4gupta/']\n"
     ]
    }
   ],
   "source": [
    "print(IIITFollowers)"
   ]
  },
  {
   "cell_type": "code",
   "execution_count": 576,
   "id": "6482c5a1-eb77-4c11-9a59-878b4e1ca96a",
   "metadata": {},
   "outputs": [
    {
     "ename": "SyntaxError",
     "evalue": "EOL while scanning string literal (Temp/ipykernel_17216/1774681574.py, line 9)",
     "output_type": "error",
     "traceback": [
      "\u001b[1;36m  File \u001b[1;32m\"C:\\Users\\Asus\\AppData\\Local\\Temp/ipykernel_17216/1774681574.py\"\u001b[1;36m, line \u001b[1;32m9\u001b[0m\n\u001b[1;33m    print('Some Error Occured!\")\u001b[0m\n\u001b[1;37m                                ^\u001b[0m\n\u001b[1;31mSyntaxError\u001b[0m\u001b[1;31m:\u001b[0m EOL while scanning string literal\n"
     ]
    }
   ],
   "source": [
    "def send_connection_request_with_text(profile_url, text):\n",
    "    if connectionStatus(profile_url) == 'Connect':\n",
    "        broswer.get(profile_url)\n",
    "        broswer.find_element_by_class_name('pvs-profile-actions').click()\n",
    "        try:\n",
    "            return 'Correct Path'\n",
    "            \n",
    "        except Exception as e:\n",
    "            print('Some Error Occured!\")\n",
    "            print(e)\n",
    "send_connection_request_with_text('https://www.linkedin.com/in/priyanka-choubey-7b0074162/', 'Hi Please accept my connection request')"
   ]
  },
  {
   "cell_type": "code",
   "execution_count": null,
   "id": "265ebd50-b10e-41bd-8a6a-69c49861086b",
   "metadata": {},
   "outputs": [],
   "source": [
    "def send_text_to_connection(profile_url, text):\n",
    "    return\n",
    "send_text_to_connection('https://www.linkedin.com/in/abhi4gupta/', 'Hi! Please ignore the text. I am testing my linedin bot')"
   ]
  },
  {
   "cell_type": "code",
   "execution_count": null,
   "id": "0f8629e0-a433-4728-99ac-05822ca0703c",
   "metadata": {},
   "outputs": [],
   "source": []
  }
 ],
 "metadata": {
  "kernelspec": {
   "display_name": "Python 3 (ipykernel)",
   "language": "python",
   "name": "python3"
  },
  "language_info": {
   "codemirror_mode": {
    "name": "ipython",
    "version": 3
   },
   "file_extension": ".py",
   "mimetype": "text/x-python",
   "name": "python",
   "nbconvert_exporter": "python",
   "pygments_lexer": "ipython3",
   "version": "3.7.2"
  }
 },
 "nbformat": 4,
 "nbformat_minor": 5
}
