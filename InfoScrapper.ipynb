{
 "cells": [
  {
   "cell_type": "code",
   "execution_count": 185,
   "id": "8eb5fea3-e263-41e1-897c-e573bce976c7",
   "metadata": {},
   "outputs": [
    {
     "name": "stdout",
     "output_type": "stream",
     "text": [
      "Requirement already satisfied: ipywidgets in c:\\users\\asus\\appdata\\local\\programs\\python\\python37\\lib\\site-packages (7.7.0)\n",
      "Requirement already satisfied: nbformat>=4.2.0 in c:\\users\\asus\\appdata\\local\\programs\\python\\python37\\lib\\site-packages (from ipywidgets) (5.1.3)\n",
      "Requirement already satisfied: jupyterlab-widgets>=1.0.0 in c:\\users\\asus\\appdata\\local\\programs\\python\\python37\\lib\\site-packages (from ipywidgets) (1.1.0)\n",
      "Requirement already satisfied: traitlets>=4.3.1 in c:\\users\\asus\\appdata\\local\\programs\\python\\python37\\lib\\site-packages (from ipywidgets) (5.1.0)\n",
      "Requirement already satisfied: ipython-genutils~=0.2.0 in c:\\users\\asus\\appdata\\local\\programs\\python\\python37\\lib\\site-packages (from ipywidgets) (0.2.0)\n",
      "Requirement already satisfied: ipykernel>=4.5.1 in c:\\users\\asus\\appdata\\local\\programs\\python\\python37\\lib\\site-packages (from ipywidgets) (6.4.1)\n",
      "Requirement already satisfied: ipython>=4.0.0 in c:\\users\\asus\\appdata\\local\\programs\\python\\python37\\lib\\site-packages (from ipywidgets) (7.28.0)\n",
      "Requirement already satisfied: widgetsnbextension~=3.6.0 in c:\\users\\asus\\appdata\\local\\programs\\python\\python37\\lib\\site-packages (from ipywidgets) (3.6.0)\n",
      "Requirement already satisfied: tornado<7.0,>=4.2 in c:\\users\\asus\\appdata\\local\\programs\\python\\python37\\lib\\site-packages (from ipykernel>=4.5.1->ipywidgets) (6.1)\n",
      "Requirement already satisfied: argcomplete>=1.12.3 in c:\\users\\asus\\appdata\\local\\programs\\python\\python37\\lib\\site-packages (from ipykernel>=4.5.1->ipywidgets) (1.12.3)\n",
      "Requirement already satisfied: jupyter-client<8.0 in c:\\users\\asus\\appdata\\local\\programs\\python\\python37\\lib\\site-packages (from ipykernel>=4.5.1->ipywidgets) (7.0.6)\n",
      "Requirement already satisfied: debugpy<2.0,>=1.0.0 in c:\\users\\asus\\appdata\\local\\programs\\python\\python37\\lib\\site-packages (from ipykernel>=4.5.1->ipywidgets) (1.5.0)\n",
      "Requirement already satisfied: importlib-metadata<5 in c:\\users\\asus\\appdata\\local\\programs\\python\\python37\\lib\\site-packages (from ipykernel>=4.5.1->ipywidgets) (3.7.0)\n",
      "Requirement already satisfied: matplotlib-inline<0.2.0,>=0.1.0 in c:\\users\\asus\\appdata\\local\\programs\\python\\python37\\lib\\site-packages (from ipykernel>=4.5.1->ipywidgets) (0.1.3)\n",
      "Requirement already satisfied: prompt-toolkit!=3.0.0,!=3.0.1,<3.1.0,>=2.0.0 in c:\\users\\asus\\appdata\\local\\programs\\python\\python37\\lib\\site-packages (from ipython>=4.0.0->ipywidgets) (3.0.20)\n",
      "Requirement already satisfied: jedi>=0.16 in c:\\users\\asus\\appdata\\local\\programs\\python\\python37\\lib\\site-packages (from ipython>=4.0.0->ipywidgets) (0.18.0)\n",
      "Requirement already satisfied: pygments in c:\\users\\asus\\appdata\\local\\programs\\python\\python37\\lib\\site-packages (from ipython>=4.0.0->ipywidgets) (2.8.1)\n",
      "Requirement already satisfied: decorator in c:\\users\\asus\\appdata\\local\\programs\\python\\python37\\lib\\site-packages (from ipython>=4.0.0->ipywidgets) (4.4.2)\n",
      "Requirement already satisfied: setuptools>=18.5 in c:\\users\\asus\\appdata\\local\\programs\\python\\python37\\lib\\site-packages (from ipython>=4.0.0->ipywidgets) (53.1.0)\n",
      "Requirement already satisfied: backcall in c:\\users\\asus\\appdata\\local\\programs\\python\\python37\\lib\\site-packages (from ipython>=4.0.0->ipywidgets) (0.2.0)\n",
      "Requirement already satisfied: colorama in c:\\users\\asus\\appdata\\local\\programs\\python\\python37\\lib\\site-packages (from ipython>=4.0.0->ipywidgets) (0.4.4)\n",
      "Requirement already satisfied: pickleshare in c:\\users\\asus\\appdata\\local\\programs\\python\\python37\\lib\\site-packages (from ipython>=4.0.0->ipywidgets) (0.7.5)\n",
      "Requirement already satisfied: jupyter-core in c:\\users\\asus\\appdata\\local\\programs\\python\\python37\\lib\\site-packages (from nbformat>=4.2.0->ipywidgets) (4.8.1)\n",
      "Requirement already satisfied: jsonschema!=2.5.0,>=2.4 in c:\\users\\asus\\appdata\\local\\programs\\python\\python37\\lib\\site-packages (from nbformat>=4.2.0->ipywidgets) (4.1.0)\n",
      "Requirement already satisfied: notebook>=4.4.1 in c:\\users\\asus\\appdata\\local\\programs\\python\\python37\\lib\\site-packages (from widgetsnbextension~=3.6.0->ipywidgets) (6.4.4)\n",
      "Requirement already satisfied: zipp>=0.5 in c:\\users\\asus\\appdata\\local\\programs\\python\\python37\\lib\\site-packages (from importlib-metadata<5->ipykernel>=4.5.1->ipywidgets) (3.4.0)\n",
      "Requirement already satisfied: typing-extensions>=3.6.4 in c:\\users\\asus\\appdata\\roaming\\python\\python37\\site-packages (from importlib-metadata<5->ipykernel>=4.5.1->ipywidgets) (3.7.4.3)\n",
      "Requirement already satisfied: parso<0.9.0,>=0.8.0 in c:\\users\\asus\\appdata\\local\\programs\\python\\python37\\lib\\site-packages (from jedi>=0.16->ipython>=4.0.0->ipywidgets) (0.8.2)\n",
      "Requirement already satisfied: pyrsistent!=0.17.0,!=0.17.1,!=0.17.2,>=0.14.0 in c:\\users\\asus\\appdata\\local\\programs\\python\\python37\\lib\\site-packages (from jsonschema!=2.5.0,>=2.4->nbformat>=4.2.0->ipywidgets) (0.18.0)\n",
      "Requirement already satisfied: attrs>=17.4.0 in c:\\users\\asus\\appdata\\local\\programs\\python\\python37\\lib\\site-packages (from jsonschema!=2.5.0,>=2.4->nbformat>=4.2.0->ipywidgets) (21.2.0)\n",
      "Requirement already satisfied: python-dateutil>=2.1 in c:\\users\\asus\\appdata\\local\\programs\\python\\python37\\lib\\site-packages (from jupyter-client<8.0->ipykernel>=4.5.1->ipywidgets) (2.8.1)\n",
      "Requirement already satisfied: nest-asyncio>=1.5 in c:\\users\\asus\\appdata\\local\\programs\\python\\python37\\lib\\site-packages (from jupyter-client<8.0->ipykernel>=4.5.1->ipywidgets) (1.5.1)\n",
      "Requirement already satisfied: entrypoints in c:\\users\\asus\\appdata\\local\\programs\\python\\python37\\lib\\site-packages (from jupyter-client<8.0->ipykernel>=4.5.1->ipywidgets) (0.3)\n",
      "Requirement already satisfied: pyzmq>=13 in c:\\users\\asus\\appdata\\local\\programs\\python\\python37\\lib\\site-packages (from jupyter-client<8.0->ipykernel>=4.5.1->ipywidgets) (22.3.0)\n",
      "Requirement already satisfied: pywin32>=1.0 in c:\\users\\asus\\appdata\\local\\programs\\python\\python37\\lib\\site-packages (from jupyter-core->nbformat>=4.2.0->ipywidgets) (302)\n",
      "Requirement already satisfied: prometheus-client in c:\\users\\asus\\appdata\\local\\programs\\python\\python37\\lib\\site-packages (from notebook>=4.4.1->widgetsnbextension~=3.6.0->ipywidgets) (0.11.0)\n",
      "Requirement already satisfied: terminado>=0.8.3 in c:\\users\\asus\\appdata\\local\\programs\\python\\python37\\lib\\site-packages (from notebook>=4.4.1->widgetsnbextension~=3.6.0->ipywidgets) (0.12.1)\n",
      "Requirement already satisfied: jinja2 in c:\\users\\asus\\appdata\\local\\programs\\python\\python37\\lib\\site-packages (from notebook>=4.4.1->widgetsnbextension~=3.6.0->ipywidgets) (2.11.3)\n",
      "Requirement already satisfied: Send2Trash>=1.5.0 in c:\\users\\asus\\appdata\\local\\programs\\python\\python37\\lib\\site-packages (from notebook>=4.4.1->widgetsnbextension~=3.6.0->ipywidgets) (1.8.0)\n",
      "Requirement already satisfied: nbconvert in c:\\users\\asus\\appdata\\local\\programs\\python\\python37\\lib\\site-packages (from notebook>=4.4.1->widgetsnbextension~=3.6.0->ipywidgets) (6.2.0)\n",
      "Requirement already satisfied: argon2-cffi in c:\\users\\asus\\appdata\\local\\programs\\python\\python37\\lib\\site-packages (from notebook>=4.4.1->widgetsnbextension~=3.6.0->ipywidgets) (21.1.0)\n",
      "Requirement already satisfied: wcwidth in c:\\users\\asus\\appdata\\local\\programs\\python\\python37\\lib\\site-packages (from prompt-toolkit!=3.0.0,!=3.0.1,<3.1.0,>=2.0.0->ipython>=4.0.0->ipywidgets) (0.2.5)\n",
      "Requirement already satisfied: six>=1.5 in c:\\users\\asus\\appdata\\roaming\\python\\python37\\site-packages (from python-dateutil>=2.1->jupyter-client<8.0->ipykernel>=4.5.1->ipywidgets) (1.15.0)\n",
      "Requirement already satisfied: pywinpty>=1.1.0 in c:\\users\\asus\\appdata\\local\\programs\\python\\python37\\lib\\site-packages (from terminado>=0.8.3->notebook>=4.4.1->widgetsnbextension~=3.6.0->ipywidgets) (1.1.4)\n",
      "Requirement already satisfied: cffi>=1.0.0 in c:\\users\\asus\\appdata\\local\\programs\\python\\python37\\lib\\site-packages (from argon2-cffi->notebook>=4.4.1->widgetsnbextension~=3.6.0->ipywidgets) (1.14.5)\n",
      "Requirement already satisfied: MarkupSafe>=0.23 in c:\\users\\asus\\appdata\\local\\programs\\python\\python37\\lib\\site-packages (from jinja2->notebook>=4.4.1->widgetsnbextension~=3.6.0->ipywidgets) (1.1.1)\n",
      "Requirement already satisfied: testpath in c:\\users\\asus\\appdata\\local\\programs\\python\\python37\\lib\\site-packages (from nbconvert->notebook>=4.4.1->widgetsnbextension~=3.6.0->ipywidgets) (0.5.0)\n",
      "Requirement already satisfied: jupyterlab-pygments in c:\\users\\asus\\appdata\\local\\programs\\python\\python37\\lib\\site-packages (from nbconvert->notebook>=4.4.1->widgetsnbextension~=3.6.0->ipywidgets) (0.1.2)\n",
      "Requirement already satisfied: defusedxml in c:\\users\\asus\\appdata\\local\\programs\\python\\python37\\lib\\site-packages (from nbconvert->notebook>=4.4.1->widgetsnbextension~=3.6.0->ipywidgets) (0.7.1)\n",
      "Requirement already satisfied: mistune<2,>=0.8.1 in c:\\users\\asus\\appdata\\local\\programs\\python\\python37\\lib\\site-packages (from nbconvert->notebook>=4.4.1->widgetsnbextension~=3.6.0->ipywidgets) (0.8.4)\n",
      "Requirement already satisfied: bleach in c:\\users\\asus\\appdata\\local\\programs\\python\\python37\\lib\\site-packages (from nbconvert->notebook>=4.4.1->widgetsnbextension~=3.6.0->ipywidgets) (4.1.0)\n",
      "Requirement already satisfied: nbclient<0.6.0,>=0.5.0 in c:\\users\\asus\\appdata\\local\\programs\\python\\python37\\lib\\site-packages (from nbconvert->notebook>=4.4.1->widgetsnbextension~=3.6.0->ipywidgets) (0.5.4)\n",
      "Requirement already satisfied: pandocfilters>=1.4.1 in c:\\users\\asus\\appdata\\local\\programs\\python\\python37\\lib\\site-packages (from nbconvert->notebook>=4.4.1->widgetsnbextension~=3.6.0->ipywidgets) (1.5.0)\n",
      "Requirement already satisfied: pycparser in c:\\users\\asus\\appdata\\local\\programs\\python\\python37\\lib\\site-packages (from cffi>=1.0.0->argon2-cffi->notebook>=4.4.1->widgetsnbextension~=3.6.0->ipywidgets) (2.20)\n",
      "Requirement already satisfied: webencodings in c:\\users\\asus\\appdata\\local\\programs\\python\\python37\\lib\\site-packages (from bleach->nbconvert->notebook>=4.4.1->widgetsnbextension~=3.6.0->ipywidgets) (0.5.1)\n",
      "Requirement already satisfied: packaging in c:\\users\\asus\\appdata\\local\\programs\\python\\python37\\lib\\site-packages (from bleach->nbconvert->notebook>=4.4.1->widgetsnbextension~=3.6.0->ipywidgets) (20.9)\n",
      "Requirement already satisfied: pyparsing>=2.0.2 in c:\\users\\asus\\appdata\\local\\programs\\python\\python37\\lib\\site-packages (from packaging->bleach->nbconvert->notebook>=4.4.1->widgetsnbextension~=3.6.0->ipywidgets) (2.4.7)\n"
     ]
    }
   ],
   "source": [
    "!pip3 install ipywidgets"
   ]
  },
  {
   "cell_type": "code",
   "execution_count": 186,
   "id": "fafa8b7e-eb25-4561-b6c6-a7763228f274",
   "metadata": {},
   "outputs": [],
   "source": [
    "import requests, time, random\n",
    "from bs4 import BeautifulSoup\n",
    "from selenium import webdriver\n",
    "from six import iteritems"
   ]
  },
  {
   "cell_type": "code",
   "execution_count": 177,
   "id": "72d75838-5f04-4f33-b5ec-848f77568fae",
   "metadata": {},
   "outputs": [
    {
     "name": "stdout",
     "output_type": "stream",
     "text": [
      "Collecting openpyxl\n",
      "  Downloading openpyxl-3.0.9-py2.py3-none-any.whl (242 kB)\n",
      "     -------------------------------------- 242.2/242.2 KB 1.9 MB/s eta 0:00:00\n",
      "Collecting et-xmlfile\n",
      "  Downloading et_xmlfile-1.1.0-py3-none-any.whl (4.7 kB)\n",
      "Installing collected packages: et-xmlfile, openpyxl\n",
      "Successfully installed et-xmlfile-1.1.0 openpyxl-3.0.9\n"
     ]
    }
   ],
   "source": [
    "!pip3 install openpyxl"
   ]
  },
  {
   "cell_type": "code",
   "execution_count": 128,
   "id": "44167e36-0b09-4a9c-b68c-63c4f3c74fe2",
   "metadata": {},
   "outputs": [],
   "source": [
    "all_profile_info = {}"
   ]
  },
  {
   "cell_type": "code",
   "execution_count": 187,
   "id": "bced91cc-9080-4cdb-9140-3430f57cc593",
   "metadata": {},
   "outputs": [],
   "source": [
    "class Helper:\n",
    "    @staticmethod\n",
    "    def printDict(_dict):\n",
    "        for key, value in iteritems(_dict):\n",
    "            print(key,':',value)\n",
    "\n",
    "    @staticmethod\n",
    "    def printListDic(all_exp):\n",
    "        for _dict in all_exp:\n",
    "            printDict(_dict)\n",
    "            print()\n",
    "            \n",
    "    @staticmethod\n",
    "    def login(browser):\n",
    "        browser.get('https://www.linkedin.com/uas/login')\n",
    "        file = open('config.txt')\n",
    "        lines = file.readlines()\n",
    "        username = lines[0]\n",
    "        password = lines[1]\n",
    "\n",
    "        elementID = browser.find_element_by_id('username')\n",
    "        elementID.send_keys(username)\n",
    "        elementID = browser.find_element_by_id('password')\n",
    "        elementID.send_keys(password)\n",
    "        elementID.submit()\n",
    "        \n",
    "    @staticmethod\n",
    "    def get_browser(logged_in=True):\n",
    "        browser = webdriver.Chrome('driver/chromedriver.exe')\n",
    "        if logged_in:\n",
    "            Helper.login(browser)\n",
    "        return browser\n",
    "    \n",
    "    @staticmethod\n",
    "    def scroll(browser):\n",
    "        SCROLL_PAUSE_TIME = 2\n",
    "        last_height = browser.execute_script(\"return document.body.scrollHeight\")\n",
    "        for i in range(3):\n",
    "            browser.execute_script(\"window.scrollTo(0, document.body.scrollHeight);\")\n",
    "            time.sleep(SCROLL_PAUSE_TIME)\n",
    "            new_height = browser.execute_script(\"return document.body.scrollHeight\")\n",
    "            if new_height == last_height:\n",
    "                break\n",
    "            last_height = new_height\n",
    "         \n",
    "    @staticmethod   \n",
    "    def get_profile_link_and_scroll(browser, url):\n",
    "        browser.get(url)\n",
    "        Helper.scroll(browser)\n",
    "        \n",
    "    @staticmethod\n",
    "    def get_profile_id_from_linkedin_url(url):\n",
    "        url = str(url)\n",
    "        index = url.find('.com')\n",
    "        return url[index+4:]\n",
    "    \n",
    "    @staticmethod\n",
    "    def get_profile_url_from_id(_id):\n",
    "        LINKEDIN_BASE_URL = 'https://www.linkedin.com'\n",
    "        _id = str(_id)\n",
    "        \n",
    "        url = LINKEDIN_BASE_URL + _id\n",
    "        return url\n",
    "    \n",
    "    @staticmethod\n",
    "    def setBroswerAndGetSoup(browser, profile_url):\n",
    "        browser.get(profile_url)\n",
    "        Helper.scroll(browser)\n",
    "        src = browser.page_source\n",
    "        soup = BeautifulSoup(src, 'lxml')\n",
    "        return soup\n",
    "    \n",
    "    @staticmethod\n",
    "    def is_from_IIITA(all_edu_exp):\n",
    "        IIITA_School_Company = 'https://www.linkedin.com/company/497317/'\n",
    "        IIITA = 'https://www.linkedin.com/search/results/all/?keywords=IIIT+Allahabad'\n",
    "        for each_edu_exp in all_edu_exp:\n",
    "            if each_edu_exp['URL ID'] == IIITA_School_Company:\n",
    "                return True\n",
    "            if each_edu_exp['URL ID'] == IIITA:\n",
    "                return True\n",
    "        return False\n",
    "    "
   ]
  },
  {
   "cell_type": "code",
   "execution_count": 188,
   "id": "fadf7290-1c6c-4ee6-a411-0340a4d2651e",
   "metadata": {},
   "outputs": [],
   "source": [
    "class InfoScraper:\n",
    "    def __init__(self, profile_url, logged_in_browser):\n",
    "        self.profile_id = Helper.get_profile_id_from_linkedin_url(profile_url)\n",
    "        self.profile_url = profile_url\n",
    "        self.browser = logged_in_browser\n",
    "        self.bs = self.setBroswerAndGetSoup()\n",
    "        self.basicProfileInfo = self.getBasicProfileInfo()\n",
    "        self.all_experiences = self.getAllExperieceInfo()\n",
    "        self.all_educations = self.getAllEducationInfo()\n",
    "        self.is_faculty = Helper.is_from_IIITA(self.all_experiences)\n",
    "        self.is_student = Helper.is_from_IIITA(self.all_educations)\n",
    "        self.profile_status = self.connectionStatus()\n",
    "        \n",
    "#     def __init__(self, json_item):\n",
    "        \n",
    "\n",
    "    def setBroswerAndGetSoup(self):\n",
    "        self.browser.get(self.profile_url)\n",
    "        Helper.scroll(self.browser)\n",
    "        src = self.browser.page_source\n",
    "        soup = BeautifulSoup(src, 'lxml')\n",
    "        return soup\n",
    "\n",
    "    def refreshStatus(self):\n",
    "        self.bs = self.setBroswerAndGetSoup()\n",
    "        self.profile_status = self.connectionStatus()\n",
    "        \n",
    "    def connectionStatus(self):\n",
    "        bs = self.bs\n",
    "        actions_div = bs.find('div', {'class': 'pvs-profile-actions'})\n",
    "        if actions_div is None:\n",
    "            return \"Error\"\n",
    "        actions = actions_div.findAll('div', {'class': 'entry-point'})\n",
    "        if ' to connect' in str(actions_div):\n",
    "            return \"Not Connected\"\n",
    "        if 'Pending' in str(actions_div):\n",
    "            return \"Request Pending\"\n",
    "        if actions is None or len(actions) == 0:\n",
    "            return \"Unknown\"\n",
    "        return \"Connected\"\n",
    "\n",
    "    def getProfileName(self, bs):\n",
    "        name_div = bs.find('div', {'class': 'mt2 relative'})\n",
    "        name_loc = name_div.find_all('div')\n",
    "        name = name_loc[0].find('h1').get_text().strip()\n",
    "        return str(name)\n",
    "\n",
    "    def getProfileLocation(self, bs):\n",
    "        name_div = bs.find('div', {'class': 'mt2 relative'})\n",
    "        name_loc = name_div.find_all('div')\n",
    "        if len(name_loc) == 0:\n",
    "            return 'None'\n",
    "        loc = name_loc[-1].find('span').get_text().strip()\n",
    "        return str(loc)\n",
    "\n",
    "    def getBasicProfileInfo(self):\n",
    "        bs = self.bs\n",
    "        info = {}\n",
    "        info['Name'] = self.getProfileName(bs)\n",
    "        info['Location'] = self.getProfileLocation(bs)\n",
    "        return info\n",
    "    \n",
    "    def getExpURLID(self, bs):\n",
    "        ids = []\n",
    "        href_classes = bs.findAll('a', {'data-field': 'experience_company_logo'})\n",
    "        for href_class in href_classes:\n",
    "            if href_class is None:\n",
    "                continue\n",
    "            exp_url = href_class.attrs.get('href', None)\n",
    "            if exp_url is None:\n",
    "                continue\n",
    "            ids.append(exp_url)\n",
    "        return ids\n",
    "\n",
    "    def getExpTitle(self, all_exp_spans):\n",
    "        if len(all_exp_spans) < 2:\n",
    "            return 'None'\n",
    "        job_title = all_exp_spans[1].get_text().strip()\n",
    "        return str(job_title)\n",
    "\n",
    "    def getExpCompany(self, all_exp_spans):\n",
    "        if len(all_exp_spans) < 4:\n",
    "            return 'None'\n",
    "        double_text = str(all_exp_spans[3].get_text().strip())\n",
    "        strip_index = len(double_text)//2\n",
    "        company = double_text[0:strip_index].split(' · ')[0]\n",
    "        return str(company)\n",
    "\n",
    "    def getExpTimePeriod(self, all_exp_spans):\n",
    "        if len(all_exp_spans) < 7:\n",
    "            return 'None'\n",
    "        time_period = all_exp_spans[6].get_text().strip().split(' · ')[0]\n",
    "        return str(time_period)\n",
    "\n",
    "    def getExpInfo(self, exp):\n",
    "        info = {}\n",
    "        all_exp_spans = exp.find_all('span')\n",
    "        job_title = self.getExpTitle(all_exp_spans)\n",
    "        company = self.getExpCompany(all_exp_spans)\n",
    "        time_period = self.getExpTimePeriod(all_exp_spans)\n",
    "        \n",
    "        info['Job Title'] = job_title\n",
    "        info['Company'] = company\n",
    "        info['Time Period'] = time_period\n",
    "        return info\n",
    "        \n",
    "    def getExperienceSetions(self, bs):\n",
    "        profile_sections = bs.findAll('section')\n",
    "        exp_profile_section = None\n",
    "        for profile_section in profile_sections:\n",
    "            x = profile_section.find('div', {'id': 'experience'})\n",
    "            if x is not None:\n",
    "                exp_profile_section = profile_section\n",
    "                break\n",
    "        if exp_profile_section is None:\n",
    "            return {}\n",
    "        exp_sections = exp_profile_section.find_all('div', {'class': 'display-flex flex-column full-width align-self-center'})\n",
    "        return exp_sections\n",
    "\n",
    "    def getAllExperieceInfo(self):\n",
    "        bs = self.bs\n",
    "        all_experiences = []\n",
    "        company_ids = self.getExpURLID(bs)\n",
    "        exp_sections = self.getExperienceSetions(bs)\n",
    "        for exp in exp_sections:\n",
    "            all_experiences.append(self.getExpInfo(exp))\n",
    "        for i in range(len(all_experiences)):\n",
    "            if i >= len(company_ids):\n",
    "                all_experiences[i]['URL ID'] = 'None'\n",
    "                continue\n",
    "            all_experiences[i]['URL ID'] = str(company_ids[i])\n",
    "        return all_experiences\n",
    "\n",
    "    def getEduSchoolID(self, edu):\n",
    "        href_class = edu.findAll('a')\n",
    "        if href_class is None or len(href_class) == 0:\n",
    "            return 'None'\n",
    "        school_url = href_class[0].attrs.get('href', None)\n",
    "        if school_url is None:\n",
    "            return 'None'\n",
    "        return str(school_url)\n",
    "\n",
    "    def getEduSchool(self, all_edu_spans):\n",
    "        if len(all_edu_spans) < 2:\n",
    "            return 'None'\n",
    "        job_title = all_edu_spans[1].get_text().strip()\n",
    "        return str(job_title)\n",
    "\n",
    "    def getEduCourse(self, all_edu_spans):\n",
    "        if len(all_edu_spans) < 4:\n",
    "            return 'None'\n",
    "        course_and_discipline = all_edu_spans[4].get_text().strip().split(',')\n",
    "        if len(course_and_discipline) < 1:\n",
    "            return 'None'\n",
    "        course = course_and_discipline[0]\n",
    "        return str(course)\n",
    "\n",
    "    def getEduDiscipline(self, all_edu_spans):\n",
    "        if len(all_edu_spans) < 4:\n",
    "            return 'None'\n",
    "        line_text = all_edu_spans[4].get_text()\n",
    "        course_and_discipline = line_text.strip().split(',')\n",
    "        if len(course_and_discipline) < 2:\n",
    "            return 'None'\n",
    "        ind = line_text.find(', ')\n",
    "        discipline = line_text[ind+1:]\n",
    "        return str(discipline)\n",
    "\n",
    "    def getEduTimePeriod(self, all_edu_spans):\n",
    "        if len(all_edu_spans) < 8:\n",
    "            return 'None'\n",
    "        time_period = all_edu_spans[7].get_text().strip()\n",
    "        return str(time_period)\n",
    "\n",
    "    def getEduInfo(self, edu):\n",
    "        info = {}\n",
    "        # print(edu)\n",
    "        all_edu_spans = edu.find_all('span')\n",
    "        school_url_id = self.getEduSchoolID(edu)\n",
    "        school = self.getEduSchool(all_edu_spans)\n",
    "        course = self.getEduCourse(all_edu_spans)\n",
    "        discipline = self.getEduDiscipline(all_edu_spans)\n",
    "        time_period = self.getEduTimePeriod(all_edu_spans)\n",
    "        info['URL ID'] = school_url_id\n",
    "        info['Insititution'] = school\n",
    "        info['Course'] = course\n",
    "        info['Discipline'] = discipline\n",
    "        info['Time Period'] = time_period\n",
    "        return info\n",
    "        \n",
    "    def getEducationSetions(self, bs):\n",
    "        profile_sections = bs.findAll('section')\n",
    "        edu_profile_section = None\n",
    "        for profile_section in profile_sections:\n",
    "            x = profile_section.find('div', {'id': 'education'})\n",
    "            if x is not None:\n",
    "                edu_profile_section = profile_section\n",
    "                break\n",
    "        if edu_profile_section is None:\n",
    "            return {}\n",
    "        edu_sections = edu_profile_section.find_all('div', {'class': 'display-flex flex-column full-width align-self-center'})\n",
    "        return edu_sections\n",
    "\n",
    "    def getAllEducationInfo(self):\n",
    "        bs = self.bs\n",
    "        all_educations = []\n",
    "        edu_sections = self.getEducationSetions(bs)\n",
    "        for edu in edu_sections:\n",
    "            all_educations.append(self.getEduInfo(edu))\n",
    "        return all_educations"
   ]
  },
  {
   "cell_type": "code",
   "execution_count": 189,
   "id": "3a3adf9d-01a5-439b-9346-18ce8b949afe",
   "metadata": {},
   "outputs": [
    {
     "name": "stderr",
     "output_type": "stream",
     "text": [
      "c:\\users\\asus\\appdata\\local\\programs\\python\\python37\\lib\\site-packages\\ipykernel_launcher.py:29: DeprecationWarning: executable_path has been deprecated, please pass in a Service object\n",
      "c:\\users\\asus\\appdata\\local\\programs\\python\\python37\\lib\\site-packages\\ipykernel_launcher.py:21: DeprecationWarning: find_element_by_* commands are deprecated. Please use find_element() instead\n",
      "c:\\users\\asus\\appdata\\local\\programs\\python\\python37\\lib\\site-packages\\ipykernel_launcher.py:23: DeprecationWarning: find_element_by_* commands are deprecated. Please use find_element() instead\n"
     ]
    }
   ],
   "source": [
    "browser = Helper.get_browser()"
   ]
  },
  {
   "cell_type": "code",
   "execution_count": 132,
   "id": "a79bffc9-ad3a-4de7-aaac-8efb9ec090de",
   "metadata": {},
   "outputs": [],
   "source": [
    "# profile_info = InfoScraper('https://www.linkedin.com/in/abhi4gupta/', browser)\n",
    "# profile_info = InfoScraper('https://www.linkedin.com/in/dr-sunny-sharma-64887918/', browser)\n",
    "profile_info_2 = InfoScraper('https://www.linkedin.com/in/anupam-agrawal-a822b011/', browser)\n",
    "# print(profile_info.all_experiences)"
   ]
  },
  {
   "cell_type": "code",
   "execution_count": 190,
   "id": "9c90ac6c-4b2f-45c3-b9af-f6281c0c32da",
   "metadata": {},
   "outputs": [
    {
     "data": {
      "text/plain": [
       "True"
      ]
     },
     "execution_count": 190,
     "metadata": {},
     "output_type": "execute_result"
    }
   ],
   "source": [
    "profile_info_2.is_student"
   ]
  },
  {
   "cell_type": "code",
   "execution_count": 191,
   "id": "1db43aca-88c9-423f-8d11-783c5beec4c8",
   "metadata": {},
   "outputs": [],
   "source": [
    "all_profile_info[profile_info_2.profile_id] = profile_info_2"
   ]
  },
  {
   "cell_type": "code",
   "execution_count": 192,
   "id": "5cf5c7e1-68bd-4835-bda9-298739457637",
   "metadata": {},
   "outputs": [
    {
     "name": "stdout",
     "output_type": "stream",
     "text": [
      "True\n"
     ]
    }
   ],
   "source": [
    "print(all_profile_info['/in/anupam-agrawal-a822b011/'].is_faculty)"
   ]
  },
  {
   "cell_type": "code",
   "execution_count": null,
   "id": "0ffbd7b8-73cd-481e-a4fa-90e0eb3238cd",
   "metadata": {},
   "outputs": [],
   "source": []
  },
  {
   "cell_type": "code",
   "execution_count": null,
   "id": "6f3663f7-c8c4-4ade-b465-715964d9ecba",
   "metadata": {},
   "outputs": [],
   "source": []
  },
  {
   "cell_type": "code",
   "execution_count": null,
   "id": "2909c96f-3904-4185-b433-c153978aada2",
   "metadata": {},
   "outputs": [],
   "source": []
  },
  {
   "cell_type": "code",
   "execution_count": 193,
   "id": "354caf28-cbfe-4a75-9c43-93c3e2871ad2",
   "metadata": {},
   "outputs": [],
   "source": [
    "profile_urls = [\n",
    "    'https://www.linkedin.com/in/anupam-agrawal-a822b011/',\n",
    "    'https://www.linkedin.com/in/shivam-gupta-52302516b/',\n",
    "    'https://www.linkedin.com/in/isha-goel30/',\n",
    "    'https://www.linkedin.com/in/richik-bhattacharjee/',\n",
    "    'https://www.linkedin.com/in/sougata-das-4132a616b/',\n",
    "    'https://www.linkedin.com/in/abhi4gupta/',\n",
    "    'https://www.linkedin.com/in/dr-sunny-sharma-64887918/',\n",
    "    'https://www.linkedin.com/in/sankarsan-bhattacheryya-003526173/',\n",
    "    'https://www.linkedin.com/in/soumabrata-bhattacharya-9b190a1a9/',\n",
    "    'https://www.linkedin.com/in/arun-gangwar-14a428202/',\n",
    "    'https://www.linkedin.com/in/avijit-agarwal-06b495148/',\n",
    "    'https://www.linkedin.com/in/sanyam-garg-22a487135/',\n",
    "    'https://www.linkedin.com/in/prateek-m-058795114/',\n",
    "    'https://www.linkedin.com/in/anish-goswami-49a3b7185/',\n",
    "    'https://www.linkedin.com/in/pranal-maheshwari-31a850192/',\n",
    "    'https://www.linkedin.com/in/abhigyansharma29/',\n",
    "    'https://www.linkedin.com/in/blackdchase/',\n",
    "    'https://www.linkedin.com/in/raunak-rathour-84a7b71aa/',\n",
    "    'https://www.linkedin.com/in/utkarsh--priyam/',\n",
    "]"
   ]
  },
  {
   "cell_type": "code",
   "execution_count": 194,
   "id": "5de7ed87-7917-4cee-a712-e85bdf58628c",
   "metadata": {},
   "outputs": [
    {
     "name": "stdout",
     "output_type": "stream",
     "text": [
      "/in/anupam-agrawal-a822b011/ \t, Student : True \t, Faculty : True\n",
      "/in/shivam-gupta-52302516b/ \t, Student : False \t, Faculty : False\n",
      "/in/isha-goel30/ \t, Student : False \t, Faculty : False\n",
      "/in/richik-bhattacharjee/ \t, Student : False \t, Faculty : False\n",
      "/in/sougata-das-4132a616b/ \t, Student : False \t, Faculty : False\n",
      "/in/abhi4gupta/ \t, Student : True \t, Faculty : False\n",
      "/in/dr-sunny-sharma-64887918/ \t, Student : False \t, Faculty : True\n",
      "/in/sankarsan-bhattacheryya-003526173/ \t, Student : False \t, Faculty : False\n",
      "/in/soumabrata-bhattacharya-9b190a1a9/ \t, Student : False \t, Faculty : False\n",
      "/in/arun-gangwar-14a428202/ \t, Student : False \t, Faculty : False\n",
      "/in/avijit-agarwal-06b495148/ \t, Student : False \t, Faculty : False\n",
      "/in/sanyam-garg-22a487135/ \t, Student : False \t, Faculty : False\n",
      "/in/prateek-m-058795114/ \t, Student : True \t, Faculty : False\n",
      "/in/anish-goswami-49a3b7185/ \t, Student : True \t, Faculty : False\n",
      "/in/pranal-maheshwari-31a850192/ \t, Student : True \t, Faculty : False\n",
      "/in/abhigyansharma29/ \t, Student : True \t, Faculty : False\n",
      "/in/blackdchase/ \t, Student : True \t, Faculty : False\n",
      "/in/raunak-rathour-84a7b71aa/ \t, Student : True \t, Faculty : False\n",
      "/in/utkarsh--priyam/ \t, Student : True \t, Faculty : False\n"
     ]
    }
   ],
   "source": [
    "for profile_url in profile_urls:\n",
    "    profile_id = Helper.get_profile_id_from_linkedin_url(profile_url)\n",
    "    profile_info = None\n",
    "    if profile_id not in all_profile_info:\n",
    "        profile_info = InfoScraper(profile_url, browser)\n",
    "        all_profile_info[profile_id] = profile_info\n",
    "    else:\n",
    "        profile_info = all_profile_info[profile_id]\n",
    "    print(profile_id, '\\t, Student :', profile_info.is_student, '\\t, Faculty :', profile_info.is_faculty)"
   ]
  },
  {
   "cell_type": "code",
   "execution_count": 195,
   "id": "a0073181-1a74-4a7e-a189-7bf92f9519be",
   "metadata": {},
   "outputs": [
    {
     "name": "stdout",
     "output_type": "stream",
     "text": [
      "{'/in/anupam-agrawal-a822b011/': <__main__.InfoScraper object at 0x000001F6FD76A4E0>, '/in/shivam-gupta-52302516b/': <__main__.InfoScraper object at 0x000001F6FDA2BE48>, '/in/isha-goel30/': <__main__.InfoScraper object at 0x000001F6FE397BE0>, '/in/richik-bhattacharjee/': <__main__.InfoScraper object at 0x000001F6FE5CC438>, '/in/sougata-das-4132a616b/': <__main__.InfoScraper object at 0x000001F6FE8FA1D0>, '/in/abhi4gupta/': <__main__.InfoScraper object at 0x000001F6FE748C88>, '/in/dr-sunny-sharma-64887918/': <__main__.InfoScraper object at 0x000001F6FEAB1F60>, '/in/sankarsan-bhattacheryya-003526173/': <__main__.InfoScraper object at 0x000001F6FEE309E8>, '/in/soumabrata-bhattacharya-9b190a1a9/': <__main__.InfoScraper object at 0x000001F6FEF9D4E0>, '/in/arun-gangwar-14a428202/': <__main__.InfoScraper object at 0x000001F6FF26D630>, '/in/avijit-agarwal-06b495148/': <__main__.InfoScraper object at 0x000001F6FF37EB70>, '/in/sanyam-garg-22a487135/': <__main__.InfoScraper object at 0x000001F6FF6B45C0>, '/in/prateek-m-058795114/': <__main__.InfoScraper object at 0x000001F6FFE87940>, '/in/anish-goswami-49a3b7185/': <__main__.InfoScraper object at 0x000001F69935CDA0>, '/in/pranal-maheshwari-31a850192/': <__main__.InfoScraper object at 0x000001F699613A58>, '/in/abhigyansharma29/': <__main__.InfoScraper object at 0x000001F6998D1978>, '/in/blackdchase/': <__main__.InfoScraper object at 0x000001F699F92128>, '/in/raunak-rathour-84a7b71aa/': <__main__.InfoScraper object at 0x000001F69A271828>, '/in/utkarsh--priyam/': <__main__.InfoScraper object at 0x000001F69AD2AA90>, '/in/harsh-arora-3a8a0a1a8/': <__main__.InfoScraper object at 0x000001F69B279208>, '/in/sambuddha-koner-98732b206/': <__main__.InfoScraper object at 0x000001F69B8920F0>, '/in/kapil-tomar-a2b31118b/': <__main__.InfoScraper object at 0x000001F69BC65518>, '/in/mitali-seth-4649801a1/': <__main__.InfoScraper object at 0x000001F69BB63940>, '/in/harshit-narula-2a82ba162/': <__main__.InfoScraper object at 0x000001F69AE33C18>, '/in/shubham-kumar-7a75851a2/': <__main__.InfoScraper object at 0x000001F69D1A6438>, '/in/siddhi-singh-8653801b1/': <__main__.InfoScraper object at 0x000001F69D9F2630>, '/in/utkarsh-pandey-95015b170/': <__main__.InfoScraper object at 0x000001F69D1107F0>, '/in/aniket-mallick-75572416b/': <__main__.InfoScraper object at 0x000001F69DD981D0>, '/in/abhirup-das-740981178/': <__main__.InfoScraper object at 0x000001F6FE0C3860>, '/in/subharoop-ghosh-943669150/': <__main__.InfoScraper object at 0x000001F69E755EF0>}\n"
     ]
    }
   ],
   "source": [
    "print(all_profile_info)"
   ]
  },
  {
   "cell_type": "code",
   "execution_count": 196,
   "id": "da8862b0-4c1d-4d4a-8702-85795d1cc2a7",
   "metadata": {},
   "outputs": [],
   "source": [
    "class OtherProfileInfo:\n",
    "    def __init__(self, logged_in_browser):\n",
    "        self.browser = logged_in_browser\n",
    "        \n",
    "    def getPeopleAlsoViewedSection(self, bs):\n",
    "        profile_sections = bs.findAll('section')\n",
    "        req_profile_section = None\n",
    "        for profile_section in profile_sections:\n",
    "            if 'People also viewed' in str(profile_section):\n",
    "                return profile_section\n",
    "        return None\n",
    "\n",
    "    def getNewProfileIDs(self, profile, profilesQueued):\n",
    "        profilesID = []\n",
    "        bs = self.setBroswerAndGetSoup(profile)\n",
    "        people_also_viewed_section = self.getPeopleAlsoViewedSection(bs)\n",
    "        if people_also_viewed_section is None:\n",
    "            return None\n",
    "        all_links = people_also_viewed_section.findAll('a')\n",
    "        for link in all_links:\n",
    "            userID = link.get('href')\n",
    "            if((userID is not None) and (userID not in profilesQueued) and (userID not in visitedProfiles)):\n",
    "                profilesID.append(userID)\n",
    "        return profilesID\n",
    "    \n",
    "    def setBroswerAndGetSoup(self, profile):\n",
    "        self.browser.get(profile)\n",
    "        src = self.browser.page_source\n",
    "        soup = BeautifulSoup(src, 'lxml')\n",
    "        return soup\n"
   ]
  },
  {
   "cell_type": "code",
   "execution_count": 197,
   "id": "72e08aa2-8063-4dc6-aa20-ebf7601325ca",
   "metadata": {},
   "outputs": [],
   "source": [
    "other_profile = OtherProfileInfo(browser)\n",
    "visitedProfiles = []\n",
    "profilesQueued = []\n",
    "other_profile.getNewProfileIDs('https://www.linkedin.com/in/isha-goel30/', profilesQueued)"
   ]
  },
  {
   "cell_type": "code",
   "execution_count": 198,
   "id": "1f544832-5dc4-4e6a-bcb5-5d12a3e66486",
   "metadata": {},
   "outputs": [],
   "source": [
    "class MyProfile:\n",
    "    LINKEDIN_BASE_URL = 'https://www.linkedin.com'\n",
    "    def __init__(self, logged_in_browser):\n",
    "        self.browser = logged_in_browser\n",
    "        self.followers = self.getFollowersList()\n",
    "        self.iiit_student, self.iiit_faculty = self.getIIITList(self.followers)\n",
    "        \n",
    "    def getFollowersList(self):\n",
    "        followers_url = 'https://www.linkedin.com/feed/followers/'\n",
    "        browser.get(followers_url)\n",
    "        time.sleep(2)\n",
    "        src = browser.page_source\n",
    "        bs = BeautifulSoup(src, 'lxml')\n",
    "        lis = []\n",
    "        all_followers = bs.find('div', {'class': 'feed-following'})\n",
    "        if all_followers is None:\n",
    "            return lis\n",
    "        for each_follower in all_followers.findAll('a'):\n",
    "            follower_id = each_follower.get('href')\n",
    "            if follower_id is None:\n",
    "                continue\n",
    "            lis.append(follower_id)\n",
    "            profile_info = InfoScraper('https://www.linkedin.com'+follower_id, browser)\n",
    "            all_profile_info[profile_info.profile_id] = profile_info\n",
    "        return list(set(list(lis)))\n",
    "    \n",
    "    def getIIITList(self, users):\n",
    "        stud = []\n",
    "        fac = []\n",
    "        for user in users:\n",
    "            print(user)\n",
    "            if user in all_profile_info:\n",
    "                if all_profile_info[user].is_student:\n",
    "                    stud.append(user)\n",
    "                if all_profile_info[user].is_faculty:\n",
    "                    fac.append(user)\n",
    "            else:\n",
    "                print('Not in dict')\n",
    "        return stud, fac\n",
    "    \n",
    "    def send_connection_request_with_text(self, profile_url, text):\n",
    "        self.browser.get(profile_url)\n",
    "        time.sleep(1)\n",
    "        src = self.browser.page_source\n",
    "        bs = BeautifulSoup(src, 'lxml')\n",
    "        \n",
    "        actions_divs = bs.findAll('div', {'class': 'pvs-profile-actions'})\n",
    "        if len(actions_divs) == 0:\n",
    "            return\n",
    "        ids = []\n",
    "        for actions_div in actions_divs:\n",
    "            buttons = actions_div.findAll('button')\n",
    "            if len(buttons) == 0:\n",
    "                continue\n",
    "            _id = None\n",
    "            for button in buttons:\n",
    "                cnnt = button.get('aria-label')\n",
    "                if cnnt is None:\n",
    "                    continue\n",
    "                if ' to connect' in str(cnnt):\n",
    "                    _id = button.get('id')\n",
    "                    break\n",
    "            if _id is None:\n",
    "                continue\n",
    "            ids.append(_id)\n",
    "        if len(ids) == 0:\n",
    "            return\n",
    "        self.browser.find_element_by_id(ids[-1]).click()\n",
    "        time.sleep(1)\n",
    "        src = self.browser.page_source\n",
    "        bs = BeautifulSoup(src, 'lxml')\n",
    "        _id = None\n",
    "        for x in bs.find_all('button'):\n",
    "            if x.get('aria-label') == 'Add a note':\n",
    "                _id = x.get('id')\n",
    "                break\n",
    "        if _id is None:\n",
    "            return\n",
    "        self.browser.find_element_by_id(_id).click()\n",
    "        time.sleep(1)\n",
    "        INV_REQUEST = text\n",
    "        elementID = browser.find_element_by_id('custom-message')\n",
    "        elementID.send_keys(INV_REQUEST)\n",
    "        \n",
    "        src = self.browser.page_source\n",
    "        bs = BeautifulSoup(src, 'lxml')\n",
    "        _id = None\n",
    "        for x in bs.find_all('button'):\n",
    "            if x.get('aria-label') == 'Send now':\n",
    "                _id = x.get('id')\n",
    "                break\n",
    "        if _id is None:\n",
    "            return\n",
    "        self.browser.find_element_by_id(_id).click()\n",
    "   \n",
    "    def send_text_to_connection(self, profile_url, text):\n",
    "        self.browser.get(profile_url)\n",
    "        # time.sleep(1)\n",
    "        src = self.browser.page_source\n",
    "        bs = BeautifulSoup(src, 'lxml')\n",
    "        x = bs.find('a', {'class': 'message-anywhere-button pvs-profile-actions__action artdeco-button'})\n",
    "        if x is None:\n",
    "            return\n",
    "        link = x.get('href')\n",
    "        if link is None:\n",
    "            return\n",
    "        full_link = 'https://www.linkedin.com' + link\n",
    "        self.browser.get(full_link)\n",
    "        time.sleep(1)\n",
    "\n",
    "        src = self.browser.page_source\n",
    "        bs = BeautifulSoup(src, 'lxml')\n",
    "\n",
    "        message_text = self.browser.find_element_by_css_selector('div.msg-form__contenteditable > p')\n",
    "        message_text.send_keys(text)\n",
    "        message_text.submit()\n",
    "        \n",
    "        time.sleep(3)\n",
    "\n",
    "    \n",
    "    def sendAnnouncement(self, users, inbox_text, connection_req_text):\n",
    "        for user in users:\n",
    "            profile_url = Helper.get_profile_url_from_id(user)\n",
    "            profile_info = None\n",
    "            if user not in all_profile_info:\n",
    "                profile_info = InfoScraper(profile_url, self.browser)\n",
    "                all_profile_info[user] = profile_info\n",
    "            else:\n",
    "                profile_info = all_profile_info[user]\n",
    "                # profile_info.refreshStatus() # Refresh Status\n",
    "            if profile_info is None:\n",
    "                return\n",
    "            status = profile_info.profile_status\n",
    "            print(status)\n",
    "            if status == 'Connected':\n",
    "                self.send_text_to_connection(profile_url, inbox_text)\n",
    "            elif status == 'Not Connected':\n",
    "                self.send_connection_request_with_text(profile_url, connection_req_text)\n",
    "        return"
   ]
  },
  {
   "cell_type": "code",
   "execution_count": 199,
   "id": "9430c96c-7235-4b87-a4d2-bc558ae315ca",
   "metadata": {},
   "outputs": [
    {
     "name": "stdout",
     "output_type": "stream",
     "text": [
      "/in/harshit-narula-2a82ba162/\n",
      "/in/prateek-m-058795114/\n",
      "/in/harsh-arora-3a8a0a1a8/\n",
      "/in/mitali-seth-4649801a1/\n",
      "/in/utkarsh-pandey-95015b170/\n",
      "/in/raunak-rathour-84a7b71aa/\n",
      "/in/shubham-kumar-7a75851a2/\n",
      "/in/abhirup-das-740981178/\n",
      "/in/sankarsan-bhattacheryya-003526173/\n",
      "/in/utkarsh--priyam/\n",
      "/in/aniket-mallick-75572416b/\n",
      "/in/abhi4gupta/\n",
      "/in/kapil-tomar-a2b31118b/\n",
      "/in/sougata-das-4132a616b/\n",
      "/in/shubhankar-raj-457b30231/\n",
      "/in/shivam-gupta-52302516b/\n",
      "/in/sambuddha-koner-98732b206/\n",
      "/in/isha-goel30/\n",
      "/in/siddhi-singh-8653801b1/\n",
      "/in/richik-bhattacharjee/\n"
     ]
    }
   ],
   "source": [
    "my_profile = MyProfile(browser)"
   ]
  },
  {
   "cell_type": "code",
   "execution_count": 143,
   "id": "dafd4f10-2257-408e-b614-83288a1b9d72",
   "metadata": {},
   "outputs": [
    {
     "name": "stdout",
     "output_type": "stream",
     "text": [
      "/in/harshit-narula-2a82ba162/\n",
      "/in/prateek-m-058795114/\n",
      "/in/harsh-arora-3a8a0a1a8/\n",
      "/in/mitali-seth-4649801a1/\n",
      "/in/utkarsh-pandey-95015b170/\n",
      "/in/raunak-rathour-84a7b71aa/\n",
      "/in/subharoop-ghosh-943669150/\n",
      "/in/shubham-kumar-7a75851a2/\n",
      "/in/abhirup-das-740981178/\n",
      "/in/sankarsan-bhattacheryya-003526173/\n",
      "/in/utkarsh--priyam/\n",
      "/in/aniket-mallick-75572416b/\n",
      "/in/abhi4gupta/\n",
      "/in/kapil-tomar-a2b31118b/\n",
      "/in/sougata-das-4132a616b/\n",
      "/in/shivam-gupta-52302516b/\n",
      "/in/sambuddha-koner-98732b206/\n",
      "/in/isha-goel30/\n",
      "/in/siddhi-singh-8653801b1/\n",
      "/in/richik-bhattacharjee/\n",
      "(['/in/prateek-m-058795114/', '/in/raunak-rathour-84a7b71aa/', '/in/utkarsh--priyam/', '/in/abhi4gupta/'], [])\n"
     ]
    }
   ],
   "source": [
    "lis = my_profile.followers\n",
    "print(my_profile.getIIITList(lis))\n",
    "# text_list = [\n",
    "#     # '/in/abhi4gupta/',\n",
    "#     '/in/avijit-agarwal-06b495148/',\n",
    "# ]\n",
    "# my_profile.sendAnnouncement(text_list,'Hi!','Please accept my request')"
   ]
  },
  {
   "cell_type": "code",
   "execution_count": 144,
   "id": "0a8a7b92-9200-4b87-8973-a0690f7cc0d3",
   "metadata": {},
   "outputs": [
    {
     "name": "stdout",
     "output_type": "stream",
     "text": [
      "['/in/prateek-m-058795114/', '/in/raunak-rathour-84a7b71aa/', '/in/utkarsh--priyam/', '/in/abhi4gupta/'] []\n"
     ]
    }
   ],
   "source": [
    "print(my_profile.iiit_student, my_profile.iiit_faculty)"
   ]
  },
  {
   "cell_type": "code",
   "execution_count": 145,
   "id": "61933d70-bbdd-4163-a3b3-19149af48a8b",
   "metadata": {},
   "outputs": [],
   "source": [
    "# print(profile_urls)"
   ]
  },
  {
   "cell_type": "code",
   "execution_count": null,
   "id": "93ee8ab3-ca20-4f4c-93c1-4f6e46c23cf5",
   "metadata": {},
   "outputs": [],
   "source": []
  },
  {
   "cell_type": "code",
   "execution_count": null,
   "id": "1387f229-7c95-437d-a4c2-a7d81e679f5c",
   "metadata": {},
   "outputs": [
    {
     "name": "stdout",
     "output_type": "stream",
     "text": [
      "['/in/anupam-agrawal-a822b011/', '/in/shivam-gupta-52302516b/', '/in/isha-goel30/', '/in/richik-bhattacharjee/', '/in/sougata-das-4132a616b/', '/in/abhi4gupta/', '/in/dr-sunny-sharma-64887918/', '/in/sankarsan-bhattacheryya-003526173/', '/in/soumabrata-bhattacharya-9b190a1a9/', '/in/arun-gangwar-14a428202/', '/in/avijit-agarwal-06b495148/', '/in/sanyam-garg-22a487135/', '/in/prateek-m-058795114/', '/in/anish-goswami-49a3b7185/', '/in/pranal-maheshwari-31a850192/', '/in/abhigyansharma29/', '/in/blackdchase/', '/in/raunak-rathour-84a7b71aa/', '/in/utkarsh--priyam/']\n"
     ]
    }
   ],
   "source": [
    "test_followers = [Helper.get_profile_id_from_linkedin_url(each_profile) for each_profile in profile_urls ]\n",
    "print(test_followers)"
   ]
  },
  {
   "cell_type": "code",
   "execution_count": null,
   "id": "2a5b85c9-c3c7-4960-a588-706d41342fa2",
   "metadata": {},
   "outputs": [
    {
     "name": "stdout",
     "output_type": "stream",
     "text": [
      "/in/anupam-agrawal-a822b011/\n",
      "/in/shivam-gupta-52302516b/\n",
      "/in/isha-goel30/\n",
      "/in/richik-bhattacharjee/\n",
      "/in/sougata-das-4132a616b/\n",
      "/in/abhi4gupta/\n",
      "/in/dr-sunny-sharma-64887918/\n",
      "/in/sankarsan-bhattacheryya-003526173/\n",
      "/in/soumabrata-bhattacharya-9b190a1a9/\n",
      "/in/arun-gangwar-14a428202/\n",
      "/in/avijit-agarwal-06b495148/\n",
      "/in/sanyam-garg-22a487135/\n",
      "/in/prateek-m-058795114/\n",
      "/in/anish-goswami-49a3b7185/\n",
      "/in/pranal-maheshwari-31a850192/\n",
      "/in/abhigyansharma29/\n",
      "/in/blackdchase/\n",
      "/in/raunak-rathour-84a7b71aa/\n",
      "/in/utkarsh--priyam/\n",
      "['/in/anupam-agrawal-a822b011/', '/in/abhi4gupta/', '/in/prateek-m-058795114/', '/in/anish-goswami-49a3b7185/', '/in/pranal-maheshwari-31a850192/', '/in/abhigyansharma29/', '/in/blackdchase/', '/in/raunak-rathour-84a7b71aa/', '/in/utkarsh--priyam/'] ['/in/anupam-agrawal-a822b011/', '/in/dr-sunny-sharma-64887918/']\n"
     ]
    }
   ],
   "source": [
    "iiit_student, iiit_faculty = my_profile.getIIITList(test_followers)\n",
    "print(iiit_student, iiit_faculty)"
   ]
  },
  {
   "cell_type": "code",
   "execution_count": null,
   "id": "783ebd64-7586-4fcc-b09a-93cbafbcbcec",
   "metadata": {},
   "outputs": [
    {
     "name": "stdout",
     "output_type": "stream",
     "text": [
      "[{'Job Title': 'SDE intern', 'Company': 'Uber', 'Time Period': 'Jan 2022 - Present', 'URL ID': 'https://www.linkedin.com/company/1815218/'}, {'Job Title': 'software developer', 'Company': 'Citi', 'Time Period': 'May 2021 - Jul 2021', 'URL ID': 'https://www.linkedin.com/company/11448/'}, {'Job Title': 'Lead Technical Writer', 'Company': 'Talentio Solutions India Private Limited', 'Time Period': 'Jun 2020 - Jul 2020', 'URL ID': 'https://www.linkedin.com/company/3184270/'}, {'Job Title': 'Teaching Assistance', 'Company': 'Prayaas IIITA', 'Time Period': 'Jan 2020 - Jun 2020', 'URL ID': 'https://www.linkedin.com/company/14545739/'}, {'Job Title': 'Student Trainee', 'Company': 'Dakshana Foundation', 'Time Period': 'Jul 2017 - Jun 2018', 'URL ID': 'https://www.linkedin.com/company/15611786/'}]\n"
     ]
    }
   ],
   "source": [
    "print(all_profile_info['/in/abhi4gupta/'].all_experiences)"
   ]
  },
  {
   "cell_type": "code",
   "execution_count": null,
   "id": "68323f10-dc7a-468a-90df-81c3cb171d43",
   "metadata": {},
   "outputs": [
    {
     "name": "stdout",
     "output_type": "stream",
     "text": [
      "[{'URL ID': 'https://www.linkedin.com/company/497317/', 'Insititution': 'Indian Institute Of Information Technology', 'Course': 'Bachelor of Technology - BTech', 'Discipline': ' Information Technology', 'Time Period': '2018 - 2022'}, {'URL ID': 'https://www.linkedin.com/company/14515894/', 'Insititution': 'Jawahar Navodaya Vidyalaya (JNV)', 'Course': '6th to 12th', 'Discipline': ' General Studies', 'Time Period': '2010 - 2017'}]\n"
     ]
    }
   ],
   "source": [
    "print(all_profile_info['/in/abhi4gupta/'].all_educations)"
   ]
  },
  {
   "cell_type": "code",
   "execution_count": null,
   "id": "9765734a-9b4b-4e84-938f-fa3fe3a9ed3d",
   "metadata": {},
   "outputs": [
    {
     "data": {
      "text/plain": [
       "['/in/anupam-agrawal-a822b011/',\n",
       " '/in/shivam-gupta-52302516b/',\n",
       " '/in/isha-goel30/',\n",
       " '/in/richik-bhattacharjee/',\n",
       " '/in/sougata-das-4132a616b/',\n",
       " '/in/abhi4gupta/',\n",
       " '/in/dr-sunny-sharma-64887918/',\n",
       " '/in/sankarsan-bhattacheryya-003526173/',\n",
       " '/in/soumabrata-bhattacharya-9b190a1a9/',\n",
       " '/in/arun-gangwar-14a428202/',\n",
       " '/in/avijit-agarwal-06b495148/',\n",
       " '/in/sanyam-garg-22a487135/',\n",
       " '/in/prateek-m-058795114/',\n",
       " '/in/anish-goswami-49a3b7185/',\n",
       " '/in/pranal-maheshwari-31a850192/',\n",
       " '/in/abhigyansharma29/',\n",
       " '/in/blackdchase/',\n",
       " '/in/raunak-rathour-84a7b71aa/',\n",
       " '/in/utkarsh--priyam/',\n",
       " '/in/harsh-arora-3a8a0a1a8/',\n",
       " '/in/sambuddha-koner-98732b206/',\n",
       " '/in/kapil-tomar-a2b31118b/',\n",
       " '/in/mitali-seth-4649801a1/',\n",
       " '/in/harshit-narula-2a82ba162/',\n",
       " '/in/shubham-kumar-7a75851a2/',\n",
       " '/in/siddhi-singh-8653801b1/',\n",
       " '/in/utkarsh-pandey-95015b170/',\n",
       " '/in/aniket-mallick-75572416b/',\n",
       " '/in/abhirup-das-740981178/',\n",
       " '/in/subharoop-ghosh-943669150/']"
      ]
     },
     "execution_count": 150,
     "metadata": {},
     "output_type": "execute_result"
    }
   ],
   "source": [
    "list(all_profile_info.keys())"
   ]
  },
  {
   "cell_type": "code",
   "execution_count": null,
   "id": "eda721d6-05c8-4684-bf8e-dd0fa6866714",
   "metadata": {},
   "outputs": [],
   "source": [
    "# test_text_followers = [Helper.get_profile_id_from_linkedin_url(each_profile) for each_profile in text_profile_urls ]"
   ]
  },
  {
   "cell_type": "code",
   "execution_count": 126,
   "id": "fb793f14-fcdf-480e-8657-f855cb24a405",
   "metadata": {},
   "outputs": [
    {
     "name": "stdout",
     "output_type": "stream",
     "text": [
      "Connected\n"
     ]
    },
    {
     "name": "stderr",
     "output_type": "stream",
     "text": [
      "c:\\users\\asus\\appdata\\local\\programs\\python\\python37\\lib\\site-packages\\ipykernel_launcher.py:114: DeprecationWarning: find_element_by_css_selector is deprecated. Please use find_element(by=By.CSS_SELECTOR, value=css_selector) instead\n"
     ]
    }
   ],
   "source": [
    "test_list = [\n",
    "    '/in/raunak-rathour-84a7b71aa/',\n",
    "]\n",
    "\n",
    "my_profile.sendAnnouncement(test_list,'Ok','Plese accept my request!')"
   ]
  },
  {
   "cell_type": "code",
   "execution_count": 132,
   "id": "f2f66046-4f74-4361-91f4-155a3ffef729",
   "metadata": {},
   "outputs": [],
   "source": [
    "class ProfilesByFilter(object):\n",
    "    def __init__(self, logged_in_browser):\n",
    "        self.browser = logged_in_browser\n",
    "    \n",
    "    def getFilteredFaculty(self):\n",
    "        ids = []\n",
    "        for prof_id, prof_obj in iteritems(all_profile_info):\n",
    "            if prof_obj.is_faculty is True:\n",
    "                ids.append(prof_id)\n",
    "        return ids\n",
    "    \n",
    "    def getFilteredBranch(self, course):\n",
    "        ids = []\n",
    "        for prof_id, prof_obj in iteritems(all_profile_info):\n",
    "            if course == 'bachelor':\n",
    "                for edu in prof_obj.all_educations:\n",
    "                    if edu['Course'] and ('bachelor' in edu['Course'].lower() or 'btech' in  edu['Course'].lower()):\n",
    "                        ids.append(prof_id)\n",
    "            if course == 'master':\n",
    "                for edu in prof_obj.all_educations:\n",
    "                    if edu['Course'] and ('master' in edu['Course'].lower() or 'mtech' in  edu['Course'].lower() or 'mba' in  edu['Course'].lower()):\n",
    "                        ids.append(prof_id)\n",
    "        return ids\n",
    "    \n",
    "    def getFilteredStudent(self):\n",
    "        ids = []\n",
    "        for prof_id, prof_obj in iteritems(all_profile_info):\n",
    "            if prof_obj.is_student is True:\n",
    "                ids.append(prof_id)\n",
    "        return ids\n",
    "    \n",
    "    def getFiltered(self, course = None, student = False, faculty = False):\n",
    "        if faculty is True:\n",
    "            return self.getFilteredFaculty()\n",
    "        if student is True:\n",
    "            return self.getFilteredStudent()\n",
    "        if course is not None:\n",
    "            return self.getFilteredBranch(course)\n",
    "        return []\n",
    "    "
   ]
  },
  {
   "cell_type": "code",
   "execution_count": 133,
   "id": "b958c173-06b6-42ff-845f-cc6b6f0a4471",
   "metadata": {},
   "outputs": [
    {
     "name": "stdout",
     "output_type": "stream",
     "text": [
      "['/in/anupam-agrawal-a822b011/', '/in/abhi4gupta/', '/in/prateek-m-058795114/', '/in/anish-goswami-49a3b7185/', '/in/pranal-maheshwari-31a850192/', '/in/abhigyansharma29/', '/in/blackdchase/', '/in/raunak-rathour-84a7b71aa/', '/in/utkarsh--priyam/', '/in/ayushraj0309/']\n"
     ]
    }
   ],
   "source": [
    "filtered_profiles = ProfilesByFilter(browser)\n",
    "print(filtered_profiles.getFiltered(student = True))"
   ]
  },
  {
   "cell_type": "code",
   "execution_count": 134,
   "id": "194238f4-6c08-4177-bb3a-5cb9eb779234",
   "metadata": {},
   "outputs": [],
   "source": [
    "# print(all_profile_info.keys())"
   ]
  },
  {
   "cell_type": "code",
   "execution_count": 137,
   "id": "3c97b340-9797-4421-a204-f29500b5b839",
   "metadata": {},
   "outputs": [
    {
     "name": "stdout",
     "output_type": "stream",
     "text": [
      "['/in/isha-goel30/', '/in/richik-bhattacharjee/', '/in/sougata-das-4132a616b/', '/in/abhi4gupta/', '/in/sankarsan-bhattacheryya-003526173/', '/in/soumabrata-bhattacharya-9b190a1a9/', '/in/arun-gangwar-14a428202/', '/in/sanyam-garg-22a487135/', '/in/prateek-m-058795114/', '/in/anish-goswami-49a3b7185/', '/in/pranal-maheshwari-31a850192/', '/in/abhigyansharma29/', '/in/blackdchase/', '/in/raunak-rathour-84a7b71aa/', '/in/utkarsh--priyam/', '/in/sambuddha-koner-98732b206/', '/in/kapil-tomar-a2b31118b/', '/in/mitali-seth-4649801a1/', '/in/harshit-narula-2a82ba162/', '/in/shubham-kumar-7a75851a2/', '/in/siddhi-singh-8653801b1/', '/in/utkarsh-pandey-95015b170/', '/in/aniket-mallick-75572416b/', '/in/abhirup-das-740981178/', '/in/subharoop-ghosh-943669150/', '/in/harsh-arora-3a8a0a1a8/', '/in/ayushraj0309/']\n"
     ]
    }
   ],
   "source": [
    "print(filtered_profiles.getFiltered(course = 'bachelor'))"
   ]
  },
  {
   "cell_type": "code",
   "execution_count": 162,
   "id": "45c379ad-5c97-43fd-b3a5-b54c079cbeb3",
   "metadata": {},
   "outputs": [],
   "source": [
    "import pandas as pd"
   ]
  },
  {
   "cell_type": "code",
   "execution_count": 182,
   "id": "b22625f0-6b80-434a-85cd-16e53f278f5d",
   "metadata": {},
   "outputs": [],
   "source": [
    "class CSVGenerator(object):\n",
    "    def __init__(self):\n",
    "        self.all_ids = []\n",
    "        self.csv_data = {}\n",
    "    \n",
    "    def fillData(self, lis):\n",
    "        csv_data = {}\n",
    "        _profiles = []\n",
    "        _courses = []\n",
    "        _discipline = []\n",
    "        _time = []\n",
    "        for pid in self.all_ids:\n",
    "            pobj = all_profile_info[pid]\n",
    "            for edu in pobj.all_educations:\n",
    "                _profiles.append(Helper.get_profile_id_from_linkedin_url(pid))\n",
    "                _courses.append(edu['Course'])\n",
    "                _discipline.append(edu['Discipline'])\n",
    "                _time.append(edu['Time Period'])\n",
    "        csv_data['ProfileID'] = _profiles\n",
    "        csv_data['Course'] = _courses\n",
    "        csv_data['Discipline'] = _discipline\n",
    "        csv_data['Time Period'] = _time\n",
    "        return csv_data\n",
    "    \n",
    "    def saveXLSX(self, lis=None, name = 'out.xlsx'):\n",
    "        if lis is None:\n",
    "            self.all_ids = list(all_profile_info.keys())\n",
    "            self.csv_data = self.fillData(self.all_ids)\n",
    "        \n",
    "        df = pd.DataFrame(self.csv_data)\n",
    "        df.to_excel(name)"
   ]
  },
  {
   "cell_type": "code",
   "execution_count": 183,
   "id": "58ebf61a-c634-44a5-b430-13291adcd053",
   "metadata": {},
   "outputs": [],
   "source": [
    "generator = CSVGenerator()\n",
    "generator.saveXLSX()"
   ]
  },
  {
   "cell_type": "code",
   "execution_count": null,
   "id": "f10fecd1-6943-43c1-9fc8-87b9916350db",
   "metadata": {},
   "outputs": [],
   "source": []
  },
  {
   "cell_type": "code",
   "execution_count": 97,
   "id": "d88f198a-6113-4792-93f1-8d413b4337fd",
   "metadata": {},
   "outputs": [
    {
     "name": "stdout",
     "output_type": "stream",
     "text": [
      "['/in/anupam-agrawal-a822b011/', '/in/abhi4gupta/', '/in/prateek-m-058795114/', '/in/anish-goswami-49a3b7185/', '/in/pranal-maheshwari-31a850192/', '/in/abhigyansharma29/', '/in/blackdchase/', '/in/raunak-rathour-84a7b71aa/', '/in/utkarsh--priyam/', '/in/ayushraj0309/']\n",
      "Request Pending\n"
     ]
    }
   ],
   "source": [
    "lis = filtered_profiles.getFiltered(student = True)\n",
    "print(lis)\n",
    "lis = ['/in/ayushraj0309/']\n",
    "my_profile.sendAnnouncement(lis, 'Hi!', 'Please accept my request')"
   ]
  },
  {
   "cell_type": "code",
   "execution_count": 99,
   "id": "0f279f53-9c08-4bed-a981-5be0e17386b7",
   "metadata": {},
   "outputs": [
    {
     "name": "stdout",
     "output_type": "stream",
     "text": [
      "[{'URL ID': 'https://www.linkedin.com/company/497317/', 'Insititution': 'Indian Institute Of Information Technology', 'Course': \"Bachelor's degree\", 'Discipline': ' Information Technology', 'Time Period': '2018 - 2022'}]\n"
     ]
    }
   ],
   "source": [
    "print(all_profile_info[lis[0]].all_educations)"
   ]
  },
  {
   "cell_type": "markdown",
   "id": "df9fc045-25bf-448d-a6a3-d081607463e5",
   "metadata": {},
   "source": [
    "Text"
   ]
  },
  {
   "cell_type": "code",
   "execution_count": 151,
   "id": "aa3fb979-0618-417f-802d-438f20610541",
   "metadata": {},
   "outputs": [
    {
     "name": "stdout",
     "output_type": "stream",
     "text": [
      "Requirement already satisfied: ipywidgets in c:\\users\\asus\\appdata\\local\\programs\\python\\python37\\lib\\site-packages (7.7.0)\n",
      "Requirement already satisfied: widgetsnbextension~=3.6.0 in c:\\users\\asus\\appdata\\local\\programs\\python\\python37\\lib\\site-packages (from ipywidgets) (3.6.0)\n",
      "Requirement already satisfied: ipython-genutils~=0.2.0 in c:\\users\\asus\\appdata\\local\\programs\\python\\python37\\lib\\site-packages (from ipywidgets) (0.2.0)\n",
      "Requirement already satisfied: jupyterlab-widgets>=1.0.0 in c:\\users\\asus\\appdata\\local\\programs\\python\\python37\\lib\\site-packages (from ipywidgets) (1.1.0)\n",
      "Requirement already satisfied: nbformat>=4.2.0 in c:\\users\\asus\\appdata\\local\\programs\\python\\python37\\lib\\site-packages (from ipywidgets) (5.1.3)\n",
      "Requirement already satisfied: ipykernel>=4.5.1 in c:\\users\\asus\\appdata\\local\\programs\\python\\python37\\lib\\site-packages (from ipywidgets) (6.4.1)\n",
      "Requirement already satisfied: ipython>=4.0.0 in c:\\users\\asus\\appdata\\local\\programs\\python\\python37\\lib\\site-packages (from ipywidgets) (7.28.0)\n",
      "Requirement already satisfied: traitlets>=4.3.1 in c:\\users\\asus\\appdata\\local\\programs\\python\\python37\\lib\\site-packages (from ipywidgets) (5.1.0)\n",
      "Requirement already satisfied: argcomplete>=1.12.3 in c:\\users\\asus\\appdata\\local\\programs\\python\\python37\\lib\\site-packages (from ipykernel>=4.5.1->ipywidgets) (1.12.3)\n",
      "Requirement already satisfied: importlib-metadata<5 in c:\\users\\asus\\appdata\\local\\programs\\python\\python37\\lib\\site-packages (from ipykernel>=4.5.1->ipywidgets) (3.7.0)\n",
      "Requirement already satisfied: tornado<7.0,>=4.2 in c:\\users\\asus\\appdata\\local\\programs\\python\\python37\\lib\\site-packages (from ipykernel>=4.5.1->ipywidgets) (6.1)\n",
      "Requirement already satisfied: debugpy<2.0,>=1.0.0 in c:\\users\\asus\\appdata\\local\\programs\\python\\python37\\lib\\site-packages (from ipykernel>=4.5.1->ipywidgets) (1.5.0)\n",
      "Requirement already satisfied: matplotlib-inline<0.2.0,>=0.1.0 in c:\\users\\asus\\appdata\\local\\programs\\python\\python37\\lib\\site-packages (from ipykernel>=4.5.1->ipywidgets) (0.1.3)\n",
      "Requirement already satisfied: jupyter-client<8.0 in c:\\users\\asus\\appdata\\local\\programs\\python\\python37\\lib\\site-packages (from ipykernel>=4.5.1->ipywidgets) (7.0.6)\n",
      "Requirement already satisfied: backcall in c:\\users\\asus\\appdata\\local\\programs\\python\\python37\\lib\\site-packages (from ipython>=4.0.0->ipywidgets) (0.2.0)\n",
      "Requirement already satisfied: colorama in c:\\users\\asus\\appdata\\local\\programs\\python\\python37\\lib\\site-packages (from ipython>=4.0.0->ipywidgets) (0.4.4)\n",
      "Requirement already satisfied: prompt-toolkit!=3.0.0,!=3.0.1,<3.1.0,>=2.0.0 in c:\\users\\asus\\appdata\\local\\programs\\python\\python37\\lib\\site-packages (from ipython>=4.0.0->ipywidgets) (3.0.20)\n",
      "Requirement already satisfied: pygments in c:\\users\\asus\\appdata\\local\\programs\\python\\python37\\lib\\site-packages (from ipython>=4.0.0->ipywidgets) (2.8.1)\n",
      "Requirement already satisfied: jedi>=0.16 in c:\\users\\asus\\appdata\\local\\programs\\python\\python37\\lib\\site-packages (from ipython>=4.0.0->ipywidgets) (0.18.0)\n",
      "Requirement already satisfied: pickleshare in c:\\users\\asus\\appdata\\local\\programs\\python\\python37\\lib\\site-packages (from ipython>=4.0.0->ipywidgets) (0.7.5)\n",
      "Requirement already satisfied: decorator in c:\\users\\asus\\appdata\\local\\programs\\python\\python37\\lib\\site-packages (from ipython>=4.0.0->ipywidgets) (4.4.2)\n",
      "Requirement already satisfied: setuptools>=18.5 in c:\\users\\asus\\appdata\\local\\programs\\python\\python37\\lib\\site-packages (from ipython>=4.0.0->ipywidgets) (53.1.0)\n",
      "Requirement already satisfied: jsonschema!=2.5.0,>=2.4 in c:\\users\\asus\\appdata\\local\\programs\\python\\python37\\lib\\site-packages (from nbformat>=4.2.0->ipywidgets) (4.1.0)\n",
      "Requirement already satisfied: jupyter-core in c:\\users\\asus\\appdata\\local\\programs\\python\\python37\\lib\\site-packages (from nbformat>=4.2.0->ipywidgets) (4.8.1)\n",
      "Requirement already satisfied: notebook>=4.4.1 in c:\\users\\asus\\appdata\\local\\programs\\python\\python37\\lib\\site-packages (from widgetsnbextension~=3.6.0->ipywidgets) (6.4.4)\n",
      "Requirement already satisfied: zipp>=0.5 in c:\\users\\asus\\appdata\\local\\programs\\python\\python37\\lib\\site-packages (from importlib-metadata<5->ipykernel>=4.5.1->ipywidgets) (3.4.0)\n",
      "Requirement already satisfied: typing-extensions>=3.6.4 in c:\\users\\asus\\appdata\\roaming\\python\\python37\\site-packages (from importlib-metadata<5->ipykernel>=4.5.1->ipywidgets) (3.7.4.3)\n",
      "Requirement already satisfied: parso<0.9.0,>=0.8.0 in c:\\users\\asus\\appdata\\local\\programs\\python\\python37\\lib\\site-packages (from jedi>=0.16->ipython>=4.0.0->ipywidgets) (0.8.2)\n",
      "Requirement already satisfied: pyrsistent!=0.17.0,!=0.17.1,!=0.17.2,>=0.14.0 in c:\\users\\asus\\appdata\\local\\programs\\python\\python37\\lib\\site-packages (from jsonschema!=2.5.0,>=2.4->nbformat>=4.2.0->ipywidgets) (0.18.0)\n",
      "Requirement already satisfied: attrs>=17.4.0 in c:\\users\\asus\\appdata\\local\\programs\\python\\python37\\lib\\site-packages (from jsonschema!=2.5.0,>=2.4->nbformat>=4.2.0->ipywidgets) (21.2.0)\n",
      "Requirement already satisfied: python-dateutil>=2.1 in c:\\users\\asus\\appdata\\local\\programs\\python\\python37\\lib\\site-packages (from jupyter-client<8.0->ipykernel>=4.5.1->ipywidgets) (2.8.1)\n",
      "Requirement already satisfied: pyzmq>=13 in c:\\users\\asus\\appdata\\local\\programs\\python\\python37\\lib\\site-packages (from jupyter-client<8.0->ipykernel>=4.5.1->ipywidgets) (22.3.0)\n",
      "Requirement already satisfied: nest-asyncio>=1.5 in c:\\users\\asus\\appdata\\local\\programs\\python\\python37\\lib\\site-packages (from jupyter-client<8.0->ipykernel>=4.5.1->ipywidgets) (1.5.1)\n",
      "Requirement already satisfied: entrypoints in c:\\users\\asus\\appdata\\local\\programs\\python\\python37\\lib\\site-packages (from jupyter-client<8.0->ipykernel>=4.5.1->ipywidgets) (0.3)\n",
      "Requirement already satisfied: pywin32>=1.0 in c:\\users\\asus\\appdata\\local\\programs\\python\\python37\\lib\\site-packages (from jupyter-core->nbformat>=4.2.0->ipywidgets) (302)\n",
      "Requirement already satisfied: Send2Trash>=1.5.0 in c:\\users\\asus\\appdata\\local\\programs\\python\\python37\\lib\\site-packages (from notebook>=4.4.1->widgetsnbextension~=3.6.0->ipywidgets) (1.8.0)\n",
      "Requirement already satisfied: prometheus-client in c:\\users\\asus\\appdata\\local\\programs\\python\\python37\\lib\\site-packages (from notebook>=4.4.1->widgetsnbextension~=3.6.0->ipywidgets) (0.11.0)\n",
      "Requirement already satisfied: terminado>=0.8.3 in c:\\users\\asus\\appdata\\local\\programs\\python\\python37\\lib\\site-packages (from notebook>=4.4.1->widgetsnbextension~=3.6.0->ipywidgets) (0.12.1)\n",
      "Requirement already satisfied: nbconvert in c:\\users\\asus\\appdata\\local\\programs\\python\\python37\\lib\\site-packages (from notebook>=4.4.1->widgetsnbextension~=3.6.0->ipywidgets) (6.2.0)\n",
      "Requirement already satisfied: argon2-cffi in c:\\users\\asus\\appdata\\local\\programs\\python\\python37\\lib\\site-packages (from notebook>=4.4.1->widgetsnbextension~=3.6.0->ipywidgets) (21.1.0)\n",
      "Requirement already satisfied: jinja2 in c:\\users\\asus\\appdata\\local\\programs\\python\\python37\\lib\\site-packages (from notebook>=4.4.1->widgetsnbextension~=3.6.0->ipywidgets) (2.11.3)\n",
      "Requirement already satisfied: wcwidth in c:\\users\\asus\\appdata\\local\\programs\\python\\python37\\lib\\site-packages (from prompt-toolkit!=3.0.0,!=3.0.1,<3.1.0,>=2.0.0->ipython>=4.0.0->ipywidgets) (0.2.5)\n",
      "Requirement already satisfied: six>=1.5 in c:\\users\\asus\\appdata\\roaming\\python\\python37\\site-packages (from python-dateutil>=2.1->jupyter-client<8.0->ipykernel>=4.5.1->ipywidgets) (1.15.0)\n",
      "Requirement already satisfied: pywinpty>=1.1.0 in c:\\users\\asus\\appdata\\local\\programs\\python\\python37\\lib\\site-packages (from terminado>=0.8.3->notebook>=4.4.1->widgetsnbextension~=3.6.0->ipywidgets) (1.1.4)\n",
      "Requirement already satisfied: cffi>=1.0.0 in c:\\users\\asus\\appdata\\local\\programs\\python\\python37\\lib\\site-packages (from argon2-cffi->notebook>=4.4.1->widgetsnbextension~=3.6.0->ipywidgets) (1.14.5)\n",
      "Requirement already satisfied: MarkupSafe>=0.23 in c:\\users\\asus\\appdata\\local\\programs\\python\\python37\\lib\\site-packages (from jinja2->notebook>=4.4.1->widgetsnbextension~=3.6.0->ipywidgets) (1.1.1)\n",
      "Requirement already satisfied: nbclient<0.6.0,>=0.5.0 in c:\\users\\asus\\appdata\\local\\programs\\python\\python37\\lib\\site-packages (from nbconvert->notebook>=4.4.1->widgetsnbextension~=3.6.0->ipywidgets) (0.5.4)\n",
      "Requirement already satisfied: bleach in c:\\users\\asus\\appdata\\local\\programs\\python\\python37\\lib\\site-packages (from nbconvert->notebook>=4.4.1->widgetsnbextension~=3.6.0->ipywidgets) (4.1.0)\n",
      "Requirement already satisfied: testpath in c:\\users\\asus\\appdata\\local\\programs\\python\\python37\\lib\\site-packages (from nbconvert->notebook>=4.4.1->widgetsnbextension~=3.6.0->ipywidgets) (0.5.0)\n",
      "Requirement already satisfied: defusedxml in c:\\users\\asus\\appdata\\local\\programs\\python\\python37\\lib\\site-packages (from nbconvert->notebook>=4.4.1->widgetsnbextension~=3.6.0->ipywidgets) (0.7.1)\n",
      "Requirement already satisfied: pandocfilters>=1.4.1 in c:\\users\\asus\\appdata\\local\\programs\\python\\python37\\lib\\site-packages (from nbconvert->notebook>=4.4.1->widgetsnbextension~=3.6.0->ipywidgets) (1.5.0)\n",
      "Requirement already satisfied: mistune<2,>=0.8.1 in c:\\users\\asus\\appdata\\local\\programs\\python\\python37\\lib\\site-packages (from nbconvert->notebook>=4.4.1->widgetsnbextension~=3.6.0->ipywidgets) (0.8.4)\n",
      "Requirement already satisfied: jupyterlab-pygments in c:\\users\\asus\\appdata\\local\\programs\\python\\python37\\lib\\site-packages (from nbconvert->notebook>=4.4.1->widgetsnbextension~=3.6.0->ipywidgets) (0.1.2)\n",
      "Requirement already satisfied: pycparser in c:\\users\\asus\\appdata\\local\\programs\\python\\python37\\lib\\site-packages (from cffi>=1.0.0->argon2-cffi->notebook>=4.4.1->widgetsnbextension~=3.6.0->ipywidgets) (2.20)\n",
      "Requirement already satisfied: webencodings in c:\\users\\asus\\appdata\\local\\programs\\python\\python37\\lib\\site-packages (from bleach->nbconvert->notebook>=4.4.1->widgetsnbextension~=3.6.0->ipywidgets) (0.5.1)\n",
      "Requirement already satisfied: packaging in c:\\users\\asus\\appdata\\local\\programs\\python\\python37\\lib\\site-packages (from bleach->nbconvert->notebook>=4.4.1->widgetsnbextension~=3.6.0->ipywidgets) (20.9)\n",
      "Requirement already satisfied: pyparsing>=2.0.2 in c:\\users\\asus\\appdata\\local\\programs\\python\\python37\\lib\\site-packages (from packaging->bleach->nbconvert->notebook>=4.4.1->widgetsnbextension~=3.6.0->ipywidgets) (2.4.7)\n"
     ]
    }
   ],
   "source": []
  },
  {
   "cell_type": "code",
   "execution_count": 4,
   "id": "d7df00b2-9659-4ff5-9350-a99c273c2771",
   "metadata": {},
   "outputs": [],
   "source": [
    "import ipywidgets as widgets"
   ]
  },
  {
   "cell_type": "code",
   "execution_count": 5,
   "id": "c811e661-d72b-43ea-ab56-f41df5a8bef1",
   "metadata": {},
   "outputs": [
    {
     "data": {
      "application/vnd.jupyter.widget-view+json": {
       "model_id": "313979e4836247d0bc5b7ef7ff70de7d",
       "version_major": 2,
       "version_minor": 0
      },
      "text/plain": [
       "IntSlider(value=3, description='Slider:', max=10)"
      ]
     },
     "metadata": {},
     "output_type": "display_data"
    }
   ],
   "source": [
    "widgets.IntSlider(\n",
    "    min=0,\n",
    "    max=10,\n",
    "    step=1,\n",
    "    description='Slider:',\n",
    "    value=3\n",
    ")"
   ]
  },
  {
   "cell_type": "code",
   "execution_count": 6,
   "id": "33637536-9948-4048-9ba7-57f58410f6bd",
   "metadata": {},
   "outputs": [
    {
     "data": {
      "application/vnd.jupyter.widget-view+json": {
       "model_id": "d4802b91c5c648479d7bafdf5778d329",
       "version_major": 2,
       "version_minor": 0
      },
      "text/plain": [
       "IntSlider(value=0)"
      ]
     },
     "metadata": {},
     "output_type": "display_data"
    }
   ],
   "source": [
    "from IPython.display import display\n",
    "slider = widgets.IntSlider()\n",
    "display(slider)"
   ]
  },
  {
   "cell_type": "code",
   "execution_count": 7,
   "id": "55094c50-df55-4b48-9a7d-27b6dd714965",
   "metadata": {},
   "outputs": [
    {
     "data": {
      "application/vnd.jupyter.widget-view+json": {
       "model_id": "7a041c9197ac481ba832d898f3f6ad4d",
       "version_major": 2,
       "version_minor": 0
      },
      "text/plain": [
       "Button(description='Hello', style=ButtonStyle())"
      ]
     },
     "metadata": {},
     "output_type": "display_data"
    }
   ],
   "source": [
    "import ipywidgets as widgets\n",
    "from IPython.display import display\n",
    "\n",
    "button = widgets.Button(description='Hello')\n",
    "display(button)"
   ]
  },
  {
   "cell_type": "code",
   "execution_count": 45,
   "id": "967ecc49-11d2-4fd4-b2d7-acc98ec2f244",
   "metadata": {},
   "outputs": [],
   "source": [
    "v = 'Hell'\n",
    "ALL = 'ALL'\n",
    "\n",
    "import pandas as pd\n",
    "import numpy as np\n",
    "df = pd.read_csv('test_linkedin.csv')"
   ]
  },
  {
   "cell_type": "code",
   "execution_count": 46,
   "id": "e86268f2-51e0-4dad-a37f-09d508cb9dd2",
   "metadata": {},
   "outputs": [],
   "source": [
    "def unique_sorted_values_plus_ALL(array):\n",
    "    unique = array.unique().tolist()\n",
    "    unique.sort()\n",
    "    unique.insert(0, ALL)\n",
    "    return unique"
   ]
  },
  {
   "cell_type": "code",
   "execution_count": 47,
   "id": "49c0ec21-d7a3-4756-89bf-ed701039c287",
   "metadata": {},
   "outputs": [
    {
     "data": {
      "text/html": [
       "<div>\n",
       "<style scoped>\n",
       "    .dataframe tbody tr th:only-of-type {\n",
       "        vertical-align: middle;\n",
       "    }\n",
       "\n",
       "    .dataframe tbody tr th {\n",
       "        vertical-align: top;\n",
       "    }\n",
       "\n",
       "    .dataframe thead th {\n",
       "        text-align: right;\n",
       "    }\n",
       "</style>\n",
       "<table border=\"1\" class=\"dataframe\">\n",
       "  <thead>\n",
       "    <tr style=\"text-align: right;\">\n",
       "      <th></th>\n",
       "      <th>Name</th>\n",
       "      <th>Year</th>\n",
       "      <th>Course</th>\n",
       "      <th>PID</th>\n",
       "    </tr>\n",
       "  </thead>\n",
       "  <tbody>\n",
       "    <tr>\n",
       "      <th>0</th>\n",
       "      <td>Abhishek</td>\n",
       "      <td>2018</td>\n",
       "      <td>Bachelor of Technology - Btech</td>\n",
       "      <td>/in/abhi4gupta/</td>\n",
       "    </tr>\n",
       "    <tr>\n",
       "      <th>1</th>\n",
       "      <td>Ayush</td>\n",
       "      <td>2019</td>\n",
       "      <td>B.tech</td>\n",
       "      <td>/in/ayushraj0309/</td>\n",
       "    </tr>\n",
       "  </tbody>\n",
       "</table>\n",
       "</div>"
      ],
      "text/plain": [
       "       Name  Year                          Course                PID\n",
       "0  Abhishek  2018  Bachelor of Technology - Btech    /in/abhi4gupta/\n",
       "1     Ayush  2019                          B.tech  /in/ayushraj0309/"
      ]
     },
     "execution_count": 47,
     "metadata": {},
     "output_type": "execute_result"
    }
   ],
   "source": [
    "df"
   ]
  },
  {
   "cell_type": "code",
   "execution_count": 57,
   "id": "442c0ec2-5ffe-4d7b-b949-3d783d2b55f4",
   "metadata": {},
   "outputs": [
    {
     "data": {
      "application/vnd.jupyter.widget-view+json": {
       "model_id": "3c737f94de5740b788354a328e0e89fe",
       "version_major": 2,
       "version_minor": 0
      },
      "text/plain": [
       "Dropdown(options=('ALL', 2018, 2019), value='ALL')"
      ]
     },
     "metadata": {},
     "output_type": "display_data"
    }
   ],
   "source": [
    "\n",
    "# dropdown_year = widgets.Dropdown(options = ['2018','2019'])\n",
    "dropdown_year = widgets.Dropdown(options = unique_sorted_values_plus_ALL(df.Year))\n",
    "\n",
    "output_year = widgets.Output() \n",
    "\n",
    "def dropdown_year_eventhandler(change):\n",
    "    print('asfgdhfbjnfdjcv')\n",
    "    # output_year.clear_output()\n",
    "    print(df.Year, output_year)\n",
    "    if (change.new == ALL):\n",
    "        display(df)\n",
    "    else:\n",
    "        display(df[df.Year == change.new])\n",
    "\n",
    "dropdown_year.observe(dropdown_year_eventhandler, names='value')\n",
    "\n",
    "\n",
    "display(dropdown_year)"
   ]
  },
  {
   "cell_type": "code",
   "execution_count": 59,
   "id": "42e040b0-451e-45d0-a8d9-416f6ee1826e",
   "metadata": {},
   "outputs": [
    {
     "name": "stdout",
     "output_type": "stream",
     "text": [
      "Hell\n"
     ]
    }
   ],
   "source": [
    "print(v)\n",
    "x = 'X'"
   ]
  },
  {
   "cell_type": "code",
   "execution_count": 63,
   "id": "770a3d77-00c8-49a6-9dd8-0df512bc733a",
   "metadata": {},
   "outputs": [
    {
     "data": {
      "application/vnd.jupyter.widget-view+json": {
       "model_id": "063d4a20738e42489fcfd6ef44e620e7",
       "version_major": 2,
       "version_minor": 0
      },
      "text/plain": [
       "Dropdown(description='Task:', options=('Addition', 'Multiplication', 'Subtraction', 'Division'), value='Additi…"
      ]
     },
     "metadata": {},
     "output_type": "display_data"
    }
   ],
   "source": [
    "w = widgets.Dropdown(\n",
    "    options=['Addition', 'Multiplication', 'Subtraction', 'Division'],\n",
    "    value='Addition',\n",
    "    description='Task:',\n",
    ")\n",
    "\n",
    "def on_change(change):\n",
    "    if change['type'] == 'change' and change['name'] == 'value':\n",
    "        print(\"changed to %s\" % change['new'])\n",
    "    x = \"changed to %s\" % change['new']\n",
    "\n",
    "w.observe(on_change)\n",
    "\n",
    "display(w)"
   ]
  },
  {
   "cell_type": "code",
   "execution_count": 90,
   "id": "ecb42fab-2e4b-4a12-a0b3-d19a5d319877",
   "metadata": {},
   "outputs": [],
   "source": [
    "_course = ''\n",
    "_year = ''"
   ]
  },
  {
   "cell_type": "code",
   "execution_count": 116,
   "id": "be786701-eadb-4da4-a76f-89466aa39129",
   "metadata": {},
   "outputs": [
    {
     "data": {
      "text/html": [
       "<div>\n",
       "<style scoped>\n",
       "    .dataframe tbody tr th:only-of-type {\n",
       "        vertical-align: middle;\n",
       "    }\n",
       "\n",
       "    .dataframe tbody tr th {\n",
       "        vertical-align: top;\n",
       "    }\n",
       "\n",
       "    .dataframe thead th {\n",
       "        text-align: right;\n",
       "    }\n",
       "</style>\n",
       "<table border=\"1\" class=\"dataframe\">\n",
       "  <thead>\n",
       "    <tr style=\"text-align: right;\">\n",
       "      <th></th>\n",
       "      <th>Name</th>\n",
       "      <th>Year</th>\n",
       "      <th>Course</th>\n",
       "      <th>PID</th>\n",
       "    </tr>\n",
       "  </thead>\n",
       "  <tbody>\n",
       "    <tr>\n",
       "      <th>1</th>\n",
       "      <td>Ayush</td>\n",
       "      <td>2019</td>\n",
       "      <td>B.tech</td>\n",
       "      <td>/in/ayushraj0309/</td>\n",
       "    </tr>\n",
       "  </tbody>\n",
       "</table>\n",
       "</div>"
      ],
      "text/plain": [
       "    Name  Year  Course                PID\n",
       "1  Ayush  2019  B.tech  /in/ayushraj0309/"
      ]
     },
     "execution_count": 116,
     "metadata": {},
     "output_type": "execute_result"
    }
   ],
   "source": [
    "df[df.Year == 2019]"
   ]
  },
  {
   "cell_type": "code",
   "execution_count": 161,
   "id": "6a900b97-5189-45f3-9f92-a95e79424ed7",
   "metadata": {},
   "outputs": [
    {
     "data": {
      "application/vnd.jupyter.widget-view+json": {
       "model_id": "84dd5579036742139c07814fac76a523",
       "version_major": 2,
       "version_minor": 0
      },
      "text/plain": [
       "Label(value='Course')"
      ]
     },
     "metadata": {},
     "output_type": "display_data"
    },
    {
     "data": {
      "application/vnd.jupyter.widget-view+json": {
       "model_id": "60349713f79b4d899d3cc40c1dd785ee",
       "version_major": 2,
       "version_minor": 0
      },
      "text/plain": [
       "Text(value='')"
      ]
     },
     "metadata": {},
     "output_type": "display_data"
    },
    {
     "data": {
      "application/vnd.jupyter.widget-view+json": {
       "model_id": "3fc26a318a994f7e8decb701b2ec3a9f",
       "version_major": 2,
       "version_minor": 0
      },
      "text/plain": [
       "Label(value='Year')"
      ]
     },
     "metadata": {},
     "output_type": "display_data"
    },
    {
     "data": {
      "application/vnd.jupyter.widget-view+json": {
       "model_id": "3176420681bb4e239b95509d41c33020",
       "version_major": 2,
       "version_minor": 0
      },
      "text/plain": [
       "Text(value='')"
      ]
     },
     "metadata": {},
     "output_type": "display_data"
    },
    {
     "data": {
      "application/vnd.jupyter.widget-view+json": {
       "model_id": "515fed7fe9df463a90e9197f39eb2fee",
       "version_major": 2,
       "version_minor": 0
      },
      "text/plain": [
       "Button(description='Get filtered csv', style=ButtonStyle())"
      ]
     },
     "metadata": {},
     "output_type": "display_data"
    },
    {
     "data": {
      "application/vnd.jupyter.widget-view+json": {
       "model_id": "1dbc26ac76ec4b47a81ddee017eea1fd",
       "version_major": 2,
       "version_minor": 0
      },
      "text/plain": [
       "Label(value='')"
      ]
     },
     "metadata": {},
     "output_type": "display_data"
    }
   ],
   "source": [
    "from ipywidgets import widgets \n",
    "lbl1=widgets.Label('Course') \n",
    "display(lbl1) \n",
    "text1=widgets.Text() \n",
    "display(text1) \n",
    "lbl2=widgets.Label('Year') \n",
    "display(lbl2) \n",
    "text2=widgets.Text() \n",
    "display(text2) \n",
    "btn=widgets.Button(description=\"Get filtered csv\") \n",
    "display(btn) \n",
    "lbl3=widgets.Label()\n",
    "# display(df)\n",
    "display(lbl3)\n",
    "def filter(b):\n",
    "    _course = text1.value\n",
    "    _year = text2.value\n",
    "    print('l1'+text1.value+text2.value)\n",
    "    print(_course+_year)\n",
    "    x=text1.value\n",
    "    y=text2.value\n",
    "    # df = df[df.Year == y]\n",
    "    # display(df)\n",
    "    df2 = df\n",
    "    if  x!= '':\n",
    "        df2 = df[df.Year == int(y)]\n",
    "    if y != '':\n",
    "        df2 = df[df.Year == int(y)]\n",
    "    # display(df2)\n",
    "    # df = df[df.Year == int(y)]\n",
    "    pid_str =  \n",
    "    lbl3.value = str(df2.PID)\n",
    "    # display(df[df.Year == _year])\n",
    "    # lbl3.value=\"result= \"+str(x+y)\n",
    "    # lbl3.value=str(x+y)\n",
    "btn.on_click(filter)"
   ]
  },
  {
   "cell_type": "code",
   "execution_count": 93,
   "id": "5a57a53a-2cb7-42b2-89dc-5da68e94c5f8",
   "metadata": {},
   "outputs": [
    {
     "name": "stdout",
     "output_type": "stream",
     "text": [
      " \n"
     ]
    }
   ],
   "source": [
    "print(_course, _year)"
   ]
  },
  {
   "cell_type": "code",
   "execution_count": 125,
   "id": "bf2086a0-49da-4511-907f-93b88e7ed429",
   "metadata": {},
   "outputs": [
    {
     "name": "stdout",
     "output_type": "stream",
     "text": [
      "Name\n",
      "Year\n",
      "Course\n",
      "PID\n"
     ]
    },
    {
     "data": {
      "text/plain": [
       "''"
      ]
     },
     "execution_count": 125,
     "metadata": {},
     "output_type": "execute_result"
    }
   ],
   "source": [
    "def getFormattedDFStr(df):\n",
    "    ans = ''\n",
    "    for d in df:\n",
    "        print(d)\n",
    "    return ans\n",
    "getFormattedDFStr(df)"
   ]
  },
  {
   "cell_type": "code",
   "execution_count": null,
   "id": "bdc7b235-b368-4cc8-8fa8-fe1fb250fc9f",
   "metadata": {},
   "outputs": [],
   "source": []
  }
 ],
 "metadata": {
  "kernelspec": {
   "display_name": "Python 3 (ipykernel)",
   "language": "python",
   "name": "python3"
  },
  "language_info": {
   "codemirror_mode": {
    "name": "ipython",
    "version": 3
   },
   "file_extension": ".py",
   "mimetype": "text/x-python",
   "name": "python",
   "nbconvert_exporter": "python",
   "pygments_lexer": "ipython3",
   "version": "3.7.2"
  }
 },
 "nbformat": 4,
 "nbformat_minor": 5
}
