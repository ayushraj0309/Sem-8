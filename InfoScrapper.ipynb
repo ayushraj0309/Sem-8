{
 "cells": [
  {
   "cell_type": "code",
   "execution_count": 29,
   "id": "8eb5fea3-e263-41e1-897c-e573bce976c7",
   "metadata": {},
   "outputs": [],
   "source": [
    "import requests, time, random\n",
    "from bs4 import BeautifulSoup\n",
    "from selenium import webdriver\n",
    "from six import iteritems"
   ]
  },
  {
   "cell_type": "code",
   "execution_count": 30,
   "id": "44167e36-0b09-4a9c-b68c-63c4f3c74fe2",
   "metadata": {},
   "outputs": [],
   "source": [
    "all_profile_info = {}"
   ]
  },
  {
   "cell_type": "code",
   "execution_count": 31,
   "id": "bced91cc-9080-4cdb-9140-3430f57cc593",
   "metadata": {},
   "outputs": [],
   "source": [
    "class Helper:\n",
    "    @staticmethod\n",
    "    def printDict(_dict):\n",
    "        for key, value in iteritems(_dict):\n",
    "            print(key,':',value)\n",
    "\n",
    "    @staticmethod\n",
    "    def printListDic(all_exp):\n",
    "        for _dict in all_exp:\n",
    "            printDict(_dict)\n",
    "            print()\n",
    "            \n",
    "    @staticmethod\n",
    "    def login(browser):\n",
    "        browser.get('https://www.linkedin.com/uas/login')\n",
    "        file = open('config.txt')\n",
    "        lines = file.readlines()\n",
    "        username = lines[0]\n",
    "        password = lines[1]\n",
    "\n",
    "        elementID = browser.find_element_by_id('username')\n",
    "        elementID.send_keys(username)\n",
    "        elementID = browser.find_element_by_id('password')\n",
    "        elementID.send_keys(password)\n",
    "        elementID.submit()\n",
    "        \n",
    "    @staticmethod\n",
    "    def get_browser(logged_in=True):\n",
    "        browser = webdriver.Chrome('driver/chromedriver.exe')\n",
    "        if logged_in:\n",
    "            Helper.login(browser)\n",
    "        return browser\n",
    "    \n",
    "    @staticmethod\n",
    "    def scroll(browser):\n",
    "        SCROLL_PAUSE_TIME = 2\n",
    "        last_height = browser.execute_script(\"return document.body.scrollHeight\")\n",
    "        for i in range(3):\n",
    "            browser.execute_script(\"window.scrollTo(0, document.body.scrollHeight);\")\n",
    "            time.sleep(SCROLL_PAUSE_TIME)\n",
    "            new_height = browser.execute_script(\"return document.body.scrollHeight\")\n",
    "            if new_height == last_height:\n",
    "                break\n",
    "            last_height = new_height\n",
    "         \n",
    "    @staticmethod   \n",
    "    def get_profile_link_and_scroll(browser, url):\n",
    "        browser.get(url)\n",
    "        Helper.scroll(browser)\n",
    "        \n",
    "    @staticmethod\n",
    "    def get_profile_id_from_linkedin_url(url):\n",
    "        url = str(url)\n",
    "        index = url.find('.com')\n",
    "        return url[index+4:]\n",
    "    \n",
    "    @staticmethod\n",
    "    def get_profile_url_from_id(_id):\n",
    "        LINKEDIN_BASE_URL = 'https://www.linkedin.com'\n",
    "        _id = str(_id)\n",
    "        \n",
    "        url = LINKEDIN_BASE_URL + _id\n",
    "        return url\n",
    "    \n",
    "    @staticmethod\n",
    "    def setBroswerAndGetSoup(browser, profile_url):\n",
    "        browser.get(profile_url)\n",
    "        Helper.scroll(browser)\n",
    "        src = browser.page_source\n",
    "        soup = BeautifulSoup(src, 'lxml')\n",
    "        return soup\n",
    "    \n",
    "    @staticmethod\n",
    "    def is_from_IIITA(all_edu_exp):\n",
    "        IIITA_School_Company = 'https://www.linkedin.com/company/497317/'\n",
    "        IIITA = 'https://www.linkedin.com/search/results/all/?keywords=IIIT+Allahabad'\n",
    "        for each_edu_exp in all_edu_exp:\n",
    "            if each_edu_exp['URL ID'] == IIITA_School_Company:\n",
    "                return True\n",
    "            if each_edu_exp['URL ID'] == IIITA:\n",
    "                return True\n",
    "        return False\n",
    "    "
   ]
  },
  {
   "cell_type": "code",
   "execution_count": 32,
   "id": "fadf7290-1c6c-4ee6-a411-0340a4d2651e",
   "metadata": {},
   "outputs": [],
   "source": [
    "class InfoScraper:\n",
    "    def __init__(self, profile_url, logged_in_browser):\n",
    "        self.profile_id = Helper.get_profile_id_from_linkedin_url(profile_url)\n",
    "        self.profile_url = profile_url\n",
    "        self.browser = logged_in_browser\n",
    "        self.bs = self.setBroswerAndGetSoup()\n",
    "        self.basicProfileInfo = self.getBasicProfileInfo()\n",
    "        self.all_experiences = self.getAllExperieceInfo()\n",
    "        self.all_educations = self.getAllEducationInfo()\n",
    "        self.is_faculty = Helper.is_from_IIITA(self.all_experiences)\n",
    "        self.is_student = Helper.is_from_IIITA(self.all_educations)\n",
    "        self.profile_status = self.connectionStatus()\n",
    "\n",
    "    def setBroswerAndGetSoup(self):\n",
    "        self.browser.get(self.profile_url)\n",
    "        Helper.scroll(self.browser)\n",
    "        src = self.browser.page_source\n",
    "        soup = BeautifulSoup(src, 'lxml')\n",
    "        return soup\n",
    "\n",
    "    def refreshStatus(self):\n",
    "        self.bs = self.setBroswerAndGetSoup()\n",
    "        self.profile_status = self.connectionStatus()\n",
    "        \n",
    "    def connectionStatus(self):\n",
    "        bs = self.bs\n",
    "        actions_div = bs.find('div', {'class': 'pvs-profile-actions'})\n",
    "        if actions_div is None:\n",
    "            return \"Error\"\n",
    "        actions = actions_div.findAll('div', {'class': 'entry-point'})\n",
    "        if ' to connect' in str(actions_div):\n",
    "            return \"Not Connected\"\n",
    "        if 'Pending' in str(actions_div):\n",
    "            return \"Request Pending\"\n",
    "        if actions is None or len(actions) == 0:\n",
    "            return \"Unknown\"\n",
    "        return \"Connected\"\n",
    "\n",
    "    def getProfileName(self, bs):\n",
    "        name_div = bs.find('div', {'class': 'mt2 relative'})\n",
    "        name_loc = name_div.find_all('div')\n",
    "        name = name_loc[0].find('h1').get_text().strip()\n",
    "        return str(name)\n",
    "\n",
    "    def getProfileLocation(self, bs):\n",
    "        name_div = bs.find('div', {'class': 'mt2 relative'})\n",
    "        name_loc = name_div.find_all('div')\n",
    "        if len(name_loc) == 0:\n",
    "            return 'None'\n",
    "        loc = name_loc[-1].find('span').get_text().strip()\n",
    "        return str(loc)\n",
    "\n",
    "    def getBasicProfileInfo(self):\n",
    "        bs = self.bs\n",
    "        info = {}\n",
    "        info['Name'] = self.getProfileName(bs)\n",
    "        info['Location'] = self.getProfileLocation(bs)\n",
    "        return info\n",
    "    \n",
    "    def getExpURLID(self, bs):\n",
    "        ids = []\n",
    "        href_classes = bs.findAll('a', {'data-field': 'experience_company_logo'})\n",
    "        for href_class in href_classes:\n",
    "            if href_class is None:\n",
    "                continue\n",
    "            exp_url = href_class.attrs.get('href', None)\n",
    "            if exp_url is None:\n",
    "                continue\n",
    "            ids.append(exp_url)\n",
    "        return ids\n",
    "\n",
    "    def getExpTitle(self, all_exp_spans):\n",
    "        if len(all_exp_spans) < 2:\n",
    "            return 'None'\n",
    "        job_title = all_exp_spans[1].get_text().strip()\n",
    "        return str(job_title)\n",
    "\n",
    "    def getExpCompany(self, all_exp_spans):\n",
    "        if len(all_exp_spans) < 4:\n",
    "            return 'None'\n",
    "        double_text = str(all_exp_spans[3].get_text().strip())\n",
    "        strip_index = len(double_text)//2\n",
    "        company = double_text[0:strip_index].split(' · ')[0]\n",
    "        return str(company)\n",
    "\n",
    "    def getExpTimePeriod(self, all_exp_spans):\n",
    "        if len(all_exp_spans) < 7:\n",
    "            return 'None'\n",
    "        time_period = all_exp_spans[6].get_text().strip().split(' · ')[0]\n",
    "        return str(time_period)\n",
    "\n",
    "    def getExpInfo(self, exp):\n",
    "        info = {}\n",
    "        all_exp_spans = exp.find_all('span')\n",
    "        job_title = self.getExpTitle(all_exp_spans)\n",
    "        company = self.getExpCompany(all_exp_spans)\n",
    "        time_period = self.getExpTimePeriod(all_exp_spans)\n",
    "        \n",
    "        info['Job Title'] = job_title\n",
    "        info['Company'] = company\n",
    "        info['Time Period'] = time_period\n",
    "        return info\n",
    "        \n",
    "    def getExperienceSetions(self, bs):\n",
    "        profile_sections = bs.findAll('section')\n",
    "        exp_profile_section = None\n",
    "        for profile_section in profile_sections:\n",
    "            x = profile_section.find('div', {'id': 'experience'})\n",
    "            if x is not None:\n",
    "                exp_profile_section = profile_section\n",
    "                break\n",
    "        if exp_profile_section is None:\n",
    "            return {}\n",
    "        exp_sections = exp_profile_section.find_all('div', {'class': 'display-flex flex-column full-width align-self-center'})\n",
    "        return exp_sections\n",
    "\n",
    "    def getAllExperieceInfo(self):\n",
    "        bs = self.bs\n",
    "        all_experiences = []\n",
    "        company_ids = self.getExpURLID(bs)\n",
    "        exp_sections = self.getExperienceSetions(bs)\n",
    "        for exp in exp_sections:\n",
    "            all_experiences.append(self.getExpInfo(exp))\n",
    "        for i in range(len(all_experiences)):\n",
    "            if i >= len(company_ids):\n",
    "                all_experiences[i]['URL ID'] = 'None'\n",
    "                continue\n",
    "            all_experiences[i]['URL ID'] = str(company_ids[i])\n",
    "        return all_experiences\n",
    "\n",
    "    def getEduSchoolID(self, edu):\n",
    "        href_class = edu.findAll('a')\n",
    "        if href_class is None or len(href_class) == 0:\n",
    "            return 'None'\n",
    "        school_url = href_class[0].attrs.get('href', None)\n",
    "        if school_url is None:\n",
    "            return 'None'\n",
    "        return str(school_url)\n",
    "\n",
    "    def getEduSchool(self, all_edu_spans):\n",
    "        if len(all_edu_spans) < 2:\n",
    "            return 'None'\n",
    "        job_title = all_edu_spans[1].get_text().strip()\n",
    "        return str(job_title)\n",
    "\n",
    "    def getEduCourse(self, all_edu_spans):\n",
    "        if len(all_edu_spans) < 4:\n",
    "            return 'None'\n",
    "        course_and_discipline = all_edu_spans[4].get_text().strip().split(',')\n",
    "        if len(course_and_discipline) < 1:\n",
    "            return 'None'\n",
    "        course = course_and_discipline[0]\n",
    "        return str(course)\n",
    "\n",
    "    def getEduDiscipline(self, all_edu_spans):\n",
    "        if len(all_edu_spans) < 4:\n",
    "            return 'None'\n",
    "        line_text = all_edu_spans[4].get_text()\n",
    "        course_and_discipline = line_text.strip().split(',')\n",
    "        if len(course_and_discipline) < 2:\n",
    "            return 'None'\n",
    "        ind = line_text.find(', ')\n",
    "        discipline = line_text[ind+1:]\n",
    "        return str(discipline)\n",
    "\n",
    "    def getEduTimePeriod(self, all_edu_spans):\n",
    "        if len(all_edu_spans) < 8:\n",
    "            return 'None'\n",
    "        time_period = all_edu_spans[7].get_text().strip()\n",
    "        return str(time_period)\n",
    "\n",
    "    def getEduInfo(self, edu):\n",
    "        info = {}\n",
    "        # print(edu)\n",
    "        all_edu_spans = edu.find_all('span')\n",
    "        school_url_id = self.getEduSchoolID(edu)\n",
    "        school = self.getEduSchool(all_edu_spans)\n",
    "        course = self.getEduCourse(all_edu_spans)\n",
    "        discipline = self.getEduDiscipline(all_edu_spans)\n",
    "        time_period = self.getEduTimePeriod(all_edu_spans)\n",
    "        info['URL ID'] = school_url_id\n",
    "        info['Insititution'] = school\n",
    "        info['Course'] = course\n",
    "        info['Discipline'] = discipline\n",
    "        info['Time Period'] = time_period\n",
    "        return info\n",
    "        \n",
    "    def getEducationSetions(self, bs):\n",
    "        profile_sections = bs.findAll('section')\n",
    "        edu_profile_section = None\n",
    "        for profile_section in profile_sections:\n",
    "            x = profile_section.find('div', {'id': 'education'})\n",
    "            if x is not None:\n",
    "                edu_profile_section = profile_section\n",
    "                break\n",
    "        if edu_profile_section is None:\n",
    "            return {}\n",
    "        edu_sections = edu_profile_section.find_all('div', {'class': 'display-flex flex-column full-width align-self-center'})\n",
    "        return edu_sections\n",
    "\n",
    "    def getAllEducationInfo(self):\n",
    "        bs = self.bs\n",
    "        all_educations = []\n",
    "        edu_sections = self.getEducationSetions(bs)\n",
    "        for edu in edu_sections:\n",
    "            all_educations.append(self.getEduInfo(edu))\n",
    "        return all_educations"
   ]
  },
  {
   "cell_type": "code",
   "execution_count": 33,
   "id": "3a3adf9d-01a5-439b-9346-18ce8b949afe",
   "metadata": {},
   "outputs": [
    {
     "name": "stderr",
     "output_type": "stream",
     "text": [
      "c:\\users\\asus\\appdata\\local\\programs\\python\\python37\\lib\\site-packages\\ipykernel_launcher.py:29: DeprecationWarning: executable_path has been deprecated, please pass in a Service object\n",
      "c:\\users\\asus\\appdata\\local\\programs\\python\\python37\\lib\\site-packages\\ipykernel_launcher.py:21: DeprecationWarning: find_element_by_* commands are deprecated. Please use find_element() instead\n",
      "c:\\users\\asus\\appdata\\local\\programs\\python\\python37\\lib\\site-packages\\ipykernel_launcher.py:23: DeprecationWarning: find_element_by_* commands are deprecated. Please use find_element() instead\n"
     ]
    }
   ],
   "source": [
    "browser = Helper.get_browser()"
   ]
  },
  {
   "cell_type": "code",
   "execution_count": 34,
   "id": "a79bffc9-ad3a-4de7-aaac-8efb9ec090de",
   "metadata": {},
   "outputs": [],
   "source": [
    "# profile_info = InfoScraper('https://www.linkedin.com/in/abhi4gupta/', browser)\n",
    "# profile_info = InfoScraper('https://www.linkedin.com/in/dr-sunny-sharma-64887918/', browser)\n",
    "profile_info_2 = InfoScraper('https://www.linkedin.com/in/anupam-agrawal-a822b011/', browser)\n",
    "# print(profile_info.all_experiences)"
   ]
  },
  {
   "cell_type": "code",
   "execution_count": 35,
   "id": "9c90ac6c-4b2f-45c3-b9af-f6281c0c32da",
   "metadata": {},
   "outputs": [
    {
     "data": {
      "text/plain": [
       "True"
      ]
     },
     "execution_count": 35,
     "metadata": {},
     "output_type": "execute_result"
    }
   ],
   "source": [
    "profile_info_2.is_student"
   ]
  },
  {
   "cell_type": "code",
   "execution_count": 36,
   "id": "1db43aca-88c9-423f-8d11-783c5beec4c8",
   "metadata": {},
   "outputs": [],
   "source": [
    "all_profile_info[profile_info_2.profile_id] = profile_info_2"
   ]
  },
  {
   "cell_type": "code",
   "execution_count": 18,
   "id": "5cf5c7e1-68bd-4835-bda9-298739457637",
   "metadata": {},
   "outputs": [
    {
     "name": "stdout",
     "output_type": "stream",
     "text": [
      "True\n"
     ]
    }
   ],
   "source": [
    "print(all_profile_info['/in/anupam-agrawal-a822b011/'].is_faculty)"
   ]
  },
  {
   "cell_type": "code",
   "execution_count": null,
   "id": "0ffbd7b8-73cd-481e-a4fa-90e0eb3238cd",
   "metadata": {},
   "outputs": [],
   "source": []
  },
  {
   "cell_type": "code",
   "execution_count": null,
   "id": "6f3663f7-c8c4-4ade-b465-715964d9ecba",
   "metadata": {},
   "outputs": [],
   "source": []
  },
  {
   "cell_type": "code",
   "execution_count": null,
   "id": "2909c96f-3904-4185-b433-c153978aada2",
   "metadata": {},
   "outputs": [],
   "source": []
  },
  {
   "cell_type": "code",
   "execution_count": 37,
   "id": "354caf28-cbfe-4a75-9c43-93c3e2871ad2",
   "metadata": {},
   "outputs": [],
   "source": [
    "profile_urls = [\n",
    "    'https://www.linkedin.com/in/anupam-agrawal-a822b011/',\n",
    "    'https://www.linkedin.com/in/shivam-gupta-52302516b/',\n",
    "    'https://www.linkedin.com/in/isha-goel30/',\n",
    "    'https://www.linkedin.com/in/richik-bhattacharjee/',\n",
    "    'https://www.linkedin.com/in/sougata-das-4132a616b/',\n",
    "    'https://www.linkedin.com/in/abhi4gupta/',\n",
    "    'https://www.linkedin.com/in/dr-sunny-sharma-64887918/',\n",
    "    'https://www.linkedin.com/in/sankarsan-bhattacheryya-003526173/',\n",
    "    'https://www.linkedin.com/in/soumabrata-bhattacharya-9b190a1a9/',\n",
    "    'https://www.linkedin.com/in/arun-gangwar-14a428202/',\n",
    "    'https://www.linkedin.com/in/avijit-agarwal-06b495148/',\n",
    "    'https://www.linkedin.com/in/sanyam-garg-22a487135/',\n",
    "    'https://www.linkedin.com/in/prateek-m-058795114/',\n",
    "    'https://www.linkedin.com/in/anish-goswami-49a3b7185/',\n",
    "    'https://www.linkedin.com/in/pranal-maheshwari-31a850192/',\n",
    "    'https://www.linkedin.com/in/abhigyansharma29/',\n",
    "    'https://www.linkedin.com/in/blackdchase/',\n",
    "    'https://www.linkedin.com/in/raunak-rathour-84a7b71aa/',\n",
    "    'https://www.linkedin.com/in/utkarsh--priyam/',\n",
    "]"
   ]
  },
  {
   "cell_type": "code",
   "execution_count": 38,
   "id": "5de7ed87-7917-4cee-a712-e85bdf58628c",
   "metadata": {},
   "outputs": [
    {
     "name": "stdout",
     "output_type": "stream",
     "text": [
      "/in/anupam-agrawal-a822b011/ \t, Student : True \t, Faculty : True\n",
      "/in/shivam-gupta-52302516b/ \t, Student : False \t, Faculty : False\n",
      "/in/isha-goel30/ \t, Student : False \t, Faculty : False\n",
      "/in/richik-bhattacharjee/ \t, Student : False \t, Faculty : False\n",
      "/in/sougata-das-4132a616b/ \t, Student : False \t, Faculty : False\n",
      "/in/abhi4gupta/ \t, Student : True \t, Faculty : False\n",
      "/in/dr-sunny-sharma-64887918/ \t, Student : False \t, Faculty : True\n",
      "/in/sankarsan-bhattacheryya-003526173/ \t, Student : False \t, Faculty : False\n",
      "/in/soumabrata-bhattacharya-9b190a1a9/ \t, Student : False \t, Faculty : False\n",
      "/in/arun-gangwar-14a428202/ \t, Student : False \t, Faculty : False\n",
      "/in/avijit-agarwal-06b495148/ \t, Student : False \t, Faculty : False\n",
      "/in/sanyam-garg-22a487135/ \t, Student : False \t, Faculty : False\n",
      "/in/prateek-m-058795114/ \t, Student : True \t, Faculty : False\n",
      "/in/anish-goswami-49a3b7185/ \t, Student : True \t, Faculty : False\n",
      "/in/pranal-maheshwari-31a850192/ \t, Student : True \t, Faculty : False\n",
      "/in/abhigyansharma29/ \t, Student : True \t, Faculty : False\n",
      "/in/blackdchase/ \t, Student : True \t, Faculty : False\n",
      "/in/raunak-rathour-84a7b71aa/ \t, Student : True \t, Faculty : False\n",
      "/in/utkarsh--priyam/ \t, Student : True \t, Faculty : False\n"
     ]
    }
   ],
   "source": [
    "for profile_url in profile_urls:\n",
    "    profile_id = Helper.get_profile_id_from_linkedin_url(profile_url)\n",
    "    profile_info = None\n",
    "    if profile_id not in all_profile_info:\n",
    "        profile_info = InfoScraper(profile_url, browser)\n",
    "        all_profile_info[profile_id] = profile_info\n",
    "    else:\n",
    "        profile_info = all_profile_info[profile_id]\n",
    "    print(profile_id, '\\t, Student :', profile_info.is_student, '\\t, Faculty :', profile_info.is_faculty)"
   ]
  },
  {
   "cell_type": "code",
   "execution_count": 39,
   "id": "a0073181-1a74-4a7e-a189-7bf92f9519be",
   "metadata": {},
   "outputs": [
    {
     "name": "stdout",
     "output_type": "stream",
     "text": [
      "{'/in/anupam-agrawal-a822b011/': <__main__.InfoScraper object at 0x00000165FD7760B8>, '/in/shivam-gupta-52302516b/': <__main__.InfoScraper object at 0x00000165FD9F0DD8>, '/in/isha-goel30/': <__main__.InfoScraper object at 0x00000165FD9F0DA0>, '/in/richik-bhattacharjee/': <__main__.InfoScraper object at 0x00000165FE2BBB70>, '/in/sougata-das-4132a616b/': <__main__.InfoScraper object at 0x00000165FE611898>, '/in/abhi4gupta/': <__main__.InfoScraper object at 0x00000165FE688EF0>, '/in/dr-sunny-sharma-64887918/': <__main__.InfoScraper object at 0x00000165FECD2BE0>, '/in/sankarsan-bhattacheryya-003526173/': <__main__.InfoScraper object at 0x00000165FED59A90>, '/in/soumabrata-bhattacharya-9b190a1a9/': <__main__.InfoScraper object at 0x00000165FF2C4BA8>, '/in/arun-gangwar-14a428202/': <__main__.InfoScraper object at 0x00000165FF316C50>, '/in/avijit-agarwal-06b495148/': <__main__.InfoScraper object at 0x00000165FF4A99E8>, '/in/sanyam-garg-22a487135/': <__main__.InfoScraper object at 0x00000165FFB90898>, '/in/prateek-m-058795114/': <__main__.InfoScraper object at 0x00000165FFB2D8D0>, '/in/anish-goswami-49a3b7185/': <__main__.InfoScraper object at 0x000001658049ACF8>, '/in/pranal-maheshwari-31a850192/': <__main__.InfoScraper object at 0x00000165807403C8>, '/in/abhigyansharma29/': <__main__.InfoScraper object at 0x00000165809F9C18>, '/in/blackdchase/': <__main__.InfoScraper object at 0x0000016581063978>, '/in/raunak-rathour-84a7b71aa/': <__main__.InfoScraper object at 0x000001658133DAC8>, '/in/utkarsh--priyam/': <__main__.InfoScraper object at 0x00000165811DABE0>}\n"
     ]
    }
   ],
   "source": [
    "print(all_profile_info)"
   ]
  },
  {
   "cell_type": "code",
   "execution_count": 40,
   "id": "da8862b0-4c1d-4d4a-8702-85795d1cc2a7",
   "metadata": {},
   "outputs": [],
   "source": [
    "class OtherProfileInfo:\n",
    "    def __init__(self, logged_in_browser):\n",
    "        self.browser = logged_in_browser\n",
    "        \n",
    "    def getPeopleAlsoViewedSection(self, bs):\n",
    "        profile_sections = bs.findAll('section')\n",
    "        req_profile_section = None\n",
    "        for profile_section in profile_sections:\n",
    "            if 'People also viewed' in str(profile_section):\n",
    "                return profile_section\n",
    "        return None\n",
    "\n",
    "    def getNewProfileIDs(self, profile, profilesQueued):\n",
    "        profilesID = []\n",
    "        bs = self.setBroswerAndGetSoup(profile)\n",
    "        people_also_viewed_section = self.getPeopleAlsoViewedSection(bs)\n",
    "        if people_also_viewed_section is None:\n",
    "            return None\n",
    "        all_links = people_also_viewed_section.findAll('a')\n",
    "        for link in all_links:\n",
    "            userID = link.get('href')\n",
    "            if((userID is not None) and (userID not in profilesQueued) and (userID not in visitedProfiles)):\n",
    "                profilesID.append(userID)\n",
    "        return profilesID\n",
    "    \n",
    "    def setBroswerAndGetSoup(self, profile):\n",
    "        self.browser.get(profile)\n",
    "        src = self.browser.page_source\n",
    "        soup = BeautifulSoup(src, 'lxml')\n",
    "        return soup\n"
   ]
  },
  {
   "cell_type": "code",
   "execution_count": 41,
   "id": "72e08aa2-8063-4dc6-aa20-ebf7601325ca",
   "metadata": {},
   "outputs": [
    {
     "data": {
      "text/plain": [
       "['/in/dakshita/',\n",
       " '/in/prachibindal/',\n",
       " '/in/naina-gupta-99a64317a/',\n",
       " '/in/muskan-maheshwari-1659aa190/',\n",
       " '/in/soumyaa1804/']"
      ]
     },
     "execution_count": 41,
     "metadata": {},
     "output_type": "execute_result"
    }
   ],
   "source": [
    "other_profile = OtherProfileInfo(browser)\n",
    "visitedProfiles = []\n",
    "profilesQueued = []\n",
    "other_profile.getNewProfileIDs('https://www.linkedin.com/in/isha-goel30/', profilesQueued)"
   ]
  },
  {
   "cell_type": "code",
   "execution_count": 42,
   "id": "1f544832-5dc4-4e6a-bcb5-5d12a3e66486",
   "metadata": {},
   "outputs": [],
   "source": [
    "class MyProfile:\n",
    "    LINKEDIN_BASE_URL = 'https://www.linkedin.com'\n",
    "    def __init__(self, logged_in_browser):\n",
    "        self.browser = logged_in_browser\n",
    "        self.followers = self.getFollowersList()\n",
    "        self.iiit_student, self.iiit_faculty = self.getIIITList(self.followers)\n",
    "        \n",
    "    def getFollowersList(self):\n",
    "        followers_url = 'https://www.linkedin.com/feed/followers/'\n",
    "        browser.get(followers_url)\n",
    "        time.sleep(2)\n",
    "        src = browser.page_source\n",
    "        bs = BeautifulSoup(src, 'lxml')\n",
    "        lis = []\n",
    "        all_followers = bs.find('div', {'class': 'feed-following'})\n",
    "        if all_followers is None:\n",
    "            return lis\n",
    "        for each_follower in all_followers.findAll('a'):\n",
    "            follower_id = each_follower.get('href')\n",
    "            if follower_id is None:\n",
    "                continue\n",
    "            lis.append(follower_id)\n",
    "            profile_info = InfoScraper('https://www.linkedin.com'+follower_id, browser)\n",
    "            all_profile_info[profile_info.profile_id] = profile_info\n",
    "        return list(set(list(lis)))\n",
    "    \n",
    "    def getIIITList(self, users):\n",
    "        stud = []\n",
    "        fac = []\n",
    "        for user in users:\n",
    "            print(user)\n",
    "            if user in all_profile_info:\n",
    "                if all_profile_info[user].is_student:\n",
    "                    stud.append(user)\n",
    "                if all_profile_info[user].is_faculty:\n",
    "                    fac.append(user)\n",
    "            else:\n",
    "                print('Not in dict')\n",
    "        return stud, fac\n",
    "    \n",
    "    def send_connection_request_with_text(self, profile_url, text):\n",
    "        self.browser.get(profile_url)\n",
    "        time.sleep(1)\n",
    "        src = self.browser.page_source\n",
    "        bs = BeautifulSoup(src, 'lxml')\n",
    "        \n",
    "        actions_divs = bs.findAll('div', {'class': 'pvs-profile-actions'})\n",
    "        if len(actions_divs) == 0:\n",
    "            return\n",
    "        ids = []\n",
    "        for actions_div in actions_divs:\n",
    "            buttons = actions_div.findAll('button')\n",
    "            if len(buttons) == 0:\n",
    "                continue\n",
    "            _id = None\n",
    "            for button in buttons:\n",
    "                cnnt = button.get('aria-label')\n",
    "                if cnnt is None:\n",
    "                    continue\n",
    "                if ' to connect' in str(cnnt):\n",
    "                    _id = button.get('id')\n",
    "                    break\n",
    "            if _id is None:\n",
    "                continue\n",
    "            ids.append(_id)\n",
    "        if len(ids) == 0:\n",
    "            return\n",
    "        self.browser.find_element_by_id(ids[-1]).click()\n",
    "        time.sleep(1)\n",
    "        src = self.browser.page_source\n",
    "        bs = BeautifulSoup(src, 'lxml')\n",
    "        _id = None\n",
    "        for x in bs.find_all('button'):\n",
    "            if x.get('aria-label') == 'Add a note':\n",
    "                _id = x.get('id')\n",
    "                break\n",
    "        if _id is None:\n",
    "            return\n",
    "        self.browser.find_element_by_id(_id).click()\n",
    "        time.sleep(1)\n",
    "        INV_REQUEST = text\n",
    "        elementID = browser.find_element_by_id('custom-message')\n",
    "        elementID.send_keys(INV_REQUEST)\n",
    "        \n",
    "        src = self.browser.page_source\n",
    "        bs = BeautifulSoup(src, 'lxml')\n",
    "        _id = None\n",
    "        for x in bs.find_all('button'):\n",
    "            if x.get('aria-label') == 'Send now':\n",
    "                _id = x.get('id')\n",
    "                break\n",
    "        if _id is None:\n",
    "            return\n",
    "        self.browser.find_element_by_id(_id).click()\n",
    "   \n",
    "    def send_text_to_connection(self, profile_url, text):\n",
    "        self.browser.get(profile_url)\n",
    "        # time.sleep(1)\n",
    "        src = self.browser.page_source\n",
    "        bs = BeautifulSoup(src, 'lxml')\n",
    "        x = bs.find('a', {'class': 'message-anywhere-button pvs-profile-actions__action artdeco-button'})\n",
    "        if x is None:\n",
    "            return\n",
    "        link = x.get('href')\n",
    "        if link is None:\n",
    "            return\n",
    "        full_link = 'https://www.linkedin.com' + link\n",
    "        self.browser.get(full_link)\n",
    "        time.sleep(1)\n",
    "\n",
    "        src = self.browser.page_source\n",
    "        bs = BeautifulSoup(src, 'lxml')\n",
    "\n",
    "        message_text = self.browser.find_element_by_css_selector('div.msg-form__contenteditable > p')\n",
    "        message_text.send_keys(text)\n",
    "        message_text.submit()\n",
    "        \n",
    "        time.sleep(3)\n",
    "\n",
    "    \n",
    "    def sendAnnouncement(self, users, inbox_text, connection_req_text):\n",
    "        for user in users:\n",
    "            profile_url = Helper.get_profile_url_from_id(user)\n",
    "            profile_info = None\n",
    "            if user not in all_profile_info:\n",
    "                profile_info = InfoScraper(profile_url, self.browser)\n",
    "                all_profile_info[user] = profile_info\n",
    "            else:\n",
    "                profile_info = all_profile_info[user]\n",
    "                profile_info.refreshStatus() # Refresh Status\n",
    "            if profile_info is None:\n",
    "                return\n",
    "            status = profile_info.profile_status\n",
    "            print(status)\n",
    "            if status == 'Connected':\n",
    "                self.send_text_to_connection(profile_url, inbox_text)\n",
    "            elif status == 'Not Connected':\n",
    "                self.send_connection_request_with_text(profile_url, connection_req_text)\n",
    "        return"
   ]
  },
  {
   "cell_type": "code",
   "execution_count": 43,
   "id": "9430c96c-7235-4b87-a4d2-bc558ae315ca",
   "metadata": {},
   "outputs": [
    {
     "name": "stdout",
     "output_type": "stream",
     "text": [
      "/in/abhi4gupta/\n",
      "/in/utkarsh--priyam/\n",
      "/in/abhirup-das-740981178/\n",
      "/in/sankarsan-bhattacheryya-003526173/\n",
      "/in/raunak-rathour-84a7b71aa/\n",
      "/in/siddhi-singh-8653801b1/\n",
      "/in/utkarsh-pandey-95015b170/\n",
      "/in/kapil-tomar-a2b31118b/\n",
      "/in/subharoop-ghosh-943669150/\n",
      "/in/richik-bhattacharjee/\n",
      "/in/shivam-gupta-52302516b/\n",
      "/in/sougata-das-4132a616b/\n",
      "/in/sambuddha-koner-98732b206/\n",
      "/in/mitali-seth-4649801a1/\n",
      "/in/isha-goel30/\n",
      "/in/prateek-m-058795114/\n",
      "/in/harshit-narula-2a82ba162/\n",
      "/in/shubham-kumar-7a75851a2/\n",
      "/in/aniket-mallick-75572416b/\n"
     ]
    }
   ],
   "source": [
    "my_profile = MyProfile(browser)"
   ]
  },
  {
   "cell_type": "code",
   "execution_count": 44,
   "id": "dafd4f10-2257-408e-b614-83288a1b9d72",
   "metadata": {},
   "outputs": [
    {
     "name": "stdout",
     "output_type": "stream",
     "text": [
      "/in/abhi4gupta/\n",
      "/in/utkarsh--priyam/\n",
      "/in/abhirup-das-740981178/\n",
      "/in/sankarsan-bhattacheryya-003526173/\n",
      "/in/raunak-rathour-84a7b71aa/\n",
      "/in/siddhi-singh-8653801b1/\n",
      "/in/utkarsh-pandey-95015b170/\n",
      "/in/kapil-tomar-a2b31118b/\n",
      "/in/subharoop-ghosh-943669150/\n",
      "/in/richik-bhattacharjee/\n",
      "/in/shivam-gupta-52302516b/\n",
      "/in/sougata-das-4132a616b/\n",
      "/in/sambuddha-koner-98732b206/\n",
      "/in/mitali-seth-4649801a1/\n",
      "/in/isha-goel30/\n",
      "/in/prateek-m-058795114/\n",
      "/in/harshit-narula-2a82ba162/\n",
      "/in/shubham-kumar-7a75851a2/\n",
      "/in/aniket-mallick-75572416b/\n",
      "(['/in/abhi4gupta/', '/in/utkarsh--priyam/', '/in/raunak-rathour-84a7b71aa/', '/in/prateek-m-058795114/'], [])\n"
     ]
    }
   ],
   "source": [
    "lis = my_profile.followers\n",
    "print(my_profile.getIIITList(lis))\n",
    "# text_list = [\n",
    "#     # '/in/abhi4gupta/',\n",
    "#     '/in/avijit-agarwal-06b495148/',\n",
    "# ]\n",
    "# my_profile.sendAnnouncement(text_list,'Hi!','Please accept my request')"
   ]
  },
  {
   "cell_type": "code",
   "execution_count": 45,
   "id": "0a8a7b92-9200-4b87-8973-a0690f7cc0d3",
   "metadata": {},
   "outputs": [
    {
     "name": "stdout",
     "output_type": "stream",
     "text": [
      "['/in/abhi4gupta/', '/in/utkarsh--priyam/', '/in/raunak-rathour-84a7b71aa/', '/in/prateek-m-058795114/'] []\n"
     ]
    }
   ],
   "source": [
    "print(my_profile.iiit_student, my_profile.iiit_faculty)"
   ]
  },
  {
   "cell_type": "code",
   "execution_count": 46,
   "id": "61933d70-bbdd-4163-a3b3-19149af48a8b",
   "metadata": {},
   "outputs": [],
   "source": [
    "# print(profile_urls)"
   ]
  },
  {
   "cell_type": "code",
   "execution_count": null,
   "id": "93ee8ab3-ca20-4f4c-93c1-4f6e46c23cf5",
   "metadata": {},
   "outputs": [],
   "source": []
  },
  {
   "cell_type": "code",
   "execution_count": 47,
   "id": "1387f229-7c95-437d-a4c2-a7d81e679f5c",
   "metadata": {},
   "outputs": [
    {
     "name": "stdout",
     "output_type": "stream",
     "text": [
      "['/in/anupam-agrawal-a822b011/', '/in/shivam-gupta-52302516b/', '/in/isha-goel30/', '/in/richik-bhattacharjee/', '/in/sougata-das-4132a616b/', '/in/abhi4gupta/', '/in/dr-sunny-sharma-64887918/', '/in/sankarsan-bhattacheryya-003526173/', '/in/soumabrata-bhattacharya-9b190a1a9/', '/in/arun-gangwar-14a428202/', '/in/avijit-agarwal-06b495148/', '/in/sanyam-garg-22a487135/', '/in/prateek-m-058795114/', '/in/anish-goswami-49a3b7185/', '/in/pranal-maheshwari-31a850192/', '/in/abhigyansharma29/', '/in/blackdchase/', '/in/raunak-rathour-84a7b71aa/', '/in/utkarsh--priyam/']\n"
     ]
    }
   ],
   "source": [
    "test_followers = [Helper.get_profile_id_from_linkedin_url(each_profile) for each_profile in profile_urls ]\n",
    "print(test_followers)"
   ]
  },
  {
   "cell_type": "code",
   "execution_count": 48,
   "id": "2a5b85c9-c3c7-4960-a588-706d41342fa2",
   "metadata": {},
   "outputs": [
    {
     "name": "stdout",
     "output_type": "stream",
     "text": [
      "/in/anupam-agrawal-a822b011/\n",
      "/in/shivam-gupta-52302516b/\n",
      "/in/isha-goel30/\n",
      "/in/richik-bhattacharjee/\n",
      "/in/sougata-das-4132a616b/\n",
      "/in/abhi4gupta/\n",
      "/in/dr-sunny-sharma-64887918/\n",
      "/in/sankarsan-bhattacheryya-003526173/\n",
      "/in/soumabrata-bhattacharya-9b190a1a9/\n",
      "/in/arun-gangwar-14a428202/\n",
      "/in/avijit-agarwal-06b495148/\n",
      "/in/sanyam-garg-22a487135/\n",
      "/in/prateek-m-058795114/\n",
      "/in/anish-goswami-49a3b7185/\n",
      "/in/pranal-maheshwari-31a850192/\n",
      "/in/abhigyansharma29/\n",
      "/in/blackdchase/\n",
      "/in/raunak-rathour-84a7b71aa/\n",
      "/in/utkarsh--priyam/\n",
      "['/in/anupam-agrawal-a822b011/', '/in/abhi4gupta/', '/in/prateek-m-058795114/', '/in/anish-goswami-49a3b7185/', '/in/pranal-maheshwari-31a850192/', '/in/abhigyansharma29/', '/in/blackdchase/', '/in/raunak-rathour-84a7b71aa/', '/in/utkarsh--priyam/'] ['/in/anupam-agrawal-a822b011/', '/in/dr-sunny-sharma-64887918/']\n"
     ]
    }
   ],
   "source": [
    "iiit_student, iiit_faculty = my_profile.getIIITList(test_followers)\n",
    "print(iiit_student, iiit_faculty)"
   ]
  },
  {
   "cell_type": "code",
   "execution_count": 49,
   "id": "783ebd64-7586-4fcc-b09a-93cbafbcbcec",
   "metadata": {},
   "outputs": [
    {
     "name": "stdout",
     "output_type": "stream",
     "text": [
      "[{'Job Title': 'SDE intern', 'Company': 'Uber', 'Time Period': 'Jan 2022 - Present', 'URL ID': 'https://www.linkedin.com/company/1815218/'}, {'Job Title': 'software developer', 'Company': 'Citi', 'Time Period': 'May 2021 - Jul 2021', 'URL ID': 'https://www.linkedin.com/company/11448/'}, {'Job Title': 'Lead Technical Writer', 'Company': 'Talentio Solutions India Private Limited', 'Time Period': 'Jun 2020 - Jul 2020', 'URL ID': 'https://www.linkedin.com/company/3184270/'}, {'Job Title': 'Teaching Assistance', 'Company': 'Prayaas IIITA', 'Time Period': 'Jan 2020 - Jun 2020', 'URL ID': 'https://www.linkedin.com/company/14545739/'}, {'Job Title': 'Student Trainee', 'Company': 'Dakshana Foundation', 'Time Period': 'Jul 2017 - Jun 2018', 'URL ID': 'https://www.linkedin.com/company/15611786/'}]\n"
     ]
    }
   ],
   "source": [
    "print(all_profile_info['/in/abhi4gupta/'].all_experiences)"
   ]
  },
  {
   "cell_type": "code",
   "execution_count": 50,
   "id": "68323f10-dc7a-468a-90df-81c3cb171d43",
   "metadata": {},
   "outputs": [
    {
     "name": "stdout",
     "output_type": "stream",
     "text": [
      "[{'URL ID': 'https://www.linkedin.com/company/497317/', 'Insititution': 'Indian Institute Of Information Technology', 'Course': 'Bachelor of Technology - BTech', 'Discipline': ' Information Technology', 'Time Period': '2018 - 2022'}, {'URL ID': 'https://www.linkedin.com/company/14515894/', 'Insititution': 'Jawahar Navodaya Vidyalaya (JNV)', 'Course': '6th to 12th', 'Discipline': ' General Studies', 'Time Period': '2010 - 2017'}]\n"
     ]
    }
   ],
   "source": [
    "print(all_profile_info['/in/abhi4gupta/'].all_educations)"
   ]
  },
  {
   "cell_type": "code",
   "execution_count": 51,
   "id": "9765734a-9b4b-4e84-938f-fa3fe3a9ed3d",
   "metadata": {},
   "outputs": [
    {
     "data": {
      "text/plain": [
       "['/in/anupam-agrawal-a822b011/',\n",
       " '/in/shivam-gupta-52302516b/',\n",
       " '/in/isha-goel30/',\n",
       " '/in/richik-bhattacharjee/',\n",
       " '/in/sougata-das-4132a616b/',\n",
       " '/in/abhi4gupta/',\n",
       " '/in/dr-sunny-sharma-64887918/',\n",
       " '/in/sankarsan-bhattacheryya-003526173/',\n",
       " '/in/soumabrata-bhattacharya-9b190a1a9/',\n",
       " '/in/arun-gangwar-14a428202/',\n",
       " '/in/avijit-agarwal-06b495148/',\n",
       " '/in/sanyam-garg-22a487135/',\n",
       " '/in/prateek-m-058795114/',\n",
       " '/in/anish-goswami-49a3b7185/',\n",
       " '/in/pranal-maheshwari-31a850192/',\n",
       " '/in/abhigyansharma29/',\n",
       " '/in/blackdchase/',\n",
       " '/in/raunak-rathour-84a7b71aa/',\n",
       " '/in/utkarsh--priyam/',\n",
       " '/in/sambuddha-koner-98732b206/',\n",
       " '/in/kapil-tomar-a2b31118b/',\n",
       " '/in/mitali-seth-4649801a1/',\n",
       " '/in/harshit-narula-2a82ba162/',\n",
       " '/in/shubham-kumar-7a75851a2/',\n",
       " '/in/siddhi-singh-8653801b1/',\n",
       " '/in/utkarsh-pandey-95015b170/',\n",
       " '/in/aniket-mallick-75572416b/',\n",
       " '/in/abhirup-das-740981178/',\n",
       " '/in/subharoop-ghosh-943669150/']"
      ]
     },
     "execution_count": 51,
     "metadata": {},
     "output_type": "execute_result"
    }
   ],
   "source": [
    "list(all_profile_info.keys())"
   ]
  },
  {
   "cell_type": "code",
   "execution_count": 52,
   "id": "eda721d6-05c8-4684-bf8e-dd0fa6866714",
   "metadata": {},
   "outputs": [],
   "source": [
    "# test_text_followers = [Helper.get_profile_id_from_linkedin_url(each_profile) for each_profile in text_profile_urls ]"
   ]
  },
  {
   "cell_type": "code",
   "execution_count": 53,
   "id": "fb793f14-fcdf-480e-8657-f855cb24a405",
   "metadata": {},
   "outputs": [
    {
     "name": "stdout",
     "output_type": "stream",
     "text": [
      "Connected\n"
     ]
    },
    {
     "name": "stderr",
     "output_type": "stream",
     "text": [
      "c:\\users\\asus\\appdata\\local\\programs\\python\\python37\\lib\\site-packages\\ipykernel_launcher.py:114: DeprecationWarning: find_element_by_css_selector is deprecated. Please use find_element(by=By.CSS_SELECTOR, value=css_selector) instead\n"
     ]
    }
   ],
   "source": [
    "text_list = [\n",
    "    '/in/raunak-rathour-84a7b71aa/',\n",
    "]\n",
    "my_profile.sendAnnouncement(text_list,'Ok','Hi! Please accept my request')"
   ]
  },
  {
   "cell_type": "code",
   "execution_count": 54,
   "id": "f2f66046-4f74-4361-91f4-155a3ffef729",
   "metadata": {},
   "outputs": [],
   "source": [
    "class ProfilesByFilter(object):\n",
    "    def __init__(self, logged_in_browser):\n",
    "        self.browser = logged_in_browser\n",
    "    \n",
    "    def getFilteredFaculty(self):\n",
    "        ids = []\n",
    "        for prof_id, prof_obj in iteritems(all_profile_info):\n",
    "            if prof_obj.is_faculty is True:\n",
    "                ids.append(prof_id)\n",
    "        return ids\n",
    "    \n",
    "    def getFilteredBranch(self, course):\n",
    "        ids = []\n",
    "        for prof_id, prof_obj in iteritems(all_profile_info):\n",
    "            if prof_obj.is_faculty is True:\n",
    "                ids.append(prof_id)\n",
    "        return ids\n",
    "    \n",
    "    def getFilteredStudent(self):\n",
    "        ids = []\n",
    "        for prof_id, prof_obj in iteritems(all_profile_info):\n",
    "            if prof_obj.is_student is True:\n",
    "                ids.append(prof_id)\n",
    "        return ids\n",
    "    \n",
    "    def getFiltered(self, course = None, student = False, faculty = False):\n",
    "        if faculty is True:\n",
    "            return self.getFilteredFaculty()\n",
    "        if student is True:\n",
    "            return self.getFilteredStudent()\n",
    "        return []\n",
    "    "
   ]
  },
  {
   "cell_type": "code",
   "execution_count": 55,
   "id": "b958c173-06b6-42ff-845f-cc6b6f0a4471",
   "metadata": {},
   "outputs": [
    {
     "name": "stdout",
     "output_type": "stream",
     "text": [
      "['/in/anupam-agrawal-a822b011/', '/in/abhi4gupta/', '/in/prateek-m-058795114/', '/in/anish-goswami-49a3b7185/', '/in/pranal-maheshwari-31a850192/', '/in/abhigyansharma29/', '/in/blackdchase/', '/in/raunak-rathour-84a7b71aa/', '/in/utkarsh--priyam/']\n"
     ]
    }
   ],
   "source": [
    "filtered_profiles = ProfilesByFilter(browser)\n",
    "print(filtered_profiles.getFiltered(student = True))"
   ]
  },
  {
   "cell_type": "code",
   "execution_count": 56,
   "id": "194238f4-6c08-4177-bb3a-5cb9eb779234",
   "metadata": {},
   "outputs": [
    {
     "name": "stdout",
     "output_type": "stream",
     "text": [
      "dict_keys(['/in/anupam-agrawal-a822b011/', '/in/shivam-gupta-52302516b/', '/in/isha-goel30/', '/in/richik-bhattacharjee/', '/in/sougata-das-4132a616b/', '/in/abhi4gupta/', '/in/dr-sunny-sharma-64887918/', '/in/sankarsan-bhattacheryya-003526173/', '/in/soumabrata-bhattacharya-9b190a1a9/', '/in/arun-gangwar-14a428202/', '/in/avijit-agarwal-06b495148/', '/in/sanyam-garg-22a487135/', '/in/prateek-m-058795114/', '/in/anish-goswami-49a3b7185/', '/in/pranal-maheshwari-31a850192/', '/in/abhigyansharma29/', '/in/blackdchase/', '/in/raunak-rathour-84a7b71aa/', '/in/utkarsh--priyam/', '/in/sambuddha-koner-98732b206/', '/in/kapil-tomar-a2b31118b/', '/in/mitali-seth-4649801a1/', '/in/harshit-narula-2a82ba162/', '/in/shubham-kumar-7a75851a2/', '/in/siddhi-singh-8653801b1/', '/in/utkarsh-pandey-95015b170/', '/in/aniket-mallick-75572416b/', '/in/abhirup-das-740981178/', '/in/subharoop-ghosh-943669150/'])\n"
     ]
    }
   ],
   "source": [
    "print(all_profile_info.keys())"
   ]
  },
  {
   "cell_type": "code",
   "execution_count": 61,
   "id": "b22625f0-6b80-434a-85cd-16e53f278f5d",
   "metadata": {},
   "outputs": [],
   "source": [
    "# import pickle"
   ]
  },
  {
   "cell_type": "code",
   "execution_count": 62,
   "id": "58ebf61a-c634-44a5-b430-13291adcd053",
   "metadata": {},
   "outputs": [],
   "source": [
    "# config_dictionary = all_profile_info"
   ]
  },
  {
   "cell_type": "code",
   "execution_count": 60,
   "id": "f10fecd1-6943-43c1-9fc8-87b9916350db",
   "metadata": {},
   "outputs": [],
   "source": [
    "# with open('config.dictionary', 'wb') as config_dictionary_file:\n",
    "#   pickle.dump(config_dictionary, config_dictionary_file)"
   ]
  },
  {
   "cell_type": "code",
   "execution_count": 74,
   "id": "d88f198a-6113-4792-93f1-8d413b4337fd",
   "metadata": {},
   "outputs": [
    {
     "name": "stdout",
     "output_type": "stream",
     "text": [
      "Not Connected\n"
     ]
    },
    {
     "name": "stderr",
     "output_type": "stream",
     "text": [
      "c:\\users\\asus\\appdata\\local\\programs\\python\\python37\\lib\\site-packages\\ipykernel_launcher.py:68: DeprecationWarning: find_element_by_* commands are deprecated. Please use find_element() instead\n",
      "c:\\users\\asus\\appdata\\local\\programs\\python\\python37\\lib\\site-packages\\ipykernel_launcher.py:79: DeprecationWarning: find_element_by_* commands are deprecated. Please use find_element() instead\n",
      "c:\\users\\asus\\appdata\\local\\programs\\python\\python37\\lib\\site-packages\\ipykernel_launcher.py:82: DeprecationWarning: find_element_by_* commands are deprecated. Please use find_element() instead\n",
      "c:\\users\\asus\\appdata\\local\\programs\\python\\python37\\lib\\site-packages\\ipykernel_launcher.py:94: DeprecationWarning: find_element_by_* commands are deprecated. Please use find_element() instead\n"
     ]
    }
   ],
   "source": [
    "# lis = filtered_profiles.getFiltered(student = True)\n",
    "lis = ['/in/ayushraj0309/']\n",
    "my_profile.sendAnnouncement(lis, 'Hi!', 'Please accept my request')"
   ]
  },
  {
   "cell_type": "code",
   "execution_count": 75,
   "id": "0f279f53-9c08-4bed-a981-5be0e17386b7",
   "metadata": {},
   "outputs": [
    {
     "name": "stdout",
     "output_type": "stream",
     "text": [
      "[{'URL ID': 'https://www.linkedin.com/company/497317/', 'Insititution': 'Indian Institute Of Information Technology', 'Course': \"Bachelor's degree\", 'Discipline': ' Information Technology', 'Time Period': '2018 - 2022'}]\n"
     ]
    }
   ],
   "source": [
    "print(all_profile_info[lis[0]].all_educations)\n",
    "\n",
    "# batch = ,startYr = None, endYr = None"
   ]
  },
  {
   "cell_type": "code",
   "execution_count": null,
   "id": "578dc60a-aec6-4246-8ffb-f7116bc4c206",
   "metadata": {},
   "outputs": [],
   "source": []
  },
  {
   "cell_type": "code",
   "execution_count": null,
   "id": "aa3fb979-0618-417f-802d-438f20610541",
   "metadata": {},
   "outputs": [],
   "source": []
  }
 ],
 "metadata": {
  "kernelspec": {
   "display_name": "Python 3 (ipykernel)",
   "language": "python",
   "name": "python3"
  },
  "language_info": {
   "codemirror_mode": {
    "name": "ipython",
    "version": 3
   },
   "file_extension": ".py",
   "mimetype": "text/x-python",
   "name": "python",
   "nbconvert_exporter": "python",
   "pygments_lexer": "ipython3",
   "version": "3.7.2"
  }
 },
 "nbformat": 4,
 "nbformat_minor": 5
}
