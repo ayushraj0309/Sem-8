{
 "cells": [
  {
   "cell_type": "code",
   "execution_count": 6,
   "id": "b5a976e3-8e1b-4011-9ad0-49db928cbd0c",
   "metadata": {},
   "outputs": [
    {
     "name": "stdout",
     "output_type": "stream",
     "text": [
      "Requirement already satisfied: selenium in c:\\users\\asus\\appdata\\local\\programs\\python\\python37\\lib\\site-packages (4.1.3)\n",
      "Requirement already satisfied: urllib3[secure,socks]~=1.26 in c:\\users\\asus\\appdata\\local\\programs\\python\\python37\\lib\\site-packages (from selenium) (1.26.8)\n",
      "Requirement already satisfied: trio-websocket~=0.9 in c:\\users\\asus\\appdata\\local\\programs\\python\\python37\\lib\\site-packages (from selenium) (0.9.2)\n",
      "Requirement already satisfied: trio~=0.17 in c:\\users\\asus\\appdata\\local\\programs\\python\\python37\\lib\\site-packages (from selenium) (0.20.0)\n",
      "Requirement already satisfied: attrs>=19.2.0 in c:\\users\\asus\\appdata\\local\\programs\\python\\python37\\lib\\site-packages (from trio~=0.17->selenium) (21.2.0)\n",
      "Requirement already satisfied: cffi>=1.14 in c:\\users\\asus\\appdata\\local\\programs\\python\\python37\\lib\\site-packages (from trio~=0.17->selenium) (1.14.5)\n",
      "Requirement already satisfied: idna in c:\\users\\asus\\appdata\\local\\programs\\python\\python37\\lib\\site-packages (from trio~=0.17->selenium) (2.8)\n",
      "Requirement already satisfied: sortedcontainers in c:\\users\\asus\\appdata\\local\\programs\\python\\python37\\lib\\site-packages (from trio~=0.17->selenium) (2.3.0)\n",
      "Requirement already satisfied: outcome in c:\\users\\asus\\appdata\\local\\programs\\python\\python37\\lib\\site-packages (from trio~=0.17->selenium) (1.1.0)\n",
      "Requirement already satisfied: sniffio in c:\\users\\asus\\appdata\\local\\programs\\python\\python37\\lib\\site-packages (from trio~=0.17->selenium) (1.2.0)\n",
      "Requirement already satisfied: async-generator>=1.9 in c:\\users\\asus\\appdata\\local\\programs\\python\\python37\\lib\\site-packages (from trio~=0.17->selenium) (1.10)\n",
      "Requirement already satisfied: wsproto>=0.14 in c:\\users\\asus\\appdata\\local\\programs\\python\\python37\\lib\\site-packages (from trio-websocket~=0.9->selenium) (1.1.0)\n",
      "Requirement already satisfied: pyOpenSSL>=0.14 in c:\\users\\asus\\appdata\\local\\programs\\python\\python37\\lib\\site-packages (from urllib3[secure,socks]~=1.26->selenium) (22.0.0)\n",
      "Requirement already satisfied: cryptography>=1.3.4 in c:\\users\\asus\\appdata\\local\\programs\\python\\python37\\lib\\site-packages (from urllib3[secure,socks]~=1.26->selenium) (36.0.1)\n",
      "Requirement already satisfied: certifi in c:\\users\\asus\\appdata\\local\\programs\\python\\python37\\lib\\site-packages (from urllib3[secure,socks]~=1.26->selenium) (2019.6.16)\n",
      "Requirement already satisfied: PySocks!=1.5.7,<2.0,>=1.5.6 in c:\\users\\asus\\appdata\\local\\programs\\python\\python37\\lib\\site-packages (from urllib3[secure,socks]~=1.26->selenium) (1.7.1)\n",
      "Requirement already satisfied: pycparser in c:\\users\\asus\\appdata\\local\\programs\\python\\python37\\lib\\site-packages (from cffi>=1.14->trio~=0.17->selenium) (2.20)\n",
      "Requirement already satisfied: h11<1,>=0.9.0 in c:\\users\\asus\\appdata\\local\\programs\\python\\python37\\lib\\site-packages (from wsproto>=0.14->trio-websocket~=0.9->selenium) (0.13.0)\n",
      "Requirement already satisfied: typing-extensions in c:\\users\\asus\\appdata\\roaming\\python\\python37\\site-packages (from h11<1,>=0.9.0->wsproto>=0.14->trio-websocket~=0.9->selenium) (3.7.4.3)\n"
     ]
    }
   ],
   "source": [
    "!pip3 install selenium"
   ]
  },
  {
   "cell_type": "code",
   "execution_count": 1,
   "id": "dcf32603-c48a-4144-920b-dfea6fc73da7",
   "metadata": {},
   "outputs": [
    {
     "name": "stdout",
     "output_type": "stream",
     "text": [
      "Collecting ipywidgets\n",
      "  Downloading ipywidgets-7.7.0-py2.py3-none-any.whl (123 kB)\n",
      "     -------------------------------------- 123.4/123.4 KB 1.5 MB/s eta 0:00:00\n",
      "Requirement already satisfied: ipykernel>=4.5.1 in c:\\users\\asus\\appdata\\local\\programs\\python\\python37\\lib\\site-packages (from ipywidgets) (6.4.1)\n",
      "Collecting widgetsnbextension~=3.6.0\n",
      "  Downloading widgetsnbextension-3.6.0-py2.py3-none-any.whl (1.6 MB)\n",
      "     ---------------------------------------- 1.6/1.6 MB 2.9 MB/s eta 0:00:00\n",
      "Requirement already satisfied: traitlets>=4.3.1 in c:\\users\\asus\\appdata\\local\\programs\\python\\python37\\lib\\site-packages (from ipywidgets) (5.1.0)\n",
      "Collecting jupyterlab-widgets>=1.0.0\n",
      "  Downloading jupyterlab_widgets-1.1.0-py3-none-any.whl (245 kB)\n",
      "     -------------------------------------- 245.1/245.1 KB 3.8 MB/s eta 0:00:00\n",
      "Requirement already satisfied: ipython-genutils~=0.2.0 in c:\\users\\asus\\appdata\\local\\programs\\python\\python37\\lib\\site-packages (from ipywidgets) (0.2.0)\n",
      "Requirement already satisfied: ipython>=4.0.0 in c:\\users\\asus\\appdata\\local\\programs\\python\\python37\\lib\\site-packages (from ipywidgets) (7.28.0)\n",
      "Requirement already satisfied: nbformat>=4.2.0 in c:\\users\\asus\\appdata\\local\\programs\\python\\python37\\lib\\site-packages (from ipywidgets) (5.1.3)\n",
      "Requirement already satisfied: importlib-metadata<5 in c:\\users\\asus\\appdata\\local\\programs\\python\\python37\\lib\\site-packages (from ipykernel>=4.5.1->ipywidgets) (3.7.0)\n",
      "Requirement already satisfied: debugpy<2.0,>=1.0.0 in c:\\users\\asus\\appdata\\local\\programs\\python\\python37\\lib\\site-packages (from ipykernel>=4.5.1->ipywidgets) (1.5.0)\n",
      "Requirement already satisfied: jupyter-client<8.0 in c:\\users\\asus\\appdata\\local\\programs\\python\\python37\\lib\\site-packages (from ipykernel>=4.5.1->ipywidgets) (7.0.6)\n",
      "Requirement already satisfied: tornado<7.0,>=4.2 in c:\\users\\asus\\appdata\\local\\programs\\python\\python37\\lib\\site-packages (from ipykernel>=4.5.1->ipywidgets) (6.1)\n",
      "Requirement already satisfied: argcomplete>=1.12.3 in c:\\users\\asus\\appdata\\local\\programs\\python\\python37\\lib\\site-packages (from ipykernel>=4.5.1->ipywidgets) (1.12.3)\n",
      "Requirement already satisfied: matplotlib-inline<0.2.0,>=0.1.0 in c:\\users\\asus\\appdata\\local\\programs\\python\\python37\\lib\\site-packages (from ipykernel>=4.5.1->ipywidgets) (0.1.3)\n",
      "Requirement already satisfied: colorama in c:\\users\\asus\\appdata\\local\\programs\\python\\python37\\lib\\site-packages (from ipython>=4.0.0->ipywidgets) (0.4.4)\n",
      "Requirement already satisfied: pickleshare in c:\\users\\asus\\appdata\\local\\programs\\python\\python37\\lib\\site-packages (from ipython>=4.0.0->ipywidgets) (0.7.5)\n",
      "Requirement already satisfied: setuptools>=18.5 in c:\\users\\asus\\appdata\\local\\programs\\python\\python37\\lib\\site-packages (from ipython>=4.0.0->ipywidgets) (53.1.0)\n",
      "Requirement already satisfied: backcall in c:\\users\\asus\\appdata\\local\\programs\\python\\python37\\lib\\site-packages (from ipython>=4.0.0->ipywidgets) (0.2.0)\n",
      "Requirement already satisfied: jedi>=0.16 in c:\\users\\asus\\appdata\\local\\programs\\python\\python37\\lib\\site-packages (from ipython>=4.0.0->ipywidgets) (0.18.0)\n",
      "Requirement already satisfied: prompt-toolkit!=3.0.0,!=3.0.1,<3.1.0,>=2.0.0 in c:\\users\\asus\\appdata\\local\\programs\\python\\python37\\lib\\site-packages (from ipython>=4.0.0->ipywidgets) (3.0.20)\n",
      "Requirement already satisfied: decorator in c:\\users\\asus\\appdata\\local\\programs\\python\\python37\\lib\\site-packages (from ipython>=4.0.0->ipywidgets) (4.4.2)\n",
      "Requirement already satisfied: pygments in c:\\users\\asus\\appdata\\local\\programs\\python\\python37\\lib\\site-packages (from ipython>=4.0.0->ipywidgets) (2.8.1)\n",
      "Requirement already satisfied: jsonschema!=2.5.0,>=2.4 in c:\\users\\asus\\appdata\\local\\programs\\python\\python37\\lib\\site-packages (from nbformat>=4.2.0->ipywidgets) (4.1.0)\n",
      "Requirement already satisfied: jupyter-core in c:\\users\\asus\\appdata\\local\\programs\\python\\python37\\lib\\site-packages (from nbformat>=4.2.0->ipywidgets) (4.8.1)\n",
      "Requirement already satisfied: notebook>=4.4.1 in c:\\users\\asus\\appdata\\local\\programs\\python\\python37\\lib\\site-packages (from widgetsnbextension~=3.6.0->ipywidgets) (6.4.4)\n",
      "Requirement already satisfied: zipp>=0.5 in c:\\users\\asus\\appdata\\local\\programs\\python\\python37\\lib\\site-packages (from importlib-metadata<5->ipykernel>=4.5.1->ipywidgets) (3.4.0)\n",
      "Requirement already satisfied: typing-extensions>=3.6.4 in c:\\users\\asus\\appdata\\roaming\\python\\python37\\site-packages (from importlib-metadata<5->ipykernel>=4.5.1->ipywidgets) (3.7.4.3)\n",
      "Requirement already satisfied: parso<0.9.0,>=0.8.0 in c:\\users\\asus\\appdata\\local\\programs\\python\\python37\\lib\\site-packages (from jedi>=0.16->ipython>=4.0.0->ipywidgets) (0.8.2)\n",
      "Requirement already satisfied: pyrsistent!=0.17.0,!=0.17.1,!=0.17.2,>=0.14.0 in c:\\users\\asus\\appdata\\local\\programs\\python\\python37\\lib\\site-packages (from jsonschema!=2.5.0,>=2.4->nbformat>=4.2.0->ipywidgets) (0.18.0)\n",
      "Requirement already satisfied: attrs>=17.4.0 in c:\\users\\asus\\appdata\\local\\programs\\python\\python37\\lib\\site-packages (from jsonschema!=2.5.0,>=2.4->nbformat>=4.2.0->ipywidgets) (21.2.0)\n",
      "Requirement already satisfied: nest-asyncio>=1.5 in c:\\users\\asus\\appdata\\local\\programs\\python\\python37\\lib\\site-packages (from jupyter-client<8.0->ipykernel>=4.5.1->ipywidgets) (1.5.1)\n",
      "Requirement already satisfied: python-dateutil>=2.1 in c:\\users\\asus\\appdata\\local\\programs\\python\\python37\\lib\\site-packages (from jupyter-client<8.0->ipykernel>=4.5.1->ipywidgets) (2.8.1)\n",
      "Requirement already satisfied: pyzmq>=13 in c:\\users\\asus\\appdata\\local\\programs\\python\\python37\\lib\\site-packages (from jupyter-client<8.0->ipykernel>=4.5.1->ipywidgets) (22.3.0)\n",
      "Requirement already satisfied: entrypoints in c:\\users\\asus\\appdata\\local\\programs\\python\\python37\\lib\\site-packages (from jupyter-client<8.0->ipykernel>=4.5.1->ipywidgets) (0.3)\n",
      "Requirement already satisfied: pywin32>=1.0 in c:\\users\\asus\\appdata\\local\\programs\\python\\python37\\lib\\site-packages (from jupyter-core->nbformat>=4.2.0->ipywidgets) (302)\n",
      "Requirement already satisfied: nbconvert in c:\\users\\asus\\appdata\\local\\programs\\python\\python37\\lib\\site-packages (from notebook>=4.4.1->widgetsnbextension~=3.6.0->ipywidgets) (6.2.0)\n",
      "Requirement already satisfied: prometheus-client in c:\\users\\asus\\appdata\\local\\programs\\python\\python37\\lib\\site-packages (from notebook>=4.4.1->widgetsnbextension~=3.6.0->ipywidgets) (0.11.0)\n",
      "Requirement already satisfied: jinja2 in c:\\users\\asus\\appdata\\local\\programs\\python\\python37\\lib\\site-packages (from notebook>=4.4.1->widgetsnbextension~=3.6.0->ipywidgets) (2.11.3)\n",
      "Requirement already satisfied: argon2-cffi in c:\\users\\asus\\appdata\\local\\programs\\python\\python37\\lib\\site-packages (from notebook>=4.4.1->widgetsnbextension~=3.6.0->ipywidgets) (21.1.0)\n",
      "Requirement already satisfied: Send2Trash>=1.5.0 in c:\\users\\asus\\appdata\\local\\programs\\python\\python37\\lib\\site-packages (from notebook>=4.4.1->widgetsnbextension~=3.6.0->ipywidgets) (1.8.0)\n",
      "Requirement already satisfied: terminado>=0.8.3 in c:\\users\\asus\\appdata\\local\\programs\\python\\python37\\lib\\site-packages (from notebook>=4.4.1->widgetsnbextension~=3.6.0->ipywidgets) (0.12.1)\n",
      "Requirement already satisfied: wcwidth in c:\\users\\asus\\appdata\\local\\programs\\python\\python37\\lib\\site-packages (from prompt-toolkit!=3.0.0,!=3.0.1,<3.1.0,>=2.0.0->ipython>=4.0.0->ipywidgets) (0.2.5)\n",
      "Requirement already satisfied: six>=1.5 in c:\\users\\asus\\appdata\\roaming\\python\\python37\\site-packages (from python-dateutil>=2.1->jupyter-client<8.0->ipykernel>=4.5.1->ipywidgets) (1.15.0)\n",
      "Requirement already satisfied: pywinpty>=1.1.0 in c:\\users\\asus\\appdata\\local\\programs\\python\\python37\\lib\\site-packages (from terminado>=0.8.3->notebook>=4.4.1->widgetsnbextension~=3.6.0->ipywidgets) (1.1.4)\n",
      "Requirement already satisfied: cffi>=1.0.0 in c:\\users\\asus\\appdata\\local\\programs\\python\\python37\\lib\\site-packages (from argon2-cffi->notebook>=4.4.1->widgetsnbextension~=3.6.0->ipywidgets) (1.14.5)\n",
      "Requirement already satisfied: MarkupSafe>=0.23 in c:\\users\\asus\\appdata\\local\\programs\\python\\python37\\lib\\site-packages (from jinja2->notebook>=4.4.1->widgetsnbextension~=3.6.0->ipywidgets) (1.1.1)\n",
      "Requirement already satisfied: pandocfilters>=1.4.1 in c:\\users\\asus\\appdata\\local\\programs\\python\\python37\\lib\\site-packages (from nbconvert->notebook>=4.4.1->widgetsnbextension~=3.6.0->ipywidgets) (1.5.0)\n",
      "Requirement already satisfied: nbclient<0.6.0,>=0.5.0 in c:\\users\\asus\\appdata\\local\\programs\\python\\python37\\lib\\site-packages (from nbconvert->notebook>=4.4.1->widgetsnbextension~=3.6.0->ipywidgets) (0.5.4)\n",
      "Requirement already satisfied: testpath in c:\\users\\asus\\appdata\\local\\programs\\python\\python37\\lib\\site-packages (from nbconvert->notebook>=4.4.1->widgetsnbextension~=3.6.0->ipywidgets) (0.5.0)\n",
      "Requirement already satisfied: bleach in c:\\users\\asus\\appdata\\local\\programs\\python\\python37\\lib\\site-packages (from nbconvert->notebook>=4.4.1->widgetsnbextension~=3.6.0->ipywidgets) (4.1.0)\n",
      "Requirement already satisfied: jupyterlab-pygments in c:\\users\\asus\\appdata\\local\\programs\\python\\python37\\lib\\site-packages (from nbconvert->notebook>=4.4.1->widgetsnbextension~=3.6.0->ipywidgets) (0.1.2)\n",
      "Requirement already satisfied: defusedxml in c:\\users\\asus\\appdata\\local\\programs\\python\\python37\\lib\\site-packages (from nbconvert->notebook>=4.4.1->widgetsnbextension~=3.6.0->ipywidgets) (0.7.1)\n",
      "Requirement already satisfied: mistune<2,>=0.8.1 in c:\\users\\asus\\appdata\\local\\programs\\python\\python37\\lib\\site-packages (from nbconvert->notebook>=4.4.1->widgetsnbextension~=3.6.0->ipywidgets) (0.8.4)\n",
      "Requirement already satisfied: pycparser in c:\\users\\asus\\appdata\\local\\programs\\python\\python37\\lib\\site-packages (from cffi>=1.0.0->argon2-cffi->notebook>=4.4.1->widgetsnbextension~=3.6.0->ipywidgets) (2.20)\n",
      "Requirement already satisfied: packaging in c:\\users\\asus\\appdata\\local\\programs\\python\\python37\\lib\\site-packages (from bleach->nbconvert->notebook>=4.4.1->widgetsnbextension~=3.6.0->ipywidgets) (20.9)\n",
      "Requirement already satisfied: webencodings in c:\\users\\asus\\appdata\\local\\programs\\python\\python37\\lib\\site-packages (from bleach->nbconvert->notebook>=4.4.1->widgetsnbextension~=3.6.0->ipywidgets) (0.5.1)\n",
      "Requirement already satisfied: pyparsing>=2.0.2 in c:\\users\\asus\\appdata\\local\\programs\\python\\python37\\lib\\site-packages (from packaging->bleach->nbconvert->notebook>=4.4.1->widgetsnbextension~=3.6.0->ipywidgets) (2.4.7)\n",
      "Installing collected packages: jupyterlab-widgets, widgetsnbextension, ipywidgets\n",
      "Successfully installed ipywidgets-7.7.0 jupyterlab-widgets-1.1.0 widgetsnbextension-3.6.0\n"
     ]
    }
   ],
   "source": [
    "!pip install ipywidgets"
   ]
  },
  {
   "cell_type": "code",
   "execution_count": 7,
   "id": "38b105e1-0e39-4255-a177-0248effd978d",
   "metadata": {},
   "outputs": [
    {
     "name": "stdout",
     "output_type": "stream",
     "text": [
      "Requirement already satisfied: beautifulsoup4 in c:\\users\\asus\\appdata\\local\\programs\\python\\python37\\lib\\site-packages (4.10.0)\n",
      "Requirement already satisfied: soupsieve>1.2 in c:\\users\\asus\\appdata\\local\\programs\\python\\python37\\lib\\site-packages (from beautifulsoup4) (2.3.1)\n"
     ]
    }
   ],
   "source": [
    "!pip3 install beautifulsoup4"
   ]
  },
  {
   "cell_type": "code",
   "execution_count": 10,
   "id": "6135644f-0c63-473d-94c8-10a2f7c6a7ac",
   "metadata": {},
   "outputs": [
    {
     "name": "stdout",
     "output_type": "stream",
     "text": [
      "Collecting lxml\n",
      "  Downloading lxml-4.8.0-cp37-cp37m-win_amd64.whl (3.6 MB)\n",
      "     ---------------------------------------- 3.6/3.6 MB 5.2 MB/s eta 0:00:00\n",
      "Installing collected packages: lxml\n",
      "Successfully installed lxml-4.8.0\n"
     ]
    }
   ],
   "source": [
    "!pip3 install lxml"
   ]
  },
  {
   "cell_type": "code",
   "execution_count": 48,
   "id": "774d7c35-a628-415f-b7d3-faec85d46af2",
   "metadata": {},
   "outputs": [
    {
     "name": "stdout",
     "output_type": "stream",
     "text": [
      "Requirement already satisfied: six in c:\\users\\asus\\appdata\\roaming\\python\\python37\\site-packages (1.15.0)\n"
     ]
    }
   ],
   "source": [
    "!pip3 install six"
   ]
  },
  {
   "cell_type": "code",
   "execution_count": 463,
   "id": "54e993c4-2b2d-4bc8-ae9d-eefc35119b42",
   "metadata": {},
   "outputs": [],
   "source": [
    "import requests, time, random\n",
    "from bs4 import BeautifulSoup\n",
    "from selenium import webdriver\n",
    "from six import iteritems"
   ]
  },
  {
   "cell_type": "code",
   "execution_count": 789,
   "id": "c6a235f2-50b3-4ee1-807e-88ad3194e31f",
   "metadata": {},
   "outputs": [
    {
     "name": "stderr",
     "output_type": "stream",
     "text": [
      "c:\\users\\asus\\appdata\\local\\programs\\python\\python37\\lib\\site-packages\\ipykernel_launcher.py:1: DeprecationWarning: executable_path has been deprecated, please pass in a Service object\n",
      "  \"\"\"Entry point for launching an IPython kernel.\n"
     ]
    }
   ],
   "source": [
    "browser = webdriver.Chrome('driver/chromedriver.exe')"
   ]
  },
  {
   "cell_type": "code",
   "execution_count": 790,
   "id": "8d398086-f67c-415f-90ff-a74952ad36fb",
   "metadata": {},
   "outputs": [
    {
     "name": "stderr",
     "output_type": "stream",
     "text": [
      "c:\\users\\asus\\appdata\\local\\programs\\python\\python37\\lib\\site-packages\\ipykernel_launcher.py:8: DeprecationWarning: find_element_by_* commands are deprecated. Please use find_element() instead\n",
      "  \n",
      "c:\\users\\asus\\appdata\\local\\programs\\python\\python37\\lib\\site-packages\\ipykernel_launcher.py:11: DeprecationWarning: find_element_by_* commands are deprecated. Please use find_element() instead\n",
      "  # This is added back by InteractiveShellApp.init_path()\n"
     ]
    }
   ],
   "source": [
    "browser.get('https://www.linkedin.com/uas/login')\n",
    "file = open('config.txt')\n",
    "lines = file.readlines()\n",
    "username = lines[0]\n",
    "password = lines[1]\n",
    "\n",
    "\n",
    "elementID = browser.find_element_by_id('username')\n",
    "elementID.send_keys(username)\n",
    "\n",
    "elementID = browser.find_element_by_id('password')\n",
    "elementID.send_keys(password)\n",
    "\n",
    "elementID.submit()"
   ]
  },
  {
   "cell_type": "code",
   "execution_count": 775,
   "id": "18a300b3-bd6d-40bb-b769-bfde00708c7f",
   "metadata": {},
   "outputs": [],
   "source": [
    "# https://www.linkedin.com/check/add-phone?country_code=in\n",
    "# print(browser)\n",
    "# elementID = browser.find_element_by_id('username')\n",
    "# print('elementID', elementID)"
   ]
  },
  {
   "cell_type": "code",
   "execution_count": 776,
   "id": "003b7ca7-ed18-41ca-8193-eb074a7de00c",
   "metadata": {},
   "outputs": [],
   "source": [
    "# link = 'https://www.linkedin.com/in/nikhil-gujrati-1408931ab/'\n",
    "link = 'https://www.linkedin.com/in/anupam-agrawal-a822b011/'\n",
    "# link = 'https://www.linkedin.com/in/rishabh-singh-61b706114/'\n",
    "browser.get(link)"
   ]
  },
  {
   "cell_type": "code",
   "execution_count": 777,
   "id": "5cf95ef6-ba8e-4d5b-b85f-38d7730b52c5",
   "metadata": {},
   "outputs": [],
   "source": [
    "SCROLL_PAUSE_TIME = 5\n",
    "\n",
    "# Get scroll height\n",
    "last_height = browser.execute_script(\"return document.body.scrollHeight\")\n",
    "\n",
    "for i in range(3):\n",
    "    # Scroll down to bottom\n",
    "    browser.execute_script(\"window.scrollTo(0, document.body.scrollHeight);\")\n",
    "\n",
    "    # Wait to load page\n",
    "    time.sleep(SCROLL_PAUSE_TIME)\n",
    "\n",
    "    # Calculate new scroll height and compare with last scroll height\n",
    "    new_height = browser.execute_script(\"return document.body.scrollHeight\")\n",
    "    if new_height == last_height:\n",
    "        break\n",
    "    last_height = new_height"
   ]
  },
  {
   "cell_type": "code",
   "execution_count": 778,
   "id": "d0dafb57-eda4-434d-aded-652065ec5164",
   "metadata": {},
   "outputs": [],
   "source": [
    "def printDict(_dict):\n",
    "    for key, value in iteritems(_dict):\n",
    "        print(key,':',value)\n",
    "\n",
    "def printListDic(all_exp):\n",
    "    for _dict in all_exp:\n",
    "        printDict(_dict)\n",
    "        print()"
   ]
  },
  {
   "cell_type": "code",
   "execution_count": 779,
   "id": "bcd1332f-64c1-47aa-b9fc-d271abdb198a",
   "metadata": {},
   "outputs": [],
   "source": [
    "import re"
   ]
  },
  {
   "cell_type": "code",
   "execution_count": 780,
   "id": "b15cae40-f6d0-4ce9-a2aa-47b84fa481b4",
   "metadata": {},
   "outputs": [],
   "source": [
    "src = browser.page_source\n",
    "soup = BeautifulSoup(src, 'lxml')"
   ]
  },
  {
   "cell_type": "code",
   "execution_count": 781,
   "id": "c136d87b-5eee-4822-bdcc-c2a71c92118b",
   "metadata": {},
   "outputs": [
    {
     "name": "stdout",
     "output_type": "stream",
     "text": [
      "Name : Anupam Agrawal\n",
      "Location : Allahabad, Uttar Pradesh, India\n"
     ]
    }
   ],
   "source": [
    "def getProfileName(bs):\n",
    "    name_div = bs.find('div', {'class': 'mt2 relative'})\n",
    "    name_loc = name_div.find_all('div')\n",
    "    name = name_loc[0].find('h1').get_text().strip()\n",
    "    return str(name)\n",
    "\n",
    "def getProfileLocation(bs):\n",
    "    name_div = bs.find('div', {'class': 'mt2 relative'})\n",
    "    name_loc = name_div.find_all('div')\n",
    "    if len(name_loc) == 0:\n",
    "        return 'None'\n",
    "    loc = name_loc[-1].find('span').get_text().strip()\n",
    "    return str(loc)\n",
    "\n",
    "def getBasicProfileInfo(bs):\n",
    "    info = {}\n",
    "    info['Name'] = getProfileName(bs)\n",
    "    info['Location'] = getProfileLocation(bs)\n",
    "    return info\n",
    "basicProfileInfo = getBasicProfileInfo(soup)\n",
    "printDict(basicProfileInfo)"
   ]
  },
  {
   "cell_type": "code",
   "execution_count": 786,
   "id": "106129fe-0bd1-4b54-9f40-e88b03842670",
   "metadata": {},
   "outputs": [
    {
     "name": "stdout",
     "output_type": "stream",
     "text": [
      "Job Title : Professor\n",
      "Company : Indian Institute Of Information Technology\n",
      "Time Period : Nov 2000 - Present\n",
      "URL ID : https://www.linkedin.com/company/497317/\n",
      "\n",
      "Job Title : Senior Scientist\n",
      "Company : DRDO, Ministry of Defence, Govt. of India\n",
      "Time Period : Jan 1989 - Oct 2000\n",
      "URL ID : https://www.linkedin.com/company/30205475/\n",
      "\n"
     ]
    }
   ],
   "source": [
    "def getExpURLID(bs):\n",
    "    ids = []\n",
    "    href_classes = bs.findAll('a', {'data-field': 'experience_company_logo'})\n",
    "    for href_class in href_classes:\n",
    "        if href_class is None:\n",
    "            continue\n",
    "        exp_url = href_class.attrs.get('href', None)\n",
    "        if exp_url is None:\n",
    "            continue\n",
    "        ids.append(exp_url)\n",
    "    return ids\n",
    "\n",
    "def getExpTitle(all_exp_spans):\n",
    "    if len(all_exp_spans) < 2:\n",
    "        return 'None'\n",
    "    job_title = all_exp_spans[1].get_text().strip()\n",
    "    return str(job_title)\n",
    "\n",
    "def getExpCompany(all_exp_spans):\n",
    "    if len(all_exp_spans) < 4:\n",
    "        return 'None'\n",
    "    double_text = str(all_exp_spans[3].get_text().strip())\n",
    "    strip_index = len(double_text)//2\n",
    "    company = double_text[0:strip_index].split(' · ')[0]\n",
    "    return str(company)\n",
    "\n",
    "def getExpTimePeriod(all_exp_spans):\n",
    "    if len(all_exp_spans) < 7:\n",
    "        return 'None'\n",
    "    time_period = all_exp_spans[6].get_text().strip().split(' · ')[0]\n",
    "    return str(time_period)\n",
    "\n",
    "def getExpInfo(exp):\n",
    "    info = {}\n",
    "    all_exp_spans = exp.find_all('span')\n",
    "    job_title = getExpTitle(all_exp_spans)\n",
    "    company = getExpCompany(all_exp_spans)\n",
    "    time_period = getExpTimePeriod(all_exp_spans)\n",
    "    \n",
    "    info['Job Title'] = job_title\n",
    "    info['Company'] = company\n",
    "    info['Time Period'] = time_period\n",
    "    return info\n",
    "    \n",
    "def getExperienceSetions(bs):\n",
    "    profile_sections = bs.findAll('section')\n",
    "    exp_profile_section = None\n",
    "    for profile_section in profile_sections:\n",
    "        x = profile_section.find('div', {'id': 'experience'})\n",
    "        if x is not None:\n",
    "            exp_profile_section = profile_section\n",
    "            break\n",
    "    if exp_profile_section is None:\n",
    "        return {}\n",
    "    exp_sections = exp_profile_section.find_all('div', {'class': 'display-flex flex-column full-width align-self-center'})\n",
    "    return exp_sections\n",
    "\n",
    "def getAllExperieceInfo(bs):\n",
    "    all_experiences = []\n",
    "    company_ids = getExpURLID(bs)\n",
    "    exp_sections = getExperienceSetions(bs)\n",
    "    for exp in exp_sections:\n",
    "        all_experiences.append(getExpInfo(exp))\n",
    "    for i in range(len(all_experiences)):\n",
    "        if i >= len(company_ids):\n",
    "            all_experiences[i]['URL ID'] = 'None'\n",
    "            continue\n",
    "        all_experiences[i]['URL ID'] = str(company_ids[i])\n",
    "    return all_experiences\n",
    "\n",
    "all_experiences = getAllExperieceInfo(soup)\n",
    "printListDic(all_experiences)"
   ]
  },
  {
   "cell_type": "code",
   "execution_count": 783,
   "id": "864008fa-593e-48d9-b096-11b27c22796a",
   "metadata": {},
   "outputs": [
    {
     "name": "stdout",
     "output_type": "stream",
     "text": [
      "URL ID : https://www.linkedin.com/search/results/all/?keywords=University+of+Bedfordshire%2C+United+Kingdom\n",
      "Insititution : University of Bedfordshire, United Kingdom\n",
      "Course : Post-Doctoral Research Fellow\n",
      "Discipline :  Computer Science\n",
      "Time Period : 2007 - 2009\n",
      "\n",
      "URL ID : https://www.linkedin.com/company/497317/\n",
      "Insititution : Indian Institute Of Information Technology\n",
      "Course : PhD\n",
      "Discipline :  Computer Science\n",
      "Time Period : 2001 - 2006\n",
      "\n",
      "URL ID : https://www.linkedin.com/search/results/all/?keywords=Indian+Institute+of+Technology+Madras\n",
      "Insititution : Indian Institute of Technology Madras\n",
      "Course : Master of Technology - MTech\n",
      "Discipline :  Computer Science\n",
      "Time Period : 1993 - 1995\n",
      "\n"
     ]
    }
   ],
   "source": [
    "def getEduSchoolID(edu):\n",
    "    href_class = edu.findAll('a')\n",
    "    if href_class is None or len(href_class) == 0:\n",
    "        return 'None'\n",
    "    school_url = href_class[0].attrs.get('href', None)\n",
    "    if school_url is None:\n",
    "        return 'None'\n",
    "    return str(school_url)\n",
    "\n",
    "def getEduSchool(all_edu_spans):\n",
    "    if len(all_edu_spans) < 2:\n",
    "        return 'None'\n",
    "    job_title = all_edu_spans[1].get_text().strip()\n",
    "    return str(job_title)\n",
    "\n",
    "def getEduCourse(all_edu_spans):\n",
    "    if len(all_edu_spans) < 4:\n",
    "        return 'None'\n",
    "    course_and_discipline = all_edu_spans[4].get_text().strip().split(',')\n",
    "    if len(course_and_discipline) < 1:\n",
    "        return 'None'\n",
    "    course = course_and_discipline[0]\n",
    "    return str(course)\n",
    "\n",
    "def getEduDiscipline(all_edu_spans):\n",
    "    if len(all_edu_spans) < 4:\n",
    "        return 'None'\n",
    "    line_text = all_edu_spans[4].get_text()\n",
    "    course_and_discipline = line_text.strip().split(',')\n",
    "    if len(course_and_discipline) < 2:\n",
    "        return 'None'\n",
    "    ind = line_text.find(', ')\n",
    "    discipline = line_text[ind+1:]\n",
    "    return str(discipline)\n",
    "\n",
    "def getEduTimePeriod(all_edu_spans):\n",
    "    if len(all_edu_spans) < 8:\n",
    "        return 'None'\n",
    "    time_period = all_edu_spans[7].get_text().strip()\n",
    "    return str(time_period)\n",
    "\n",
    "def getEduInfo(edu):\n",
    "    info = {}\n",
    "    # print(edu)\n",
    "    all_edu_spans = edu.find_all('span')\n",
    "    school_url_id = getEduSchoolID(edu)\n",
    "    school = getEduSchool(all_edu_spans)\n",
    "    course = getEduCourse(all_edu_spans)\n",
    "    discipline = getEduDiscipline(all_edu_spans)\n",
    "    time_period = getEduTimePeriod(all_edu_spans)\n",
    "    info['URL ID'] = school_url_id\n",
    "    info['Insititution'] = school\n",
    "    info['Course'] = course\n",
    "    info['Discipline'] = discipline\n",
    "    info['Time Period'] = time_period\n",
    "    return info\n",
    "    \n",
    "def getEducationSetions(bs):\n",
    "    profile_sections = bs.findAll('section')\n",
    "    edu_profile_section = None\n",
    "    for profile_section in profile_sections:\n",
    "        x = profile_section.find('div', {'id': 'education'})\n",
    "        if x is not None:\n",
    "            edu_profile_section = profile_section\n",
    "            break\n",
    "    if edu_profile_section is None:\n",
    "        return {}\n",
    "    edu_sections = edu_profile_section.find_all('div', {'class': 'display-flex flex-column full-width align-self-center'})\n",
    "    return edu_sections\n",
    "\n",
    "def getAllEducationInfo(bs):\n",
    "    all_educations = []\n",
    "    edu_sections = getEducationSetions(bs)\n",
    "    for edu in edu_sections:\n",
    "        all_educations.append(getEduInfo(edu))\n",
    "    return all_educations\n",
    "\n",
    "all_educations = getAllEducationInfo(soup)\n",
    "printListDic(all_educations)"
   ]
  },
  {
   "cell_type": "code",
   "execution_count": null,
   "id": "2a4c2719-926d-4a5b-b584-bca0ca7fa799",
   "metadata": {},
   "outputs": [],
   "source": []
  },
  {
   "cell_type": "code",
   "execution_count": 468,
   "id": "6051743a-e879-436c-a4e1-e8589396c74a",
   "metadata": {},
   "outputs": [
    {
     "name": "stdout",
     "output_type": "stream",
     "text": [
      "Is IIIT-A student? False\n"
     ]
    }
   ],
   "source": [
    "def is_from_IIITA(all_educations):\n",
    "    IIITA_ID = 'https://www.linkedin.com/company/497317/'\n",
    "    for each_education in all_educations:\n",
    "        if each_education['Insititution ID'] == IIITA_ID:\n",
    "            return True\n",
    "    return False\n",
    "print('Is IIIT-A student?', is_from_IIITA(all_educations))"
   ]
  },
  {
   "cell_type": "code",
   "execution_count": 461,
   "id": "2098b071-b393-46d0-adca-9f6565e375d7",
   "metadata": {},
   "outputs": [],
   "source": [
    "profiles = ['https://www.linkedin.com/in/shivam-gupta-52302516b/',\n",
    "           'https://www.linkedin.com/in/isha-goel30/',\n",
    "           'https://www.linkedin.com/in/richik-bhattacharjee/',\n",
    "           'https://www.linkedin.com/in/sougata-das-4132a616b/',\n",
    "           'https://www.linkedin.com/in/abhi4gupta/',]\n",
    "\n",
    "# for profile_url in profiles:\n",
    "#     browser.get(profile_url)\n",
    "#     print(isConnection(profile_url), profile_url)\n",
    "#     break\n",
    "# profile_url = profiles[1]\n",
    "# browser.get(profile_url)"
   ]
  },
  {
   "cell_type": "code",
   "execution_count": 578,
   "id": "f19a116d-8dd4-4219-ae81-73550dcd013f",
   "metadata": {},
   "outputs": [
    {
     "name": "stdout",
     "output_type": "stream",
     "text": [
      "True https://www.linkedin.com/in/shivam-gupta-52302516b/\n",
      "False https://www.linkedin.com/in/isha-goel30/\n",
      "True https://www.linkedin.com/in/richik-bhattacharjee/\n",
      "True https://www.linkedin.com/in/sougata-das-4132a616b/\n",
      "True https://www.linkedin.com/in/abhi4gupta/\n"
     ]
    }
   ],
   "source": [
    "def isConnection(profile_url):\n",
    "    # pvs-profile-actions \n",
    "    src = browser.page_source\n",
    "    bs = BeautifulSoup(src, 'lxml')\n",
    "    actions_div = bs.find('div', {'class': 'pvs-profile-actions'})\n",
    "    # print(actions_div)\n",
    "    actions = actions_div.findAll('div', {'class': 'entry-point'})\n",
    "    if actions is None or len(actions) == 0:\n",
    "        return False\n",
    "    if 'aria-hidden=\\\"true\\\"' in str(actions):\n",
    "        return False\n",
    "    return True\n",
    "for profile_url in profiles:\n",
    "    browser.get(profile_url)\n",
    "    time.sleep(2)\n",
    "    print(isConnection(profile_url), profile_url)"
   ]
  },
  {
   "cell_type": "code",
   "execution_count": 562,
   "id": "7dbee972-d034-466c-8a1f-864f7aaf89ce",
   "metadata": {},
   "outputs": [
    {
     "name": "stdout",
     "output_type": "stream",
     "text": [
      "Connect https://www.linkedin.com/in/siddhi-singh-8653801b1/\n",
      "Connected https://www.linkedin.com/in/richik-bhattacharjee/\n",
      "Pending https://www.linkedin.com/in/isha-goel30/\n",
      "Connected https://www.linkedin.com/in/sougata-das-4132a616b/\n",
      "Connected https://www.linkedin.com/in/abhi4gupta/\n"
     ]
    }
   ],
   "source": [
    "def connectionStatus(profile_url):\n",
    "    browser.get(profile_url)\n",
    "    time.sleep(2)\n",
    "    src = browser.page_source\n",
    "    bs = BeautifulSoup(src, 'lxml')\n",
    "    actions_div = bs.find('div', {'class': 'pvs-profile-actions'})\n",
    "    # print(str(actions_div))\n",
    "    if actions_div is None:\n",
    "        return \"Error\"\n",
    "    actions = actions_div.findAll('div', {'class': 'entry-point'})\n",
    "    if ' to connect' in str(actions_div):\n",
    "        return \"Connect\"\n",
    "    if 'Pending' in str(actions_div):\n",
    "        return \"Pending\"\n",
    "    if actions is None or len(actions) == 0:\n",
    "        return \"Unknown\"\n",
    "    return \"Connected\"\n",
    "profiles2 = [\n",
    "            'https://www.linkedin.com/in/siddhi-singh-8653801b1/',\n",
    "            'https://www.linkedin.com/in/richik-bhattacharjee/',\n",
    "            'https://www.linkedin.com/in/isha-goel30/',\n",
    "            'https://www.linkedin.com/in/sougata-das-4132a616b/',\n",
    "           'https://www.linkedin.com/in/abhi4gupta/',\n",
    "            ]\n",
    "for profile_url in profiles2:\n",
    "    print(connectionStatus(profile_url), profile_url)\n",
    "    # break"
   ]
  },
  {
   "cell_type": "code",
   "execution_count": null,
   "id": "c12e5982-3a0e-4916-a7a0-d5d47a2608c6",
   "metadata": {},
   "outputs": [],
   "source": []
  },
  {
   "cell_type": "code",
   "execution_count": null,
   "id": "91eee209-0343-4a78-b2f2-20effb650757",
   "metadata": {},
   "outputs": [],
   "source": []
  },
  {
   "cell_type": "code",
   "execution_count": 563,
   "id": "2126cf3b-275e-480e-984c-3012c295d41c",
   "metadata": {},
   "outputs": [],
   "source": [
    "visitingProfileID = '/in/aarya-tadvalkar-092650193/'\n",
    "fullLink = 'https://www.linkedin.com' + visitingProfileID\n",
    "browser.get(fullLink)"
   ]
  },
  {
   "cell_type": "code",
   "execution_count": 566,
   "id": "d54f851f-bd62-4333-8ec5-f61076d11811",
   "metadata": {},
   "outputs": [
    {
     "data": {
      "text/plain": [
       "['/in/mrudula-ingale/',\n",
       " '/in/vaishnavi-patil-93579816b/',\n",
       " '/in/midhat-shaikh-2001/',\n",
       " '/in/mihir2510/',\n",
       " '/in/devanshi-shah-09/']"
      ]
     },
     "execution_count": 566,
     "metadata": {},
     "output_type": "execute_result"
    }
   ],
   "source": [
    "visitedProfiles = []\n",
    "profilesQueued = []\n",
    "\n",
    "def getPeopleAlsoViewedSection(bs):\n",
    "    profile_sections = bs.findAll('section')\n",
    "    req_profile_section = None\n",
    "    for profile_section in profile_sections:\n",
    "        if 'People also viewed' in str(profile_section):\n",
    "            return profile_section\n",
    "    return None\n",
    "\n",
    "def getNewProfileIDs(soup, profilesQueued):\n",
    "    profilesID = []\n",
    "    # return soup\n",
    "    people_also_viewed_section = getPeopleAlsoViewedSection(soup)\n",
    "    # print(people_also_viewed_section)\n",
    "    all_links = people_also_viewed_section.findAll('a')\n",
    "    for link in all_links:\n",
    "        userID = link.get('href')\n",
    "        if((userID is not None) and (userID not in profilesQueued) and (userID not in visitedProfiles)):\n",
    "            profilesID.append(userID)\n",
    "    return profilesID\n",
    "\n",
    "getNewProfileIDs(BeautifulSoup(browser.page_source), profilesQueued)"
   ]
  },
  {
   "cell_type": "code",
   "execution_count": 567,
   "id": "90e4997f-ba95-493c-84f5-b0671672d0ad",
   "metadata": {},
   "outputs": [],
   "source": [
    "LINKEDIN_BASE_URL = 'https://www.linkedin.com'"
   ]
  },
  {
   "cell_type": "code",
   "execution_count": 632,
   "id": "5db82f04-2279-4c78-a4be-8ee1cbf262ce",
   "metadata": {},
   "outputs": [
    {
     "name": "stdout",
     "output_type": "stream",
     "text": [
      "['/in/abhi4gupta/', '/in/abhirup-das-740981178/', '/in/shivam-gupta-52302516b/', '/in/richik-bhattacharjee/', '/in/utkarsh-pandey-95015b170/', '/in/sougata-das-4132a616b/', '/in/subharoop-ghosh-943669150/', '/in/aniket-mallick-75572416b/', '/in/isha-goel30/']\n"
     ]
    }
   ],
   "source": [
    "def getFollowersList(bs):\n",
    "    followers_url = 'https://www.linkedin.com/feed/followers/'\n",
    "    browser.get(followers_url)\n",
    "    time.sleep(2)\n",
    "    src = browser.page_source\n",
    "    bs = BeautifulSoup(src, 'lxml')\n",
    "    lis = []\n",
    "    all_followers = bs.find('div', {'class': 'feed-following'})\n",
    "    if all_followers is None:\n",
    "        return lis\n",
    "    for each_follower in all_followers.findAll('a'):\n",
    "        follower_id = each_follower.get('href')\n",
    "        if follower_id is None:\n",
    "            continue\n",
    "        lis.append(follower_id)\n",
    "    return list(set(list(lis)))\n",
    "followers = getFollowersList(bs)\n",
    "print(followers)"
   ]
  },
  {
   "cell_type": "code",
   "execution_count": 570,
   "id": "e2f8b717-84aa-4f3a-ba16-4ba3bb3fa982",
   "metadata": {},
   "outputs": [],
   "source": [
    "# import mysql.connector\n",
    "\n",
    "# mydb = mysql.connector.connect(\n",
    "#   host=\"localhost\",\n",
    "#   user=\"root\",\n",
    "#   password=\"pass\"\n",
    "# )\n",
    "\n",
    "# print(mydb)\n",
    "\n",
    "def getIIITFollowers(followers):\n",
    "    IIITFollowers = []\n",
    "    for follower in followers:\n",
    "        follower_url = LINKEDIN_BASE_URL + follower\n",
    "        browser.get(follower_url)\n",
    "        time.sleep(2)\n",
    "        src = browser.page_source\n",
    "        bs = BeautifulSoup(src, 'lxml')\n",
    "        # basicProfileInfo = getBasicProfileInfo(bs)\n",
    "        # all_experiences = getAllExperieceInfo(bs)\n",
    "        all_educations = getAllEducationInfo(bs)\n",
    "        if is_from_IIITA(all_educations):\n",
    "            IIITFollowers.append(follower)\n",
    "        \n",
    "    return IIITFollowers\n",
    "IIITFollowers = getIIITFollowers(followers)"
   ]
  },
  {
   "cell_type": "code",
   "execution_count": 571,
   "id": "6ab95708-de35-4954-9bd5-341b9be7602c",
   "metadata": {},
   "outputs": [
    {
     "name": "stdout",
     "output_type": "stream",
     "text": [
      "['/in/abhi4gupta/']\n"
     ]
    }
   ],
   "source": [
    "print(IIITFollowers)"
   ]
  },
  {
   "cell_type": "code",
   "execution_count": 793,
   "id": "6482c5a1-eb77-4c11-9a59-878b4e1ca96a",
   "metadata": {},
   "outputs": [
    {
     "name": "stderr",
     "output_type": "stream",
     "text": [
      "c:\\users\\asus\\appdata\\local\\programs\\python\\python37\\lib\\site-packages\\ipykernel_launcher.py:27: DeprecationWarning: find_element_by_* commands are deprecated. Please use find_element() instead\n",
      "c:\\users\\asus\\appdata\\local\\programs\\python\\python37\\lib\\site-packages\\ipykernel_launcher.py:37: DeprecationWarning: find_element_by_* commands are deprecated. Please use find_element() instead\n",
      "c:\\users\\asus\\appdata\\local\\programs\\python\\python37\\lib\\site-packages\\ipykernel_launcher.py:39: DeprecationWarning: find_element_by_* commands are deprecated. Please use find_element() instead\n",
      "c:\\users\\asus\\appdata\\local\\programs\\python\\python37\\lib\\site-packages\\ipykernel_launcher.py:51: DeprecationWarning: find_element_by_* commands are deprecated. Please use find_element() instead\n"
     ]
    }
   ],
   "source": [
    "def send_connection_request_with_text(profile_url, text):\n",
    "    if connectionStatus(profile_url) == 'Connect':\n",
    "        src = browser.page_source\n",
    "        bs = BeautifulSoup(src, 'lxml')\n",
    "        \n",
    "        actions_divs = bs.findAll('div', {'class': 'pvs-profile-actions'})\n",
    "        if len(actions_divs) == 0:\n",
    "            return\n",
    "        ids = []\n",
    "        for actions_div in actions_divs:\n",
    "            buttons = actions_div.findAll('button')\n",
    "            if len(buttons) == 0:\n",
    "                continue\n",
    "            _id = None\n",
    "            for button in buttons:\n",
    "                cnnt = button.get('aria-label')\n",
    "                if cnnt is None:\n",
    "                    continue\n",
    "                if ' to connect' in str(cnnt):\n",
    "                    _id = button.get('id')\n",
    "                    break\n",
    "            if _id is None:\n",
    "                continue\n",
    "            ids.append(_id)\n",
    "        if len(ids) == 0:\n",
    "            return\n",
    "        browser.find_element_by_id(ids[-1]).click()\n",
    "        src = browser.page_source\n",
    "        bs = BeautifulSoup(src, 'lxml')\n",
    "        _id = None\n",
    "        for x in bs.find_all('button'):\n",
    "            if x.get('aria-label') == 'Add a note':\n",
    "                _id = x.get('id')\n",
    "                break\n",
    "        if _id is None:\n",
    "            return\n",
    "        browser.find_element_by_id(_id).click()\n",
    "        INV_REQUEST = 'Please accept my request.'\n",
    "        elementID = browser.find_element_by_id('custom-message')\n",
    "        elementID.send_keys(INV_REQUEST)\n",
    "        \n",
    "        src = browser.page_source\n",
    "        bs = BeautifulSoup(src, 'lxml')\n",
    "        _id = None\n",
    "        for x in bs.find_all('button'):\n",
    "            if x.get('aria-label') == 'Send now':\n",
    "                _id = x.get('id')\n",
    "                break\n",
    "        if _id is None:\n",
    "            return\n",
    "        browser.find_element_by_id(_id).click()\n",
    "        \n",
    "send_connection_request_with_text('https://www.linkedin.com/in/kapil-tomar-a2b31118b/', 'Hi! Please accept my connection request')"
   ]
  },
  {
   "cell_type": "code",
   "execution_count": 696,
   "id": "833999ae-b5bc-45a2-9a4a-bcf51e644c30",
   "metadata": {},
   "outputs": [],
   "source": [
    "# BeautifulSoup(browser.page_source)"
   ]
  },
  {
   "cell_type": "code",
   "execution_count": 787,
   "id": "b8a19c19-3224-410f-a395-37b95d0e8fa0",
   "metadata": {},
   "outputs": [
    {
     "ename": "WebDriverException",
     "evalue": "Message: chrome not reachable\n  (Session info: chrome=100.0.4896.127)\nStacktrace:\nBacktrace:\n\tOrdinal0 [0x00779943+2595139]\n\tOrdinal0 [0x0070C9F1+2148849]\n\tOrdinal0 [0x006043F0+1065968]\n\tOrdinal0 [0x005F87C2+1017794]\n\tOrdinal0 [0x005F8FF8+1019896]\n\tOrdinal0 [0x005FA892+1026194]\n\tOrdinal0 [0x005F4219+999961]\n\tOrdinal0 [0x00605860+1071200]\n\tOrdinal0 [0x0065B2D2+1422034]\n\tOrdinal0 [0x0064B806+1357830]\n\tOrdinal0 [0x00626086+1204358]\n\tOrdinal0 [0x00626F96+1208214]\n\tGetHandleVerifier [0x0091B232+1658114]\n\tGetHandleVerifier [0x009D312C+2411516]\n\tGetHandleVerifier [0x0080F261+560433]\n\tGetHandleVerifier [0x0080E366+556598]\n\tOrdinal0 [0x0071286B+2173035]\n\tOrdinal0 [0x007175F8+2192888]\n\tOrdinal0 [0x007176E5+2193125]\n\tOrdinal0 [0x007211FC+2232828]\n\tBaseThreadInitThunk [0x7571FA29+25]\n\tRtlGetAppContainerNamedObjectPath [0x77097A9E+286]\n\tRtlGetAppContainerNamedObjectPath [0x77097A6E+238]\n",
     "output_type": "error",
     "traceback": [
      "\u001b[1;31m---------------------------------------------------------------------------\u001b[0m",
      "\u001b[1;31mWebDriverException\u001b[0m                        Traceback (most recent call last)",
      "\u001b[1;32m~\\AppData\\Local\\Temp/ipykernel_17216/3508598060.py\u001b[0m in \u001b[0;36m<module>\u001b[1;34m\u001b[0m\n\u001b[0;32m     20\u001b[0m         \u001b[0mmessage_text\u001b[0m\u001b[1;33m.\u001b[0m\u001b[0msubmit\u001b[0m\u001b[1;33m(\u001b[0m\u001b[1;33m)\u001b[0m\u001b[1;33m\u001b[0m\u001b[1;33m\u001b[0m\u001b[0m\n\u001b[0;32m     21\u001b[0m \u001b[1;33m\u001b[0m\u001b[0m\n\u001b[1;32m---> 22\u001b[1;33m \u001b[0msend_text_to_connection\u001b[0m\u001b[1;33m(\u001b[0m\u001b[1;34m'https://www.linkedin.com/in/abhi4gupta/'\u001b[0m\u001b[1;33m,\u001b[0m \u001b[1;34m'Dummy Text by bot'\u001b[0m\u001b[1;33m)\u001b[0m\u001b[1;33m\u001b[0m\u001b[1;33m\u001b[0m\u001b[0m\n\u001b[0m",
      "\u001b[1;32m~\\AppData\\Local\\Temp/ipykernel_17216/3508598060.py\u001b[0m in \u001b[0;36msend_text_to_connection\u001b[1;34m(profile_url, text)\u001b[0m\n\u001b[0;32m      1\u001b[0m \u001b[1;32mdef\u001b[0m \u001b[0msend_text_to_connection\u001b[0m\u001b[1;33m(\u001b[0m\u001b[0mprofile_url\u001b[0m\u001b[1;33m,\u001b[0m \u001b[0mtext\u001b[0m\u001b[1;33m)\u001b[0m\u001b[1;33m:\u001b[0m\u001b[1;33m\u001b[0m\u001b[1;33m\u001b[0m\u001b[0m\n\u001b[0;32m      2\u001b[0m     \u001b[1;31m# print(connectionStatus(profile_url))\u001b[0m\u001b[1;33m\u001b[0m\u001b[1;33m\u001b[0m\u001b[1;33m\u001b[0m\u001b[0m\n\u001b[1;32m----> 3\u001b[1;33m     \u001b[1;32mif\u001b[0m \u001b[0mconnectionStatus\u001b[0m\u001b[1;33m(\u001b[0m\u001b[0mprofile_url\u001b[0m\u001b[1;33m)\u001b[0m \u001b[1;33m==\u001b[0m \u001b[1;34m'Connected'\u001b[0m\u001b[1;33m:\u001b[0m\u001b[1;33m\u001b[0m\u001b[1;33m\u001b[0m\u001b[0m\n\u001b[0m\u001b[0;32m      4\u001b[0m         \u001b[0msrc\u001b[0m \u001b[1;33m=\u001b[0m \u001b[0mbrowser\u001b[0m\u001b[1;33m.\u001b[0m\u001b[0mpage_source\u001b[0m\u001b[1;33m\u001b[0m\u001b[1;33m\u001b[0m\u001b[0m\n\u001b[0;32m      5\u001b[0m         \u001b[0mbs\u001b[0m \u001b[1;33m=\u001b[0m \u001b[0mBeautifulSoup\u001b[0m\u001b[1;33m(\u001b[0m\u001b[0msrc\u001b[0m\u001b[1;33m,\u001b[0m \u001b[1;34m'lxml'\u001b[0m\u001b[1;33m)\u001b[0m\u001b[1;33m\u001b[0m\u001b[1;33m\u001b[0m\u001b[0m\n",
      "\u001b[1;32m~\\AppData\\Local\\Temp/ipykernel_17216/1398941729.py\u001b[0m in \u001b[0;36mconnectionStatus\u001b[1;34m(profile_url)\u001b[0m\n\u001b[0;32m      1\u001b[0m \u001b[1;32mdef\u001b[0m \u001b[0mconnectionStatus\u001b[0m\u001b[1;33m(\u001b[0m\u001b[0mprofile_url\u001b[0m\u001b[1;33m)\u001b[0m\u001b[1;33m:\u001b[0m\u001b[1;33m\u001b[0m\u001b[1;33m\u001b[0m\u001b[0m\n\u001b[1;32m----> 2\u001b[1;33m     \u001b[0mbrowser\u001b[0m\u001b[1;33m.\u001b[0m\u001b[0mget\u001b[0m\u001b[1;33m(\u001b[0m\u001b[0mprofile_url\u001b[0m\u001b[1;33m)\u001b[0m\u001b[1;33m\u001b[0m\u001b[1;33m\u001b[0m\u001b[0m\n\u001b[0m\u001b[0;32m      3\u001b[0m     \u001b[0mtime\u001b[0m\u001b[1;33m.\u001b[0m\u001b[0msleep\u001b[0m\u001b[1;33m(\u001b[0m\u001b[1;36m2\u001b[0m\u001b[1;33m)\u001b[0m\u001b[1;33m\u001b[0m\u001b[1;33m\u001b[0m\u001b[0m\n\u001b[0;32m      4\u001b[0m     \u001b[0msrc\u001b[0m \u001b[1;33m=\u001b[0m \u001b[0mbrowser\u001b[0m\u001b[1;33m.\u001b[0m\u001b[0mpage_source\u001b[0m\u001b[1;33m\u001b[0m\u001b[1;33m\u001b[0m\u001b[0m\n\u001b[0;32m      5\u001b[0m     \u001b[0mbs\u001b[0m \u001b[1;33m=\u001b[0m \u001b[0mBeautifulSoup\u001b[0m\u001b[1;33m(\u001b[0m\u001b[0msrc\u001b[0m\u001b[1;33m,\u001b[0m \u001b[1;34m'lxml'\u001b[0m\u001b[1;33m)\u001b[0m\u001b[1;33m\u001b[0m\u001b[1;33m\u001b[0m\u001b[0m\n",
      "\u001b[1;32mc:\\users\\asus\\appdata\\local\\programs\\python\\python37\\lib\\site-packages\\selenium\\webdriver\\remote\\webdriver.py\u001b[0m in \u001b[0;36mget\u001b[1;34m(self, url)\u001b[0m\n\u001b[0;32m    435\u001b[0m         \u001b[0mLoads\u001b[0m \u001b[0ma\u001b[0m \u001b[0mweb\u001b[0m \u001b[0mpage\u001b[0m \u001b[1;32min\u001b[0m \u001b[0mthe\u001b[0m \u001b[0mcurrent\u001b[0m \u001b[0mbrowser\u001b[0m \u001b[0msession\u001b[0m\u001b[1;33m.\u001b[0m\u001b[1;33m\u001b[0m\u001b[1;33m\u001b[0m\u001b[0m\n\u001b[0;32m    436\u001b[0m         \"\"\"\n\u001b[1;32m--> 437\u001b[1;33m         \u001b[0mself\u001b[0m\u001b[1;33m.\u001b[0m\u001b[0mexecute\u001b[0m\u001b[1;33m(\u001b[0m\u001b[0mCommand\u001b[0m\u001b[1;33m.\u001b[0m\u001b[0mGET\u001b[0m\u001b[1;33m,\u001b[0m \u001b[1;33m{\u001b[0m\u001b[1;34m'url'\u001b[0m\u001b[1;33m:\u001b[0m \u001b[0murl\u001b[0m\u001b[1;33m}\u001b[0m\u001b[1;33m)\u001b[0m\u001b[1;33m\u001b[0m\u001b[1;33m\u001b[0m\u001b[0m\n\u001b[0m\u001b[0;32m    438\u001b[0m \u001b[1;33m\u001b[0m\u001b[0m\n\u001b[0;32m    439\u001b[0m     \u001b[1;33m@\u001b[0m\u001b[0mproperty\u001b[0m\u001b[1;33m\u001b[0m\u001b[1;33m\u001b[0m\u001b[0m\n",
      "\u001b[1;32mc:\\users\\asus\\appdata\\local\\programs\\python\\python37\\lib\\site-packages\\selenium\\webdriver\\remote\\webdriver.py\u001b[0m in \u001b[0;36mexecute\u001b[1;34m(self, driver_command, params)\u001b[0m\n\u001b[0;32m    423\u001b[0m         \u001b[0mresponse\u001b[0m \u001b[1;33m=\u001b[0m \u001b[0mself\u001b[0m\u001b[1;33m.\u001b[0m\u001b[0mcommand_executor\u001b[0m\u001b[1;33m.\u001b[0m\u001b[0mexecute\u001b[0m\u001b[1;33m(\u001b[0m\u001b[0mdriver_command\u001b[0m\u001b[1;33m,\u001b[0m \u001b[0mparams\u001b[0m\u001b[1;33m)\u001b[0m\u001b[1;33m\u001b[0m\u001b[1;33m\u001b[0m\u001b[0m\n\u001b[0;32m    424\u001b[0m         \u001b[1;32mif\u001b[0m \u001b[0mresponse\u001b[0m\u001b[1;33m:\u001b[0m\u001b[1;33m\u001b[0m\u001b[1;33m\u001b[0m\u001b[0m\n\u001b[1;32m--> 425\u001b[1;33m             \u001b[0mself\u001b[0m\u001b[1;33m.\u001b[0m\u001b[0merror_handler\u001b[0m\u001b[1;33m.\u001b[0m\u001b[0mcheck_response\u001b[0m\u001b[1;33m(\u001b[0m\u001b[0mresponse\u001b[0m\u001b[1;33m)\u001b[0m\u001b[1;33m\u001b[0m\u001b[1;33m\u001b[0m\u001b[0m\n\u001b[0m\u001b[0;32m    426\u001b[0m             response['value'] = self._unwrap_value(\n\u001b[0;32m    427\u001b[0m                 response.get('value', None))\n",
      "\u001b[1;32mc:\\users\\asus\\appdata\\local\\programs\\python\\python37\\lib\\site-packages\\selenium\\webdriver\\remote\\errorhandler.py\u001b[0m in \u001b[0;36mcheck_response\u001b[1;34m(self, response)\u001b[0m\n\u001b[0;32m    245\u001b[0m                 \u001b[0malert_text\u001b[0m \u001b[1;33m=\u001b[0m \u001b[0mvalue\u001b[0m\u001b[1;33m[\u001b[0m\u001b[1;34m'alert'\u001b[0m\u001b[1;33m]\u001b[0m\u001b[1;33m.\u001b[0m\u001b[0mget\u001b[0m\u001b[1;33m(\u001b[0m\u001b[1;34m'text'\u001b[0m\u001b[1;33m)\u001b[0m\u001b[1;33m\u001b[0m\u001b[1;33m\u001b[0m\u001b[0m\n\u001b[0;32m    246\u001b[0m             \u001b[1;32mraise\u001b[0m \u001b[0mexception_class\u001b[0m\u001b[1;33m(\u001b[0m\u001b[0mmessage\u001b[0m\u001b[1;33m,\u001b[0m \u001b[0mscreen\u001b[0m\u001b[1;33m,\u001b[0m \u001b[0mstacktrace\u001b[0m\u001b[1;33m,\u001b[0m \u001b[0malert_text\u001b[0m\u001b[1;33m)\u001b[0m  \u001b[1;31m# type: ignore[call-arg]  # mypy is not smart enough here\u001b[0m\u001b[1;33m\u001b[0m\u001b[1;33m\u001b[0m\u001b[0m\n\u001b[1;32m--> 247\u001b[1;33m         \u001b[1;32mraise\u001b[0m \u001b[0mexception_class\u001b[0m\u001b[1;33m(\u001b[0m\u001b[0mmessage\u001b[0m\u001b[1;33m,\u001b[0m \u001b[0mscreen\u001b[0m\u001b[1;33m,\u001b[0m \u001b[0mstacktrace\u001b[0m\u001b[1;33m)\u001b[0m\u001b[1;33m\u001b[0m\u001b[1;33m\u001b[0m\u001b[0m\n\u001b[0m\u001b[0;32m    248\u001b[0m \u001b[1;33m\u001b[0m\u001b[0m\n\u001b[0;32m    249\u001b[0m     \u001b[1;32mdef\u001b[0m \u001b[0m_value_or_default\u001b[0m\u001b[1;33m(\u001b[0m\u001b[0mself\u001b[0m\u001b[1;33m,\u001b[0m \u001b[0mobj\u001b[0m\u001b[1;33m:\u001b[0m \u001b[0mMapping\u001b[0m\u001b[1;33m[\u001b[0m\u001b[0m_KT\u001b[0m\u001b[1;33m,\u001b[0m \u001b[0m_VT\u001b[0m\u001b[1;33m]\u001b[0m\u001b[1;33m,\u001b[0m \u001b[0mkey\u001b[0m\u001b[1;33m:\u001b[0m \u001b[0m_KT\u001b[0m\u001b[1;33m,\u001b[0m \u001b[0mdefault\u001b[0m\u001b[1;33m:\u001b[0m \u001b[0m_VT\u001b[0m\u001b[1;33m)\u001b[0m \u001b[1;33m->\u001b[0m \u001b[0m_VT\u001b[0m\u001b[1;33m:\u001b[0m\u001b[1;33m\u001b[0m\u001b[1;33m\u001b[0m\u001b[0m\n",
      "\u001b[1;31mWebDriverException\u001b[0m: Message: chrome not reachable\n  (Session info: chrome=100.0.4896.127)\nStacktrace:\nBacktrace:\n\tOrdinal0 [0x00779943+2595139]\n\tOrdinal0 [0x0070C9F1+2148849]\n\tOrdinal0 [0x006043F0+1065968]\n\tOrdinal0 [0x005F87C2+1017794]\n\tOrdinal0 [0x005F8FF8+1019896]\n\tOrdinal0 [0x005FA892+1026194]\n\tOrdinal0 [0x005F4219+999961]\n\tOrdinal0 [0x00605860+1071200]\n\tOrdinal0 [0x0065B2D2+1422034]\n\tOrdinal0 [0x0064B806+1357830]\n\tOrdinal0 [0x00626086+1204358]\n\tOrdinal0 [0x00626F96+1208214]\n\tGetHandleVerifier [0x0091B232+1658114]\n\tGetHandleVerifier [0x009D312C+2411516]\n\tGetHandleVerifier [0x0080F261+560433]\n\tGetHandleVerifier [0x0080E366+556598]\n\tOrdinal0 [0x0071286B+2173035]\n\tOrdinal0 [0x007175F8+2192888]\n\tOrdinal0 [0x007176E5+2193125]\n\tOrdinal0 [0x007211FC+2232828]\n\tBaseThreadInitThunk [0x7571FA29+25]\n\tRtlGetAppContainerNamedObjectPath [0x77097A9E+286]\n\tRtlGetAppContainerNamedObjectPath [0x77097A6E+238]\n"
     ]
    }
   ],
   "source": [
    "def send_text_to_connection(profile_url, text):\n",
    "    # print(connectionStatus(profile_url))\n",
    "    if connectionStatus(profile_url) == 'Connected':\n",
    "        src = browser.page_source\n",
    "        bs = BeautifulSoup(src, 'lxml')\n",
    "        x = bs.find('a', {'class': 'message-anywhere-button pvs-profile-actions__action artdeco-button'})\n",
    "        if x is None:\n",
    "            return\n",
    "        link = x.get('href')\n",
    "        if link is None:\n",
    "            return\n",
    "        full_link = 'https://www.linkedin.com' + link\n",
    "        browser.get(full_link)\n",
    "        \n",
    "        src = browser.page_source\n",
    "        bs = BeautifulSoup(src, 'lxml')\n",
    "        \n",
    "        message_text = browser.find_element_by_css_selector('div.msg-form__contenteditable > p')\n",
    "        message_text.send_keys(text)\n",
    "        message_text.submit()\n",
    "        \n",
    "send_text_to_connection('https://www.linkedin.com/in/abhi4gupta/', 'Dummy Text by bot')"
   ]
  },
  {
   "cell_type": "code",
   "execution_count": 757,
   "id": "744743a6-3d0c-40c1-a0f2-085e1bf0cfa3",
   "metadata": {},
   "outputs": [
    {
     "ename": "NameError",
     "evalue": "name 'self' is not defined",
     "output_type": "error",
     "traceback": [
      "\u001b[1;31m---------------------------------------------------------------------------\u001b[0m",
      "\u001b[1;31mNameError\u001b[0m                                 Traceback (most recent call last)",
      "\u001b[1;32m~\\AppData\\Local\\Temp/ipykernel_17216/1956866855.py\u001b[0m in \u001b[0;36m<module>\u001b[1;34m\u001b[0m\n\u001b[0;32m      1\u001b[0m \u001b[1;32mimport\u001b[0m \u001b[0mInfoScraper\u001b[0m\u001b[1;33m\u001b[0m\u001b[1;33m\u001b[0m\u001b[0m\n\u001b[0;32m      2\u001b[0m \u001b[1;33m\u001b[0m\u001b[0m\n\u001b[1;32m----> 3\u001b[1;33m \u001b[0mprofile_info\u001b[0m \u001b[1;33m=\u001b[0m \u001b[0mInfoScraper\u001b[0m\u001b[1;33m.\u001b[0m\u001b[0mInfoScraper\u001b[0m\u001b[1;33m(\u001b[0m\u001b[1;34m'https://www.linkedin.com/in/abhi4gupta/'\u001b[0m\u001b[1;33m)\u001b[0m\u001b[1;33m\u001b[0m\u001b[1;33m\u001b[0m\u001b[0m\n\u001b[0m\u001b[0;32m      4\u001b[0m \u001b[1;31m# print(profile_info.all_experiences)\u001b[0m\u001b[1;33m\u001b[0m\u001b[1;33m\u001b[0m\u001b[1;33m\u001b[0m\u001b[0m\n\u001b[0;32m      5\u001b[0m \u001b[0mprint\u001b[0m\u001b[1;33m(\u001b[0m\u001b[0mprofile_info\u001b[0m\u001b[1;33m)\u001b[0m\u001b[1;33m\u001b[0m\u001b[1;33m\u001b[0m\u001b[0m\n",
      "\u001b[1;32mE:\\Projects\\Sem-8\\InfoScraper.py\u001b[0m in \u001b[0;36m__init__\u001b[1;34m(profile_url, browser)\u001b[0m\n\u001b[0;32m      1\u001b[0m \u001b[1;32mclass\u001b[0m \u001b[0mInfoScraper\u001b[0m\u001b[1;33m:\u001b[0m\u001b[1;33m\u001b[0m\u001b[1;33m\u001b[0m\u001b[0m\n\u001b[0;32m      2\u001b[0m         \u001b[1;32mdef\u001b[0m \u001b[0m__init__\u001b[0m\u001b[1;33m(\u001b[0m\u001b[0mself\u001b[0m\u001b[1;33m,\u001b[0m \u001b[0mprofile_url\u001b[0m\u001b[1;33m)\u001b[0m\u001b[1;33m:\u001b[0m\u001b[1;33m\u001b[0m\u001b[1;33m\u001b[0m\u001b[0m\n\u001b[1;32m----> 3\u001b[1;33m                 \u001b[0mself\u001b[0m\u001b[1;33m.\u001b[0m\u001b[0mprofile_url\u001b[0m \u001b[1;33m=\u001b[0m \u001b[0mprofile_url\u001b[0m\u001b[1;33m\u001b[0m\u001b[1;33m\u001b[0m\u001b[0m\n\u001b[0m\u001b[0;32m      4\u001b[0m                 \u001b[0mself\u001b[0m\u001b[1;33m.\u001b[0m\u001b[0mbrowser\u001b[0m \u001b[1;33m=\u001b[0m \u001b[0mwebdriver\u001b[0m\u001b[1;33m.\u001b[0m\u001b[0mChrome\u001b[0m\u001b[1;33m(\u001b[0m\u001b[1;34m'driver/chromedriver.exe'\u001b[0m\u001b[1;33m)\u001b[0m\u001b[1;33m\u001b[0m\u001b[1;33m\u001b[0m\u001b[0m\n\u001b[0;32m      5\u001b[0m                 \u001b[0mself\u001b[0m\u001b[1;33m.\u001b[0m\u001b[0mbs\u001b[0m \u001b[1;33m=\u001b[0m \u001b[0mself\u001b[0m\u001b[1;33m.\u001b[0m\u001b[0msetBroswerAndGetSoup\u001b[0m\u001b[1;33m(\u001b[0m\u001b[1;33m)\u001b[0m\u001b[1;33m\u001b[0m\u001b[1;33m\u001b[0m\u001b[0m\n",
      "\u001b[1;31mNameError\u001b[0m: name 'self' is not defined"
     ]
    }
   ],
   "source": [
    "import InfoScraper\n",
    "   \n",
    "profile_info = InfoScraper.InfoScraper('https://www.linkedin.com/in/abhi4gupta/')\n",
    "# print(profile_info.all_experiences)\n",
    "print(profile_info)"
   ]
  },
  {
   "cell_type": "code",
   "execution_count": null,
   "id": "cc87024d-b026-4693-ae21-f79d35bf4274",
   "metadata": {},
   "outputs": [],
   "source": []
  }
 ],
 "metadata": {
  "kernelspec": {
   "display_name": "Python 3 (ipykernel)",
   "language": "python",
   "name": "python3"
  },
  "language_info": {
   "codemirror_mode": {
    "name": "ipython",
    "version": 3
   },
   "file_extension": ".py",
   "mimetype": "text/x-python",
   "name": "python",
   "nbconvert_exporter": "python",
   "pygments_lexer": "ipython3",
   "version": "3.7.2"
  }
 },
 "nbformat": 4,
 "nbformat_minor": 5
}
