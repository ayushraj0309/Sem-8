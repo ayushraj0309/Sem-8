{
 "cells": [
  {
   "cell_type": "code",
   "execution_count": 97,
   "id": "847c753b-6045-4b61-85cc-ab94e7bb1ba6",
   "metadata": {},
   "outputs": [],
   "source": [
    "import requests, time, random\n",
    "from bs4 import BeautifulSoup\n",
    "from selenium import webdriver\n",
    "from six import iteritems\n",
    "import pandas as pd\n",
    "from collections import defaultdict"
   ]
  },
  {
   "cell_type": "code",
   "execution_count": 2,
   "id": "97f5e9d8-242a-42c2-8c02-0690f98d99d0",
   "metadata": {},
   "outputs": [],
   "source": [
    "all_profile_info = {}"
   ]
  },
  {
   "cell_type": "code",
   "execution_count": 196,
   "id": "c3206fb8-b03e-4df0-a0ef-c4a8ebf18332",
   "metadata": {},
   "outputs": [],
   "source": [
    "class Helper:\n",
    "    @staticmethod\n",
    "    def printDict(_dict):\n",
    "        for key, value in iteritems(_dict):\n",
    "            print(key,':',value)\n",
    "\n",
    "    @staticmethod\n",
    "    def printListDic(all_exp):\n",
    "        for _dict in all_exp:\n",
    "            printDict(_dict)\n",
    "            print()\n",
    "            \n",
    "    @staticmethod\n",
    "    def login(browser):\n",
    "        # browser.get('https://www.linkedin.com/uas/login')\n",
    "        file = open('config.txt')\n",
    "        lines = file.readlines()\n",
    "        username = lines[0]\n",
    "        password = lines[1]\n",
    "\n",
    "        elementID = browser.find_element_by_id('username')\n",
    "        elementID.send_keys(username)\n",
    "        elementID = browser.find_element_by_id('password')\n",
    "        elementID.send_keys(password)\n",
    "        elementID.submit()\n",
    "        \n",
    "    @staticmethod\n",
    "    def get_browser(logged_in=True):\n",
    "        browser = webdriver.Chrome('driver/chromedriver.exe')\n",
    "        browser.get('https://www.linkedin.com/uas/login')\n",
    "        if logged_in:\n",
    "            Helper.login(browser)\n",
    "        return browser\n",
    "    \n",
    "    @staticmethod\n",
    "    def scroll(browser, scroll_time = 2):\n",
    "        SCROLL_PAUSE_TIME = scroll_time\n",
    "        last_height = browser.execute_script(\"return document.body.scrollHeight\")\n",
    "        for i in range(3):\n",
    "            browser.execute_script(\"window.scrollTo(0, document.body.scrollHeight);\")\n",
    "            time.sleep(SCROLL_PAUSE_TIME)\n",
    "            new_height = browser.execute_script(\"return document.body.scrollHeight\")\n",
    "            if new_height == last_height:\n",
    "                break\n",
    "            last_height = new_height\n",
    "         \n",
    "    @staticmethod   \n",
    "    def get_profile_link_and_scroll(browser, url):\n",
    "        browser.get(url)\n",
    "        Helper.scroll(browser)\n",
    "        \n",
    "    @staticmethod\n",
    "    def get_profile_id_from_linkedin_url(url):\n",
    "        url = str(url)\n",
    "        index = url.find('.com')\n",
    "        return url[index+4:]\n",
    "    \n",
    "    @staticmethod\n",
    "    def get_profile_url_from_id(_id):\n",
    "        LINKEDIN_BASE_URL = 'https://www.linkedin.com'\n",
    "        _id = str(_id)\n",
    "        \n",
    "        url = LINKEDIN_BASE_URL + _id\n",
    "        return url\n",
    "    \n",
    "    @staticmethod\n",
    "    def setBroswerAndGetSoup(browser, profile_url):\n",
    "        browser.get(profile_url)\n",
    "        Helper.scroll(browser)\n",
    "        src = browser.page_source\n",
    "        soup = BeautifulSoup(src, 'lxml')\n",
    "        return soup\n",
    "    \n",
    "    @staticmethod\n",
    "    def is_from_IIITA(all_edu_exp):\n",
    "        IIITA_School_Company = 'https://www.linkedin.com/company/497317/'\n",
    "        IIITA = 'https://www.linkedin.com/search/results/all/?keywords=IIIT+Allahabad'\n",
    "        for each_edu_exp in all_edu_exp:\n",
    "            if each_edu_exp['URL ID'] == IIITA_School_Company:\n",
    "                return True\n",
    "            if each_edu_exp['URL ID'] == IIITA:\n",
    "                return True\n",
    "        return False\n",
    "    "
   ]
  },
  {
   "cell_type": "code",
   "execution_count": 230,
   "id": "8e819390-0286-40ff-a2d6-7a75c858b1b3",
   "metadata": {},
   "outputs": [
    {
     "name": "stderr",
     "output_type": "stream",
     "text": [
      "c:\\users\\asus\\appdata\\local\\programs\\python\\python37\\lib\\site-packages\\ipykernel_launcher.py:29: DeprecationWarning: executable_path has been deprecated, please pass in a Service object\n",
      "c:\\users\\asus\\appdata\\local\\programs\\python\\python37\\lib\\site-packages\\ipykernel_launcher.py:21: DeprecationWarning: find_element_by_* commands are deprecated. Please use find_element() instead\n",
      "c:\\users\\asus\\appdata\\local\\programs\\python\\python37\\lib\\site-packages\\ipykernel_launcher.py:23: DeprecationWarning: find_element_by_* commands are deprecated. Please use find_element() instead\n"
     ]
    }
   ],
   "source": [
    "# browser = Helper.get_browser(logged_in=False)\n",
    "browser = Helper.get_browser(logged_in=True)"
   ]
  },
  {
   "cell_type": "code",
   "execution_count": 309,
   "id": "f8ba754d-df10-47c6-a27b-99e8ff6d166e",
   "metadata": {},
   "outputs": [],
   "source": [
    "class Followers:\n",
    "    LINKEDIN_BASE_URL = 'https://www.linkedin.com'\n",
    "    def __init__(self, logged_in_browser, scrolls = 1):\n",
    "        self.browser = logged_in_browser\n",
    "        self.scrolls = scrolls\n",
    "        \n",
    "    def getFollowersList(self):\n",
    "        followers_url = 'https://www.linkedin.com/feed/followers/'\n",
    "        browser.get(followers_url)\n",
    "        time.sleep(2)\n",
    "        for i in range(100):\n",
    "            Helper.scroll(self.browser, 2)\n",
    "        src = browser.page_source\n",
    "        bs = BeautifulSoup(src, 'lxml')\n",
    "        lis = []\n",
    "        all_followers = bs.find('div', {'class': 'feed-following'})\n",
    "        if all_followers is None:\n",
    "            return lis\n",
    "        for each_follower in all_followers.findAll('a'):\n",
    "            follower_id = each_follower.get('href')\n",
    "            if follower_id is None:\n",
    "                continue\n",
    "            lis.append(follower_id)\n",
    "        return list(set(list(lis)))\n",
    "    \n",
    "    def getFollowersListPage(self):\n",
    "        followers_url = 'https://www.linkedin.com/company/81519323/admin/analytics/followers/'\n",
    "        browser.get(followers_url)\n",
    "        time.sleep(2)\n",
    "        for i in range(self.scrolls):\n",
    "            Helper.scroll(self.browser, 2)\n",
    "        src = browser.page_source\n",
    "        bs = BeautifulSoup(src, 'lxml')\n",
    "        lis = []\n",
    "        all_followers = bs.find('table', {'class': 'org-view-page-followers-module__table table'})\n",
    "        if all_followers is None:\n",
    "            return lis\n",
    "        for each_follower in all_followers.findAll('a'):\n",
    "            follower_id = each_follower.get('href')\n",
    "            if follower_id is None:\n",
    "                continue\n",
    "            lis.append(follower_id)\n",
    "        return list(set(list(lis)))"
   ]
  },
  {
   "cell_type": "code",
   "execution_count": 313,
   "id": "65eb6f89-78c9-4a56-9e13-7cecf2eb9d96",
   "metadata": {},
   "outputs": [],
   "source": [
    "my_followers = Followers(browser,3)\n",
    "page_foll_lis = my_followers.getFollowersListPage()"
   ]
  },
  {
   "cell_type": "code",
   "execution_count": 314,
   "id": "b7324898-86a0-4b2e-97b1-a7cbb93e75bb",
   "metadata": {},
   "outputs": [
    {
     "name": "stdout",
     "output_type": "stream",
     "text": [
      "['/in/abhi4gupta/', '/in/ayushraj0309/', '/in/ayush-kumar-47a9921b0/']\n"
     ]
    }
   ],
   "source": [
    "print(page_foll_lis)"
   ]
  },
  {
   "cell_type": "code",
   "execution_count": 305,
   "id": "fbda71b6-c97d-48e1-8667-e1e29c4f6e99",
   "metadata": {},
   "outputs": [
    {
     "name": "stdout",
     "output_type": "stream",
     "text": [
      "3\n"
     ]
    }
   ],
   "source": [
    "print(len(page_foll_lis))"
   ]
  },
  {
   "cell_type": "code",
   "execution_count": 306,
   "id": "ed63e051-1024-4c6d-8a1d-6d3715739591",
   "metadata": {},
   "outputs": [],
   "source": [
    "def saveJSON(flw_list, file='followers.json'):\n",
    "    data = {}\n",
    "    for pid in flw_list:\n",
    "        data2 = {}\n",
    "        data2['Profile URL'] = Helper.get_profile_url_from_id(pid)\n",
    "        data[pid] = data2\n",
    "    out_file = open(file, \"w\")\n",
    "    json.dump(data, out_file, indent = 6)\n",
    "    out_file.close()"
   ]
  },
  {
   "cell_type": "code",
   "execution_count": 307,
   "id": "3206768e-4a7c-4cf0-89d6-febf58c3e639",
   "metadata": {},
   "outputs": [],
   "source": [
    "saveJSON(page_foll_lis, file='page_followers.json')"
   ]
  },
  {
   "cell_type": "code",
   "execution_count": null,
   "id": "6c6ab365-d052-4966-87c9-af2d9df43ff0",
   "metadata": {},
   "outputs": [],
   "source": []
  },
  {
   "cell_type": "code",
   "execution_count": 111,
   "id": "e0bca8cf-81aa-48ec-a676-8448c2d39e3f",
   "metadata": {},
   "outputs": [],
   "source": [
    "class InfoScraper:\n",
    "    def __init__(self, profile_url, logged_in_browser):\n",
    "        self.profile_id = Helper.get_profile_id_from_linkedin_url(profile_url)\n",
    "        self.profile_url = profile_url\n",
    "        self.browser = logged_in_browser\n",
    "        self.bs = self.setBroswerAndGetSoup()\n",
    "        self.basicProfileInfo = self.getBasicProfileInfo()\n",
    "        self.all_experiences = self.getAllExperieceInfo()\n",
    "        self.all_educations = self.getAllEducationInfo()\n",
    "        self.is_faculty = Helper.is_from_IIITA(self.all_experiences)\n",
    "        self.is_student = Helper.is_from_IIITA(self.all_educations)\n",
    "        self.profile_status = self.connectionStatus()\n",
    "\n",
    "    def setBroswerAndGetSoup(self):\n",
    "        self.browser.get(self.profile_url)\n",
    "        Helper.scroll(self.browser)\n",
    "        src = self.browser.page_source\n",
    "        soup = BeautifulSoup(src, 'lxml')\n",
    "        return soup\n",
    "\n",
    "    def refreshStatus(self):\n",
    "        self.bs = self.setBroswerAndGetSoup()\n",
    "        self.profile_status = self.connectionStatus()\n",
    "        \n",
    "    def connectionStatus(self):\n",
    "        bs = self.bs\n",
    "        actions_div = bs.find('div', {'class': 'pvs-profile-actions'})\n",
    "        if actions_div is None:\n",
    "            return \"Error\"\n",
    "        actions = actions_div.findAll('div', {'class': 'entry-point'})\n",
    "        if ' to connect' in str(actions_div):\n",
    "            return \"Not Connected\"\n",
    "        if 'Pending' in str(actions_div):\n",
    "            return \"Request Pending\"\n",
    "        if actions is None or len(actions) == 0:\n",
    "            return \"Unknown\"\n",
    "        return \"Connected\"\n",
    "\n",
    "    def getProfileName(self, bs):\n",
    "        name_div = bs.find('div', {'class': 'mt2 relative'})\n",
    "        name_loc = name_div.find_all('div')\n",
    "        name = name_loc[0].find('h1').get_text().strip()\n",
    "        return str(name)\n",
    "\n",
    "    def getProfileLocation(self, bs):\n",
    "        name_div = bs.find('div', {'class': 'mt2 relative'})\n",
    "        name_loc = name_div.find_all('div')\n",
    "        if len(name_loc) == 0:\n",
    "            return 'None'\n",
    "        loc = name_loc[-1].find('span').get_text().strip()\n",
    "        return str(loc)\n",
    "\n",
    "    def getBasicProfileInfo(self):\n",
    "        bs = self.bs\n",
    "        info = {}\n",
    "        info['Name'] = self.getProfileName(bs)\n",
    "        info['Location'] = self.getProfileLocation(bs)\n",
    "        return info\n",
    "    \n",
    "    def getExpURLID(self, bs):\n",
    "        ids = []\n",
    "        href_classes = bs.findAll('a', {'data-field': 'experience_company_logo'})\n",
    "        for href_class in href_classes:\n",
    "            if href_class is None:\n",
    "                continue\n",
    "            exp_url = href_class.attrs.get('href', None)\n",
    "            if exp_url is None:\n",
    "                continue\n",
    "            ids.append(exp_url)\n",
    "        return ids\n",
    "\n",
    "    def getExpTitle(self, all_exp_spans):\n",
    "        if len(all_exp_spans) < 2:\n",
    "            return 'None'\n",
    "        job_title = all_exp_spans[1].get_text().strip()\n",
    "        return str(job_title)\n",
    "\n",
    "    def getExpCompany(self, all_exp_spans):\n",
    "        if len(all_exp_spans) < 4:\n",
    "            return 'None'\n",
    "        double_text = str(all_exp_spans[3].get_text().strip())\n",
    "        strip_index = len(double_text)//2\n",
    "        company = double_text[0:strip_index].split(' · ')[0]\n",
    "        return str(company)\n",
    "\n",
    "    def getExpTimePeriod(self, all_exp_spans):\n",
    "        if len(all_exp_spans) < 7:\n",
    "            return 'None'\n",
    "        time_period = all_exp_spans[6].get_text().strip().split(' · ')[0]\n",
    "        return str(time_period)\n",
    "\n",
    "    def getExpInfo(self, exp):\n",
    "        info = {}\n",
    "        all_exp_spans = exp.find_all('span')\n",
    "        job_title = self.getExpTitle(all_exp_spans)\n",
    "        company = self.getExpCompany(all_exp_spans)\n",
    "        time_period = self.getExpTimePeriod(all_exp_spans)\n",
    "        \n",
    "        info['Job Title'] = job_title\n",
    "        info['Company'] = company\n",
    "        info['Time Period'] = time_period\n",
    "        return info\n",
    "        \n",
    "    def getExperienceSetions(self, bs):\n",
    "        profile_sections = bs.findAll('section')\n",
    "        exp_profile_section = None\n",
    "        for profile_section in profile_sections:\n",
    "            x = profile_section.find('div', {'id': 'experience'})\n",
    "            if x is not None:\n",
    "                exp_profile_section = profile_section\n",
    "                break\n",
    "        if exp_profile_section is None:\n",
    "            return {}\n",
    "        exp_sections = exp_profile_section.find_all('div', {'class': 'display-flex flex-column full-width align-self-center'})\n",
    "        return exp_sections\n",
    "\n",
    "    def getAllExperieceInfo(self):\n",
    "        bs = self.bs\n",
    "        all_experiences = []\n",
    "        company_ids = self.getExpURLID(bs)\n",
    "        exp_sections = self.getExperienceSetions(bs)\n",
    "        for exp in exp_sections:\n",
    "            all_experiences.append(self.getExpInfo(exp))\n",
    "        for i in range(len(all_experiences)):\n",
    "            if i >= len(company_ids):\n",
    "                all_experiences[i]['URL ID'] = 'None'\n",
    "                continue\n",
    "            all_experiences[i]['URL ID'] = str(company_ids[i])\n",
    "        return all_experiences\n",
    "\n",
    "    def getEduSchoolID(self, edu):\n",
    "        href_class = edu.findAll('a')\n",
    "        if href_class is None or len(href_class) == 0:\n",
    "            return 'None'\n",
    "        school_url = href_class[0].attrs.get('href', None)\n",
    "        if school_url is None:\n",
    "            return 'None'\n",
    "        return str(school_url)\n",
    "\n",
    "    def getEduSchool(self, all_edu_spans):\n",
    "        if len(all_edu_spans) < 2:\n",
    "            return 'None'\n",
    "        job_title = all_edu_spans[1].get_text().strip()\n",
    "        return str(job_title)\n",
    "\n",
    "    def getEduCourse(self, all_edu_spans):\n",
    "        if len(all_edu_spans) < 4:\n",
    "            return 'None'\n",
    "        course_and_discipline = all_edu_spans[4].get_text().strip().split(',')\n",
    "        if len(course_and_discipline) < 1:\n",
    "            return 'None'\n",
    "        course = course_and_discipline[0]\n",
    "        return str(course)\n",
    "\n",
    "    def getEduDiscipline(self, all_edu_spans):\n",
    "        if len(all_edu_spans) < 4:\n",
    "            return 'None'\n",
    "        line_text = all_edu_spans[4].get_text()\n",
    "        course_and_discipline = line_text.strip().split(',')\n",
    "        if len(course_and_discipline) < 2:\n",
    "            return 'None'\n",
    "        ind = line_text.find(', ')\n",
    "        discipline = line_text[ind+1:]\n",
    "        return str(discipline)\n",
    "\n",
    "    def getEduTimePeriod(self, all_edu_spans):\n",
    "        if len(all_edu_spans) < 8:\n",
    "            return 'None'\n",
    "        time_period = all_edu_spans[7].get_text().strip()\n",
    "        return str(time_period)\n",
    "\n",
    "    def getEduInfo(self, edu):\n",
    "        info = {}\n",
    "        # print(edu)\n",
    "        all_edu_spans = edu.find_all('span')\n",
    "        school_url_id = self.getEduSchoolID(edu)\n",
    "        school = self.getEduSchool(all_edu_spans)\n",
    "        course = self.getEduCourse(all_edu_spans)\n",
    "        discipline = self.getEduDiscipline(all_edu_spans)\n",
    "        time_period = self.getEduTimePeriod(all_edu_spans)\n",
    "        info['URL ID'] = school_url_id\n",
    "        info['Insititution'] = school\n",
    "        info['Course'] = course\n",
    "        info['Discipline'] = discipline\n",
    "        info['Time Period'] = time_period\n",
    "        return info\n",
    "        \n",
    "    def getEducationSetions(self, bs):\n",
    "        profile_sections = bs.findAll('section')\n",
    "        edu_profile_section = None\n",
    "        for profile_section in profile_sections:\n",
    "            x = profile_section.find('div', {'id': 'education'})\n",
    "            if x is not None:\n",
    "                edu_profile_section = profile_section\n",
    "                break\n",
    "        if edu_profile_section is None:\n",
    "            return {}\n",
    "        edu_sections = edu_profile_section.find_all('div', {'class': 'display-flex flex-column full-width align-self-center'})\n",
    "        return edu_sections\n",
    "\n",
    "    def getAllEducationInfo(self):\n",
    "        bs = self.bs\n",
    "        all_educations = []\n",
    "        edu_sections = self.getEducationSetions(bs)\n",
    "        for edu in edu_sections:\n",
    "            all_educations.append(self.getEduInfo(edu))\n",
    "        return all_educations"
   ]
  },
  {
   "cell_type": "code",
   "execution_count": null,
   "id": "b53ff0eb-9ba2-426c-834f-2a8af7dddc44",
   "metadata": {},
   "outputs": [],
   "source": []
  },
  {
   "cell_type": "code",
   "execution_count": 127,
   "id": "52f617f1-e8c8-4339-a3d1-b439ea1ab21a",
   "metadata": {},
   "outputs": [],
   "source": [
    "# profile_info = InfoScraper('https://www.linkedin.com/in/abhi4gupta/', browser)\n",
    "# profile_info = InfoScraper('https://www.linkedin.com/in/dr-sunny-sharma-64887918/', browser)\n",
    "purl = 'https://www.linkedin.com/in/anupam-agrawal-a822b011/'\n",
    "profile_info_2 = InfoScraper(purl, browser)\n",
    "all_profile_info[Helper.get_profile_id_from_linkedin_url(purl)] = profile_info_2"
   ]
  },
  {
   "cell_type": "code",
   "execution_count": 128,
   "id": "d01afd3f-f71f-4195-a073-89dd9a2bf36d",
   "metadata": {},
   "outputs": [
    {
     "name": "stdout",
     "output_type": "stream",
     "text": [
      "True\n"
     ]
    }
   ],
   "source": [
    "print(all_profile_info['/in/anupam-agrawal-a822b011/'].is_faculty)"
   ]
  },
  {
   "cell_type": "code",
   "execution_count": 129,
   "id": "4bdf702f-6709-4ec8-9569-84a0e432da4d",
   "metadata": {},
   "outputs": [
    {
     "name": "stdout",
     "output_type": "stream",
     "text": [
      "[{'URL ID': 'https://www.linkedin.com/search/results/all/?keywords=University+of+Bedfordshire%2C+United+Kingdom', 'Insititution': 'University of Bedfordshire, United Kingdom', 'Course': 'Post-Doctoral Research Fellow', 'Discipline': ' Computer Science', 'Time Period': '2007 - 2009'}, {'URL ID': 'https://www.linkedin.com/company/497317/', 'Insititution': 'Indian Institute Of Information Technology', 'Course': 'PhD', 'Discipline': ' Computer Science', 'Time Period': '2001 - 2006'}, {'URL ID': 'https://www.linkedin.com/search/results/all/?keywords=Indian+Institute+of+Technology+Madras', 'Insititution': 'Indian Institute of Technology Madras', 'Course': 'Master of Technology - MTech', 'Discipline': ' Computer Science', 'Time Period': '1993 - 1995'}]\n"
     ]
    }
   ],
   "source": [
    "print(profile_info_2.all_educations)"
   ]
  },
  {
   "cell_type": "code",
   "execution_count": 152,
   "id": "3be2a4a6-0dcb-4726-b4b1-0e2fc5a5f93b",
   "metadata": {},
   "outputs": [],
   "source": [
    "class MyProfile:\n",
    "    LINKEDIN_BASE_URL = 'https://www.linkedin.com'\n",
    "    def __init__(self, logged_in_browser):\n",
    "        self.browser = logged_in_browser\n",
    "        self.followers = self.getFollowersList()\n",
    "        self.iiit_student, self.iiit_faculty = self.getIIITList(self.followers)\n",
    "        \n",
    "    def getFollowersList(self):\n",
    "        followers_url = 'https://www.linkedin.com/feed/followers/'\n",
    "        browser.get(followers_url)\n",
    "        time.sleep(2)\n",
    "        src = browser.page_source\n",
    "        bs = BeautifulSoup(src, 'lxml')\n",
    "        lis = []\n",
    "        all_followers = bs.find('div', {'class': 'feed-following'})\n",
    "        if all_followers is None:\n",
    "            return lis\n",
    "        for each_follower in all_followers.findAll('a'):\n",
    "            follower_id = each_follower.get('href')\n",
    "            if follower_id is None:\n",
    "                continue\n",
    "            lis.append(follower_id)\n",
    "            profile_info = None\n",
    "            if follower_id not in all_profile_info:\n",
    "                profile_info = InfoScraper('https://www.linkedin.com'+follower_id, browser)\n",
    "            else:\n",
    "                profile_info = all_profile_info[follower_id]\n",
    "            all_profile_info[profile_info.profile_id] = profile_info\n",
    "        return list(set(list(lis)))\n",
    "    \n",
    "    def getIIITList(self, users):\n",
    "        stud = []\n",
    "        fac = []\n",
    "        for user in users:\n",
    "            print(user)\n",
    "            if user in all_profile_info:\n",
    "                if all_profile_info[user].is_student:\n",
    "                    stud.append(user)\n",
    "                if all_profile_info[user].is_faculty:\n",
    "                    fac.append(user)\n",
    "            else:\n",
    "                print('Not in dict')\n",
    "        return stud, fac\n",
    "    \n",
    "    def send_connection_request_with_text(self, profile_url, text):\n",
    "        self.browser.get(profile_url)\n",
    "        time.sleep(1)\n",
    "        src = self.browser.page_source\n",
    "        bs = BeautifulSoup(src, 'lxml')\n",
    "        \n",
    "        actions_divs = bs.findAll('div', {'class': 'pvs-profile-actions'})\n",
    "        if len(actions_divs) == 0:\n",
    "            return\n",
    "        ids = []\n",
    "        for actions_div in actions_divs:\n",
    "            buttons = actions_div.findAll('button')\n",
    "            if len(buttons) == 0:\n",
    "                continue\n",
    "            _id = None\n",
    "            for button in buttons:\n",
    "                cnnt = button.get('aria-label')\n",
    "                if cnnt is None:\n",
    "                    continue\n",
    "                if ' to connect' in str(cnnt):\n",
    "                    _id = button.get('id')\n",
    "                    break\n",
    "            if _id is None:\n",
    "                continue\n",
    "            ids.append(_id)\n",
    "        if len(ids) == 0:\n",
    "            return\n",
    "        self.browser.find_element_by_id(ids[-1]).click()\n",
    "        time.sleep(1)\n",
    "        src = self.browser.page_source\n",
    "        bs = BeautifulSoup(src, 'lxml')\n",
    "        _id = None\n",
    "        for x in bs.find_all('button'):\n",
    "            if x.get('aria-label') == 'Add a note':\n",
    "                _id = x.get('id')\n",
    "                break\n",
    "        if _id is None:\n",
    "            return\n",
    "        self.browser.find_element_by_id(_id).click()\n",
    "        time.sleep(1)\n",
    "        INV_REQUEST = text\n",
    "        elementID = browser.find_element_by_id('custom-message')\n",
    "        elementID.send_keys(INV_REQUEST)\n",
    "        \n",
    "        src = self.browser.page_source\n",
    "        bs = BeautifulSoup(src, 'lxml')\n",
    "        _id = None\n",
    "        for x in bs.find_all('button'):\n",
    "            if x.get('aria-label') == 'Send now':\n",
    "                _id = x.get('id')\n",
    "                break\n",
    "        if _id is None:\n",
    "            return\n",
    "        self.browser.find_element_by_id(_id).click()\n",
    "   \n",
    "    def send_text_to_connection(self, profile_url, text):\n",
    "        self.browser.get(profile_url)\n",
    "        # time.sleep(1)\n",
    "        src = self.browser.page_source\n",
    "        bs = BeautifulSoup(src, 'lxml')\n",
    "        x = bs.find('a', {'class': 'message-anywhere-button pvs-profile-actions__action artdeco-button'})\n",
    "        if x is None:\n",
    "            return\n",
    "        link = x.get('href')\n",
    "        if link is None:\n",
    "            return\n",
    "        full_link = 'https://www.linkedin.com' + link\n",
    "        self.browser.get(full_link)\n",
    "        time.sleep(1)\n",
    "\n",
    "        src = self.browser.page_source\n",
    "        bs = BeautifulSoup(src, 'lxml')\n",
    "\n",
    "        message_text = self.browser.find_element_by_css_selector('div.msg-form__contenteditable > p')\n",
    "        message_text.send_keys(text)\n",
    "        message_text.submit()\n",
    "        \n",
    "        time.sleep(3)\n",
    "\n",
    "    \n",
    "    def sendAnnouncement(self, users, inbox_text, connection_req_text):\n",
    "        for user in users:\n",
    "            profile_url = Helper.get_profile_url_from_id(user)\n",
    "            profile_info = None\n",
    "            if user not in all_profile_info:\n",
    "                profile_info = InfoScraper(profile_url, self.browser)\n",
    "                all_profile_info[user] = profile_info\n",
    "            else:\n",
    "                profile_info = all_profile_info[user]\n",
    "                profile_info.refreshStatus() # Refresh Status\n",
    "            if profile_info is None:\n",
    "                return\n",
    "            status = profile_info.profile_status\n",
    "            print(status)\n",
    "            if status == 'Connected':\n",
    "                self.send_text_to_connection(profile_url, inbox_text)\n",
    "            elif status == 'Not Connected':\n",
    "                self.send_connection_request_with_text(profile_url, connection_req_text)\n",
    "        return"
   ]
  },
  {
   "cell_type": "code",
   "execution_count": null,
   "id": "bc39aaf6-34d3-409a-84bc-a3919f8a66ec",
   "metadata": {},
   "outputs": [],
   "source": []
  },
  {
   "cell_type": "code",
   "execution_count": 153,
   "id": "d545edcd-63e0-4842-a0d4-8714c4b90d4d",
   "metadata": {},
   "outputs": [
    {
     "name": "stdout",
     "output_type": "stream",
     "text": [
      "/in/soumabrata-bhattacharya-9b190a1a9/\n",
      "/in/shubhankar-raj-457b30231/\n",
      "/in/shivam-gupta-52302516b/\n",
      "/in/abhi4gupta/\n",
      "/in/aniket-mallick-75572416b/\n",
      "/in/sankarsan-bhattacheryya-003526173/\n",
      "/in/harshit-narula-2a82ba162/\n",
      "/in/richik-bhattacharjee/\n",
      "/in/raunak-rathour-84a7b71aa/\n",
      "/in/harsh-arora-3a8a0a1a8/\n",
      "/in/utkarsh--priyam/\n",
      "/in/sougata-das-4132a616b/\n",
      "/in/utkarsh-pandey-95015b170/\n",
      "/in/shubham-kumar-7a75851a2/\n",
      "/in/mitali-seth-4649801a1/\n",
      "/in/isha-goel30/\n",
      "/in/sambuddha-koner-98732b206/\n",
      "/in/siddhi-singh-8653801b1/\n",
      "/in/prateek-m-058795114/\n",
      "/in/kapil-tomar-a2b31118b/\n"
     ]
    }
   ],
   "source": [
    "my_profile = MyProfile(browser)"
   ]
  },
  {
   "cell_type": "code",
   "execution_count": 154,
   "id": "38514c2e-e182-4a2d-9760-8507e8654a79",
   "metadata": {},
   "outputs": [
    {
     "name": "stdout",
     "output_type": "stream",
     "text": [
      "Connected\n"
     ]
    }
   ],
   "source": [
    "lis = ['/in/utkarsh--priyam/']\n",
    "my_profile.sendAnnouncement(lis, 'Text Sent!', 'Hi! Please accept my request')"
   ]
  },
  {
   "cell_type": "code",
   "execution_count": 121,
   "id": "8aedd326-38aa-43ff-916c-62c708ed14ad",
   "metadata": {},
   "outputs": [],
   "source": [
    "lis = my_profile.followers\n",
    "iiit_stu, iiit_fac = my_profile.getIIITList(lis)"
   ]
  },
  {
   "cell_type": "code",
   "execution_count": null,
   "id": "2224743c-d6e2-4261-b596-668e6a89d500",
   "metadata": {},
   "outputs": [],
   "source": []
  },
  {
   "cell_type": "code",
   "execution_count": 122,
   "id": "953afb2f-d710-4eca-bc05-7a786e911ed5",
   "metadata": {},
   "outputs": [
    {
     "name": "stdout",
     "output_type": "stream",
     "text": [
      "[]\n",
      "[]\n"
     ]
    }
   ],
   "source": [
    "print(iiit_stu)\n",
    "print(iiit_fac)"
   ]
  },
  {
   "cell_type": "code",
   "execution_count": 35,
   "id": "a3995626-72bf-4352-b674-13eb0b7b5bc3",
   "metadata": {},
   "outputs": [],
   "source": [
    "test_profile_urls = [\n",
    "    'https://www.linkedin.com/in/anupam-agrawal-a822b011/',\n",
    "    'https://www.linkedin.com/in/shivam-gupta-52302516b/',\n",
    "    'https://www.linkedin.com/in/isha-goel30/',\n",
    "    'https://www.linkedin.com/in/richik-bhattacharjee/',\n",
    "    'https://www.linkedin.com/in/sougata-das-4132a616b/',\n",
    "    'https://www.linkedin.com/in/abhi4gupta/',\n",
    "    'https://www.linkedin.com/in/dr-sunny-sharma-64887918/',\n",
    "    'https://www.linkedin.com/in/sankarsan-bhattacheryya-003526173/',\n",
    "    'https://www.linkedin.com/in/soumabrata-bhattacharya-9b190a1a9/',\n",
    "    'https://www.linkedin.com/in/arun-gangwar-14a428202/',\n",
    "    'https://www.linkedin.com/in/avijit-agarwal-06b495148/',\n",
    "    'https://www.linkedin.com/in/sanyam-garg-22a487135/',\n",
    "    'https://www.linkedin.com/in/prateek-m-058795114/',\n",
    "    'https://www.linkedin.com/in/anish-goswami-49a3b7185/',\n",
    "    'https://www.linkedin.com/in/pranal-maheshwari-31a850192/',\n",
    "    'https://www.linkedin.com/in/abhigyansharma29/',\n",
    "    'https://www.linkedin.com/in/blackdchase/',\n",
    "    'https://www.linkedin.com/in/raunak-rathour-84a7b71aa/',\n",
    "    'https://www.linkedin.com/in/utkarsh--priyam/',\n",
    "]"
   ]
  },
  {
   "cell_type": "code",
   "execution_count": 36,
   "id": "1b49317e-1abd-46aa-b563-7e5c4d179b87",
   "metadata": {},
   "outputs": [
    {
     "name": "stdout",
     "output_type": "stream",
     "text": [
      "['/in/anupam-agrawal-a822b011/', '/in/shivam-gupta-52302516b/', '/in/isha-goel30/', '/in/richik-bhattacharjee/', '/in/sougata-das-4132a616b/', '/in/abhi4gupta/', '/in/dr-sunny-sharma-64887918/', '/in/sankarsan-bhattacheryya-003526173/', '/in/soumabrata-bhattacharya-9b190a1a9/', '/in/arun-gangwar-14a428202/', '/in/avijit-agarwal-06b495148/', '/in/sanyam-garg-22a487135/', '/in/prateek-m-058795114/', '/in/anish-goswami-49a3b7185/', '/in/pranal-maheshwari-31a850192/', '/in/abhigyansharma29/', '/in/blackdchase/', '/in/raunak-rathour-84a7b71aa/', '/in/utkarsh--priyam/']\n"
     ]
    }
   ],
   "source": [
    "test_followers = [Helper.get_profile_id_from_linkedin_url(each_profile) for each_profile in test_profile_urls ]\n",
    "print(test_followers)"
   ]
  },
  {
   "cell_type": "code",
   "execution_count": 24,
   "id": "d2d492e6-7ea1-4aa4-bc01-cd06ab4b9bb7",
   "metadata": {},
   "outputs": [
    {
     "name": "stdout",
     "output_type": "stream",
     "text": [
      "/in/anupam-agrawal-a822b011/ \t, Student : True \t, Faculty : True\n",
      "/in/shivam-gupta-52302516b/ \t, Student : False \t, Faculty : False\n",
      "/in/isha-goel30/ \t, Student : False \t, Faculty : False\n",
      "/in/richik-bhattacharjee/ \t, Student : False \t, Faculty : False\n",
      "/in/sougata-das-4132a616b/ \t, Student : False \t, Faculty : False\n",
      "/in/abhi4gupta/ \t, Student : True \t, Faculty : False\n",
      "/in/dr-sunny-sharma-64887918/ \t, Student : False \t, Faculty : True\n",
      "/in/sankarsan-bhattacheryya-003526173/ \t, Student : False \t, Faculty : False\n",
      "/in/soumabrata-bhattacharya-9b190a1a9/ \t, Student : False \t, Faculty : False\n",
      "/in/arun-gangwar-14a428202/ \t, Student : False \t, Faculty : False\n",
      "/in/avijit-agarwal-06b495148/ \t, Student : False \t, Faculty : False\n",
      "/in/sanyam-garg-22a487135/ \t, Student : False \t, Faculty : False\n",
      "/in/prateek-m-058795114/ \t, Student : True \t, Faculty : False\n",
      "/in/anish-goswami-49a3b7185/ \t, Student : True \t, Faculty : False\n",
      "/in/pranal-maheshwari-31a850192/ \t, Student : True \t, Faculty : False\n",
      "/in/abhigyansharma29/ \t, Student : True \t, Faculty : False\n",
      "/in/blackdchase/ \t, Student : True \t, Faculty : False\n",
      "/in/raunak-rathour-84a7b71aa/ \t, Student : True \t, Faculty : False\n",
      "/in/utkarsh--priyam/ \t, Student : True \t, Faculty : False\n"
     ]
    }
   ],
   "source": [
    "# Run InfoScapper on list\n",
    "for profile_url in test_profile_urls:\n",
    "    profile_id = Helper.get_profile_id_from_linkedin_url(profile_url)\n",
    "    profile_info = None\n",
    "    if profile_id not in all_profile_info:\n",
    "        profile_info = InfoScraper(profile_url, browser)\n",
    "        all_profile_info[profile_id] = profile_info\n",
    "    else:\n",
    "        profile_info = all_profile_info[profile_id]\n",
    "    print(profile_id, '\\t, Student :', profile_info.is_student, '\\t, Faculty :', profile_info.is_faculty)"
   ]
  },
  {
   "cell_type": "code",
   "execution_count": 37,
   "id": "80d6cc83-99b9-4cea-b3fc-0eabbc3354d1",
   "metadata": {},
   "outputs": [],
   "source": [
    "class OtherProfileInfo:\n",
    "    def __init__(self, logged_in_browser):\n",
    "        self.browser = logged_in_browser\n",
    "        \n",
    "    def getPeopleAlsoViewedSection(self, bs):\n",
    "        profile_sections = bs.findAll('section')\n",
    "        req_profile_section = None\n",
    "        for profile_section in profile_sections:\n",
    "            if 'People also viewed' in str(profile_section):\n",
    "                return profile_section\n",
    "        return None\n",
    "\n",
    "    def getNewProfileIDs(self, profile, profilesQueued):\n",
    "        profilesID = []\n",
    "        bs = self.setBroswerAndGetSoup(profile)\n",
    "        people_also_viewed_section = self.getPeopleAlsoViewedSection(bs)\n",
    "        if people_also_viewed_section is None:\n",
    "            return None\n",
    "        all_links = people_also_viewed_section.findAll('a')\n",
    "        for link in all_links:\n",
    "            userID = link.get('href')\n",
    "            if((userID is not None) and (userID not in profilesQueued) and (userID not in visitedProfiles)):\n",
    "                profilesID.append(userID)\n",
    "        return profilesID\n",
    "    \n",
    "    def setBroswerAndGetSoup(self, profile):\n",
    "        self.browser.get(profile)\n",
    "        src = self.browser.page_source\n",
    "        soup = BeautifulSoup(src, 'lxml')\n",
    "        return soup\n"
   ]
  },
  {
   "cell_type": "code",
   "execution_count": 38,
   "id": "4aed89ff-e69e-4ebc-aa6e-ba776e43dbf1",
   "metadata": {},
   "outputs": [
    {
     "data": {
      "text/plain": [
       "['/in/abhi4gupta/',\n",
       " '/in/dakshita/',\n",
       " '/in/prachibindal/',\n",
       " '/in/naina-gupta-99a64317a/',\n",
       " '/in/muskan-maheshwari-1659aa190/']"
      ]
     },
     "execution_count": 38,
     "metadata": {},
     "output_type": "execute_result"
    }
   ],
   "source": [
    "other_profile = OtherProfileInfo(browser)\n",
    "visitedProfiles = []\n",
    "profilesQueued = []\n",
    "other_profile.getNewProfileIDs('https://www.linkedin.com/in/isha-goel30/', profilesQueued)"
   ]
  },
  {
   "cell_type": "code",
   "execution_count": 92,
   "id": "df9df31c-a3d5-4e22-b5df-0e9ab5fbab18",
   "metadata": {},
   "outputs": [],
   "source": [
    "import json"
   ]
  },
  {
   "cell_type": "code",
   "execution_count": 164,
   "id": "376bcc01-6a27-4f8f-acb3-7454f238f555",
   "metadata": {},
   "outputs": [],
   "source": [
    "global_profile_info = {}"
   ]
  },
  {
   "cell_type": "code",
   "execution_count": 161,
   "id": "2823e212-1f3b-44e7-b14c-ec09939b49ec",
   "metadata": {},
   "outputs": [],
   "source": [
    "class Exporter(object):\n",
    "    def __init__(self):\n",
    "        self.all_ids = []\n",
    "        self.csv_data = {}\n",
    "        \n",
    "#     def JSONimporter(self):\n",
    "        \n",
    "        \n",
    "    def JSONexporter(self, data = None, file='out.json'):\n",
    "        if data is None:\n",
    "            data = {}\n",
    "            lis = list(all_profile_info.keys())\n",
    "            for pid in lis:\n",
    "                data2 = {}\n",
    "                data2_info = {}\n",
    "                data2_edu = []\n",
    "                data2_exp = []\n",
    "                pobj = all_profile_info[pid]\n",
    "                bas_info = pobj.basicProfileInfo\n",
    "                data2_info['Name'] = bas_info['Name']\n",
    "                data2_info['Location'] = bas_info['Location']\n",
    "                    \n",
    "                for edu in pobj.all_educations:\n",
    "                    each_data2_edu = {}\n",
    "                    each_data2_edu['URL ID'] = edu['URL ID']\n",
    "                    each_data2_edu['Insititution'] = edu['Insititution']\n",
    "                    each_data2_edu['Course'] = edu['Course']\n",
    "                    each_data2_edu['Discipline'] = edu['Discipline']\n",
    "                    each_data2_edu['Time Period'] = edu['Time Period']\n",
    "                    data2_edu.append(each_data2_edu)\n",
    "                    \n",
    "                for exp in pobj.all_experiences:\n",
    "                    each_data2_exp = {}\n",
    "                    each_data2_exp['Job Title'] = exp['Job Title']\n",
    "                    each_data2_exp['Company'] = exp['Company']\n",
    "                    each_data2_exp['Time Period'] = exp['Time Period']\n",
    "                    data2_exp.append(each_data2_edu)\n",
    "                    \n",
    "                data2['Basic Info'] = data2_info\n",
    "                data2['Education'] = data2_edu\n",
    "                data2['Experience'] = data2_exp\n",
    "                data2['Is Student'] = pobj.is_student\n",
    "                data2['Is Faculty'] = pobj.is_faculty\n",
    "                data2['Connection Status'] = pobj.profile_status\n",
    "                data[pid] = data2\n",
    "        out_file = open(file, \"w\")\n",
    "        json.dump(data, out_file, indent = 6)\n",
    "        out_file.close()\n",
    "    \n",
    "    def fillData(self, lis):\n",
    "        if lis is None:\n",
    "            return {}\n",
    "        csv_data = {}\n",
    "        _profiles = []\n",
    "        _courses = []\n",
    "        _discipline = []\n",
    "        _time = []\n",
    "        for pid in lis:\n",
    "            pobj = all_profile_info[pid]\n",
    "            for edu in pobj.all_educations:\n",
    "                _profiles.append(Helper.get_profile_id_from_linkedin_url(pid))\n",
    "                _courses.append(edu['Course'])\n",
    "                _discipline.append(edu['Discipline'])\n",
    "                _time.append(edu['Time Period'])\n",
    "        csv_data['ProfileID'] = _profiles\n",
    "        csv_data['Course'] = _courses\n",
    "        csv_data['Discipline'] = _discipline\n",
    "        csv_data['Time Period'] = _time\n",
    "        return csv_data\n",
    "    \n",
    "    def saveXLSX(self, lis=None, name = 'out.xlsx'):\n",
    "        csv_data = self.fillData(lis)\n",
    "        if lis is None:\n",
    "            self.all_ids = list(all_profile_info.keys())\n",
    "            self.csv_data = self.fillData(self.all_ids)\n",
    "            csv_data = self.csv_data\n",
    "        df = pd.DataFrame(csv_data)\n",
    "        df.to_excel(name)"
   ]
  },
  {
   "cell_type": "code",
   "execution_count": 162,
   "id": "0a7207bf-4795-4515-80fb-97384bb164db",
   "metadata": {},
   "outputs": [],
   "source": [
    "exporter = Exporter()\n",
    "# exporter.saveXLSX(lis=test_followers, name='test2.xlsx')\n",
    "exporter.JSONexporter()"
   ]
  },
  {
   "cell_type": "code",
   "execution_count": 160,
   "id": "1b0c1d33-8e52-4859-b0e5-c5d98d49ba7e",
   "metadata": {},
   "outputs": [
    {
     "name": "stdout",
     "output_type": "stream",
     "text": [
      "['/in/anupam-agrawal-a822b011/', '/in/harsh-arora-3a8a0a1a8/', '/in/sambuddha-koner-98732b206/', '/in/kapil-tomar-a2b31118b/', '/in/mitali-seth-4649801a1/', '/in/utkarsh--priyam/', '/in/sankarsan-bhattacheryya-003526173/', '/in/prateek-m-058795114/', '/in/raunak-rathour-84a7b71aa/', '/in/harshit-narula-2a82ba162/', '/in/shubham-kumar-7a75851a2/', '/in/siddhi-singh-8653801b1/', '/in/isha-goel30/', '/in/abhi4gupta/', '/in/shivam-gupta-52302516b/', '/in/richik-bhattacharjee/', '/in/sougata-das-4132a616b/', '/in/utkarsh-pandey-95015b170/', '/in/aniket-mallick-75572416b/', '/in/abhirup-das-740981178/', '/in/subharoop-ghosh-943669150/', '/in/dr-sunny-sharma-64887918/', '/in/soumabrata-bhattacharya-9b190a1a9/', '/in/arun-gangwar-14a428202/', '/in/avijit-agarwal-06b495148/', '/in/sanyam-garg-22a487135/', '/in/anish-goswami-49a3b7185/', '/in/pranal-maheshwari-31a850192/', '/in/abhigyansharma29/', '/in/blackdchase/', '/in/shubhankar-raj-457b30231/', '/in/puja-kumari-948732181/']\n"
     ]
    }
   ],
   "source": [
    "print(list(all_profile_info.keys()))"
   ]
  },
  {
   "cell_type": "code",
   "execution_count": 86,
   "id": "d28f7b8e-4105-412e-b1b9-7ab5ac50d58e",
   "metadata": {},
   "outputs": [],
   "source": [
    "class ProfilesByFilter(object):\n",
    "    def __init__(self, logged_in_browser):\n",
    "        self.browser = logged_in_browser\n",
    "    \n",
    "    def getFilteredFaculty(self):\n",
    "        ids = []\n",
    "        for prof_id, prof_obj in iteritems(all_profile_info):\n",
    "            if prof_obj.is_faculty is True:\n",
    "                ids.append(prof_id)\n",
    "        return ids\n",
    "    \n",
    "    # def getFilteredCurrentStudent(self):\n",
    "    #     ids = []\n",
    "    #     for prof_id, prof_obj in iteritems(all_profile_info):\n",
    "    #         for edu in prof_obj.all_educations:\n",
    "    #             if edu['Time Period'] and ('bachelor' in edu['Course'].lower() or 'btech' in  edu['Course'].lower()):\n",
    "    #                 ids.append(prof_id)\n",
    "    #     return ids\n",
    "    \n",
    "    def getFilteredBranch(self, course):\n",
    "        ids = []\n",
    "        for prof_id, prof_obj in iteritems(all_profile_info):\n",
    "            if course == 'ug':\n",
    "                for edu in prof_obj.all_educations:\n",
    "                    if edu['Course'] and ('bachelor' in edu['Course'].lower() or 'btech' in  edu['Course'].lower()):\n",
    "                        ids.append(prof_id)\n",
    "            if course == 'pg':\n",
    "                for edu in prof_obj.all_educations:\n",
    "                    if edu['Course'] and ('master' in edu['Course'].lower() or 'mtech' in  edu['Course'].lower() or 'mba' in  edu['Course'].lower()):\n",
    "                        ids.append(prof_id)\n",
    "        return ids\n",
    "    \n",
    "    def getFilteredStudent(self):\n",
    "        ids = []\n",
    "        for prof_id, prof_obj in iteritems(all_profile_info):\n",
    "            if prof_obj.is_student is True:\n",
    "                ids.append(prof_id)\n",
    "        return ids\n",
    "    \n",
    "    def getFiltered(self, course = None, student = False, faculty = False):\n",
    "        if faculty is True:\n",
    "            return self.getFilteredFaculty()\n",
    "        if student is True:\n",
    "            return self.getFilteredStudent()\n",
    "        if course is not None:\n",
    "            return self.getFilteredBranch(course)\n",
    "        return []\n",
    "    "
   ]
  },
  {
   "cell_type": "code",
   "execution_count": 130,
   "id": "c0c672b5-acc2-4a4d-9bac-26dc68a8db62",
   "metadata": {},
   "outputs": [
    {
     "name": "stdout",
     "output_type": "stream",
     "text": [
      "['/in/anupam-agrawal-a822b011/', '/in/utkarsh--priyam/', '/in/prateek-m-058795114/', '/in/raunak-rathour-84a7b71aa/', '/in/abhi4gupta/', '/in/anish-goswami-49a3b7185/', '/in/pranal-maheshwari-31a850192/', '/in/abhigyansharma29/', '/in/blackdchase/']\n"
     ]
    }
   ],
   "source": [
    "filtered_profiles = ProfilesByFilter(browser)\n",
    "print(filtered_profiles.getFiltered(student = True))"
   ]
  },
  {
   "cell_type": "code",
   "execution_count": 88,
   "id": "e6798067-73d1-4599-bce3-b8bcd7fe7a81",
   "metadata": {},
   "outputs": [
    {
     "name": "stdout",
     "output_type": "stream",
     "text": [
      "['/in/harsh-arora-3a8a0a1a8/', '/in/sambuddha-koner-98732b206/', '/in/kapil-tomar-a2b31118b/', '/in/mitali-seth-4649801a1/', '/in/utkarsh--priyam/', '/in/sankarsan-bhattacheryya-003526173/', '/in/prateek-m-058795114/', '/in/raunak-rathour-84a7b71aa/', '/in/harshit-narula-2a82ba162/', '/in/shubham-kumar-7a75851a2/', '/in/siddhi-singh-8653801b1/', '/in/isha-goel30/', '/in/abhi4gupta/', '/in/richik-bhattacharjee/', '/in/sougata-das-4132a616b/', '/in/utkarsh-pandey-95015b170/', '/in/aniket-mallick-75572416b/', '/in/abhirup-das-740981178/', '/in/subharoop-ghosh-943669150/', '/in/soumabrata-bhattacharya-9b190a1a9/', '/in/arun-gangwar-14a428202/', '/in/sanyam-garg-22a487135/', '/in/anish-goswami-49a3b7185/', '/in/pranal-maheshwari-31a850192/', '/in/abhigyansharma29/', '/in/blackdchase/', '/in/shubhankar-raj-457b30231/']\n"
     ]
    }
   ],
   "source": [
    "ug_stu = filtered_profiles.getFiltered(course = 'ug')\n",
    "print(ug_stu)"
   ]
  },
  {
   "cell_type": "code",
   "execution_count": 131,
   "id": "4752fb77-94b7-4a9a-a424-4dc594eba8da",
   "metadata": {},
   "outputs": [],
   "source": [
    "exporter.saveXLSX(lis=ug_stu, name='ug_students.xlsx')"
   ]
  },
  {
   "cell_type": "code",
   "execution_count": 81,
   "id": "47d98e29-2933-4413-b512-0754ad662024",
   "metadata": {},
   "outputs": [],
   "source": [
    "import ipywidgets as widgets\n",
    "from IPython.display import display"
   ]
  },
  {
   "cell_type": "code",
   "execution_count": 82,
   "id": "7e28e8d4-53c4-46a9-a3f0-f24fe1daa774",
   "metadata": {},
   "outputs": [],
   "source": [
    "v = 'Hell'\n",
    "ALL = 'ALL'\n",
    "\n",
    "import pandas as pd\n",
    "import numpy as np\n",
    "df = pd.read_csv('test_linkedin.csv')"
   ]
  },
  {
   "cell_type": "code",
   "execution_count": 83,
   "id": "579896eb-44f0-4f2b-8fd3-94754d211694",
   "metadata": {},
   "outputs": [],
   "source": [
    "def unique_sorted_values_plus_ALL(array):\n",
    "    unique = array.unique().tolist()\n",
    "    unique.sort()\n",
    "    unique.insert(0, ALL)\n",
    "    return unique"
   ]
  },
  {
   "cell_type": "code",
   "execution_count": 62,
   "id": "45b4f8cf-f8a3-4401-81fc-af692df58586",
   "metadata": {},
   "outputs": [
    {
     "data": {
      "text/html": [
       "<div>\n",
       "<style scoped>\n",
       "    .dataframe tbody tr th:only-of-type {\n",
       "        vertical-align: middle;\n",
       "    }\n",
       "\n",
       "    .dataframe tbody tr th {\n",
       "        vertical-align: top;\n",
       "    }\n",
       "\n",
       "    .dataframe thead th {\n",
       "        text-align: right;\n",
       "    }\n",
       "</style>\n",
       "<table border=\"1\" class=\"dataframe\">\n",
       "  <thead>\n",
       "    <tr style=\"text-align: right;\">\n",
       "      <th></th>\n",
       "      <th>Name</th>\n",
       "      <th>Year</th>\n",
       "      <th>Course</th>\n",
       "      <th>PID</th>\n",
       "    </tr>\n",
       "  </thead>\n",
       "  <tbody>\n",
       "    <tr>\n",
       "      <th>0</th>\n",
       "      <td>Abhishek</td>\n",
       "      <td>2018</td>\n",
       "      <td>Bachelor of Technology - Btech</td>\n",
       "      <td>/in/abhi4gupta/</td>\n",
       "    </tr>\n",
       "    <tr>\n",
       "      <th>1</th>\n",
       "      <td>Ayush</td>\n",
       "      <td>2019</td>\n",
       "      <td>B.tech</td>\n",
       "      <td>/in/ayushraj0309/</td>\n",
       "    </tr>\n",
       "  </tbody>\n",
       "</table>\n",
       "</div>"
      ],
      "text/plain": [
       "       Name  Year                          Course                PID\n",
       "0  Abhishek  2018  Bachelor of Technology - Btech    /in/abhi4gupta/\n",
       "1     Ayush  2019                          B.tech  /in/ayushraj0309/"
      ]
     },
     "execution_count": 62,
     "metadata": {},
     "output_type": "execute_result"
    }
   ],
   "source": [
    "df"
   ]
  },
  {
   "cell_type": "code",
   "execution_count": 65,
   "id": "a0773bb1-a63f-4807-a908-8614d39ec3a6",
   "metadata": {},
   "outputs": [
    {
     "data": {
      "application/vnd.jupyter.widget-view+json": {
       "model_id": "b7cabe4860f9407dbdcfe6f1a1101570",
       "version_major": 2,
       "version_minor": 0
      },
      "text/plain": [
       "Label(value='Course')"
      ]
     },
     "metadata": {},
     "output_type": "display_data"
    },
    {
     "data": {
      "application/vnd.jupyter.widget-view+json": {
       "model_id": "bc0962f3cdbf444a8c8012a2360bacbc",
       "version_major": 2,
       "version_minor": 0
      },
      "text/plain": [
       "Text(value='')"
      ]
     },
     "metadata": {},
     "output_type": "display_data"
    },
    {
     "data": {
      "application/vnd.jupyter.widget-view+json": {
       "model_id": "4baaa289001e496faf176ca350fa9637",
       "version_major": 2,
       "version_minor": 0
      },
      "text/plain": [
       "Label(value='Year')"
      ]
     },
     "metadata": {},
     "output_type": "display_data"
    },
    {
     "data": {
      "application/vnd.jupyter.widget-view+json": {
       "model_id": "7b9c73473e9e43b4a09bf455b6cd6b39",
       "version_major": 2,
       "version_minor": 0
      },
      "text/plain": [
       "Text(value='')"
      ]
     },
     "metadata": {},
     "output_type": "display_data"
    },
    {
     "data": {
      "application/vnd.jupyter.widget-view+json": {
       "model_id": "4a33f055fab6429c8df6197fa024d4d0",
       "version_major": 2,
       "version_minor": 0
      },
      "text/plain": [
       "Button(description='Get filtered csv', style=ButtonStyle())"
      ]
     },
     "metadata": {},
     "output_type": "display_data"
    },
    {
     "data": {
      "application/vnd.jupyter.widget-view+json": {
       "model_id": "77097aa7bf0d457daff5bed9ad909129",
       "version_major": 2,
       "version_minor": 0
      },
      "text/plain": [
       "Label(value='')"
      ]
     },
     "metadata": {},
     "output_type": "display_data"
    }
   ],
   "source": [
    "from ipywidgets import widgets \n",
    "lbl1=widgets.Label('Course') \n",
    "display(lbl1) \n",
    "text1=widgets.Text() \n",
    "display(text1) \n",
    "lbl2=widgets.Label('Year') \n",
    "display(lbl2) \n",
    "text2=widgets.Text() \n",
    "display(text2) \n",
    "btn=widgets.Button(description=\"Get filtered csv\") \n",
    "display(btn) \n",
    "lbl3=widgets.Label()\n",
    "# display(df)\n",
    "display(lbl3)\n",
    "def filter(b):\n",
    "    _course = text1.value\n",
    "    _year = text2.value\n",
    "    print('l1'+text1.value+text2.value)\n",
    "    print(_course+_year)\n",
    "    x=text1.value\n",
    "    y=text2.value\n",
    "    # df = df[df.Year == y]\n",
    "    # display(df)\n",
    "    df2 = df\n",
    "    if  x!= '':\n",
    "        df2 = df[df.Year == int(y)]\n",
    "    if y != '':\n",
    "        df2 = df[df.Year == int(y)]\n",
    "    # display(df2)\n",
    "    # df = df[df.Year == int(y)]\n",
    "    pid_str =  ''\n",
    "    for pid in df2.PID:\n",
    "        pid_str += str(pid)\n",
    "    lbl3.value = pid_str\n",
    "    # display(df[df.Year == _year])\n",
    "    # lbl3.value=\"result= \"+str(x+y)\n",
    "    # lbl3.value=str(x+y)\n",
    "btn.on_click(filter)"
   ]
  },
  {
   "cell_type": "code",
   "execution_count": 137,
   "id": "c20e8d9b-6d93-4416-86ef-05e5478bed48",
   "metadata": {},
   "outputs": [
    {
     "name": "stdout",
     "output_type": "stream",
     "text": [
      "Not Connected\n"
     ]
    },
    {
     "ename": "NameError",
     "evalue": "name 'ids' is not defined",
     "output_type": "error",
     "traceback": [
      "\u001b[1;31m---------------------------------------------------------------------------\u001b[0m",
      "\u001b[1;31mNameError\u001b[0m                                 Traceback (most recent call last)",
      "\u001b[1;32m~\\AppData\\Local\\Temp/ipykernel_20284/3224328865.py\u001b[0m in \u001b[0;36m<module>\u001b[1;34m\u001b[0m\n\u001b[0;32m      1\u001b[0m \u001b[0mlis\u001b[0m \u001b[1;33m=\u001b[0m \u001b[1;33m[\u001b[0m\u001b[1;34m'/in/puja-kumari-948732181/'\u001b[0m\u001b[1;33m]\u001b[0m\u001b[1;33m\u001b[0m\u001b[1;33m\u001b[0m\u001b[0m\n\u001b[1;32m----> 2\u001b[1;33m \u001b[0mmy_profile\u001b[0m\u001b[1;33m.\u001b[0m\u001b[0msendAnnouncement\u001b[0m\u001b[1;33m(\u001b[0m\u001b[0mlis\u001b[0m\u001b[1;33m,\u001b[0m \u001b[1;34m'Text Sent!'\u001b[0m\u001b[1;33m,\u001b[0m \u001b[1;34m'Fuck utkarsh nigga!(obviously by utkarsh. Choti bacchi ho kya)'\u001b[0m\u001b[1;33m)\u001b[0m\u001b[1;33m\u001b[0m\u001b[1;33m\u001b[0m\u001b[0m\n\u001b[0m",
      "\u001b[1;32m~\\AppData\\Local\\Temp/ipykernel_20284/4125263962.py\u001b[0m in \u001b[0;36msendAnnouncement\u001b[1;34m(self, users, inbox_text, connection_req_text)\u001b[0m\n\u001b[0;32m    136\u001b[0m             \u001b[1;32melif\u001b[0m \u001b[0mstatus\u001b[0m \u001b[1;33m==\u001b[0m \u001b[1;34m'Not Connected'\u001b[0m\u001b[1;33m:\u001b[0m\u001b[1;33m\u001b[0m\u001b[1;33m\u001b[0m\u001b[0m\n\u001b[0;32m    137\u001b[0m                 \u001b[0mconnection_req_text\u001b[0m \u001b[1;33m=\u001b[0m \u001b[1;34m'Hi! Please accept my request'\u001b[0m\u001b[1;33m\u001b[0m\u001b[1;33m\u001b[0m\u001b[0m\n\u001b[1;32m--> 138\u001b[1;33m                 \u001b[0mself\u001b[0m\u001b[1;33m.\u001b[0m\u001b[0msend_connection_request_with_text\u001b[0m\u001b[1;33m(\u001b[0m\u001b[0mprofile_url\u001b[0m\u001b[1;33m,\u001b[0m \u001b[0mconnection_req_text\u001b[0m\u001b[1;33m)\u001b[0m\u001b[1;33m\u001b[0m\u001b[1;33m\u001b[0m\u001b[0m\n\u001b[0m\u001b[0;32m    139\u001b[0m         \u001b[1;32mreturn\u001b[0m\u001b[1;33m\u001b[0m\u001b[1;33m\u001b[0m\u001b[0m\n",
      "\u001b[1;32m~\\AppData\\Local\\Temp/ipykernel_20284/4125263962.py\u001b[0m in \u001b[0;36msend_connection_request_with_text\u001b[1;34m(self, profile_url, text)\u001b[0m\n\u001b[0;32m     62\u001b[0m             \u001b[1;32mif\u001b[0m \u001b[0m_id\u001b[0m \u001b[1;32mis\u001b[0m \u001b[1;32mNone\u001b[0m\u001b[1;33m:\u001b[0m\u001b[1;33m\u001b[0m\u001b[1;33m\u001b[0m\u001b[0m\n\u001b[0;32m     63\u001b[0m                 \u001b[1;32mcontinue\u001b[0m\u001b[1;33m\u001b[0m\u001b[1;33m\u001b[0m\u001b[0m\n\u001b[1;32m---> 64\u001b[1;33m             \u001b[0mids\u001b[0m\u001b[1;33m.\u001b[0m\u001b[0mappend\u001b[0m\u001b[1;33m(\u001b[0m\u001b[0m_id\u001b[0m\u001b[1;33m)\u001b[0m\u001b[1;33m\u001b[0m\u001b[1;33m\u001b[0m\u001b[0m\n\u001b[0m\u001b[0;32m     65\u001b[0m         \u001b[1;32mif\u001b[0m \u001b[0mlen\u001b[0m\u001b[1;33m(\u001b[0m\u001b[0mids\u001b[0m\u001b[1;33m)\u001b[0m \u001b[1;33m==\u001b[0m \u001b[1;36m0\u001b[0m\u001b[1;33m:\u001b[0m\u001b[1;33m\u001b[0m\u001b[1;33m\u001b[0m\u001b[0m\n\u001b[0;32m     66\u001b[0m             \u001b[1;32mreturn\u001b[0m\u001b[1;33m\u001b[0m\u001b[1;33m\u001b[0m\u001b[0m\n",
      "\u001b[1;31mNameError\u001b[0m: name 'ids' is not defined"
     ]
    }
   ],
   "source": [
    "lis = ['/in/puja-kumari-948732181/']\n",
    "my_profile.sendAnnouncement(lis, 'Text Sent!', 'Fuck utkarsh nigga!(obviously by utkarsh. Choti bacchi ho kya)')"
   ]
  },
  {
   "cell_type": "code",
   "execution_count": null,
   "id": "b4ef6f86-bd36-4736-ac6a-9252e9256366",
   "metadata": {},
   "outputs": [],
   "source": []
  }
 ],
 "metadata": {
  "kernelspec": {
   "display_name": "Python 3 (ipykernel)",
   "language": "python",
   "name": "python3"
  },
  "language_info": {
   "codemirror_mode": {
    "name": "ipython",
    "version": 3
   },
   "file_extension": ".py",
   "mimetype": "text/x-python",
   "name": "python",
   "nbconvert_exporter": "python",
   "pygments_lexer": "ipython3",
   "version": "3.7.2"
  }
 },
 "nbformat": 4,
 "nbformat_minor": 5
}
